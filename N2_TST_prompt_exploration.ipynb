{
 "cells": [
  {
   "cell_type": "code",
   "execution_count": 2,
   "id": "395c33ee-3b55-4797-b1f0-f3e7f1886575",
   "metadata": {
    "ExecuteTime": {
     "end_time": "2024-09-26T09:55:14.311309Z",
     "start_time": "2024-09-26T09:55:00.240083Z"
    }
   },
   "outputs": [],
   "source": [
    "import pandas as pd\n",
    "import os\n",
    "import sys\n",
    "import inspect\n",
    "import s2_tst as s2\n",
    "\n",
    "# access parent directory from notebooks directory\n",
    "currentdir = os.path.dirname(os.path.abspath(inspect.getfile(inspect.currentframe())))\n",
    "parentdir = os.path.dirname(currentdir)\n",
    "sys.path.insert(0, parentdir)\n",
    "%load_ext autoreload\n",
    "%autoreload 2\n",
    "%reload_ext autoreload"
   ]
  },
  {
   "cell_type": "code",
   "execution_count": 3,
   "id": "91dcffbb-5577-4fde-a984-16835f9f98af",
   "metadata": {
    "ExecuteTime": {
     "end_time": "2024-09-26T09:55:14.382247Z",
     "start_time": "2024-09-26T09:55:14.314740Z"
    }
   },
   "outputs": [
    {
     "data": {
      "text/plain": "    messageID                                            message\n0           0  Hello! I’m Sasha, nice to meet you! Over the n...\n1           1  Hey! Thanks for following along for the first ...\n2           2  Reducing how much meat we eat can help save a ...\n3           3  If everyone ate less animal foods, the CO2 fro...\n4           4  Animal farming is responsible for 80% of the l...\n5           5  80% of young people believe that living sustai...\n6           6  Reducing how much meat, dairy, and sugary food...\n7           7  Fruits and vegetables are filled with importan...\n8           8  Fiber is really important for keeping our stom...\n9           9  Vegetables and fruits have helpful plant subst...\n10         10  More than 70% of farm animals in the UK are ra...\n11         11  Most pigs and chickens in the UK are kept indo...",
      "text/html": "<div>\n<style scoped>\n    .dataframe tbody tr th:only-of-type {\n        vertical-align: middle;\n    }\n\n    .dataframe tbody tr th {\n        vertical-align: top;\n    }\n\n    .dataframe thead th {\n        text-align: right;\n    }\n</style>\n<table border=\"1\" class=\"dataframe\">\n  <thead>\n    <tr style=\"text-align: right;\">\n      <th></th>\n      <th>messageID</th>\n      <th>message</th>\n    </tr>\n  </thead>\n  <tbody>\n    <tr>\n      <th>0</th>\n      <td>0</td>\n      <td>Hello! I’m Sasha, nice to meet you! Over the n...</td>\n    </tr>\n    <tr>\n      <th>1</th>\n      <td>1</td>\n      <td>Hey! Thanks for following along for the first ...</td>\n    </tr>\n    <tr>\n      <th>2</th>\n      <td>2</td>\n      <td>Reducing how much meat we eat can help save a ...</td>\n    </tr>\n    <tr>\n      <th>3</th>\n      <td>3</td>\n      <td>If everyone ate less animal foods, the CO2 fro...</td>\n    </tr>\n    <tr>\n      <th>4</th>\n      <td>4</td>\n      <td>Animal farming is responsible for 80% of the l...</td>\n    </tr>\n    <tr>\n      <th>5</th>\n      <td>5</td>\n      <td>80% of young people believe that living sustai...</td>\n    </tr>\n    <tr>\n      <th>6</th>\n      <td>6</td>\n      <td>Reducing how much meat, dairy, and sugary food...</td>\n    </tr>\n    <tr>\n      <th>7</th>\n      <td>7</td>\n      <td>Fruits and vegetables are filled with importan...</td>\n    </tr>\n    <tr>\n      <th>8</th>\n      <td>8</td>\n      <td>Fiber is really important for keeping our stom...</td>\n    </tr>\n    <tr>\n      <th>9</th>\n      <td>9</td>\n      <td>Vegetables and fruits have helpful plant subst...</td>\n    </tr>\n    <tr>\n      <th>10</th>\n      <td>10</td>\n      <td>More than 70% of farm animals in the UK are ra...</td>\n    </tr>\n    <tr>\n      <th>11</th>\n      <td>11</td>\n      <td>Most pigs and chickens in the UK are kept indo...</td>\n    </tr>\n  </tbody>\n</table>\n</div>"
     },
     "execution_count": 3,
     "metadata": {},
     "output_type": "execute_result"
    }
   ],
   "source": [
    "neutral_messages = pd.read_csv('00_input_data/messages.csv')\n",
    "neutral_messages"
   ]
  },
  {
   "cell_type": "code",
   "outputs": [],
   "source": [
    "## TST \n",
    "\n",
    "prompt = \"\"\"\n",
    "Task: You are an expert in text style transfer. You will be provided with example sentences showcasing the conversational style of person X, along with corresponding sentences written without any style.\n",
    "Your task is to learn the conversational style of person X and rewrite a target text written without style in person X’s conversational style.\n",
    "\n",
    "Constraints:\n",
    "1. The rewritten target text must not deviate more than ±25% in length from the original target text.\n",
    "2. To replicate person X’s style, consider how they use function words (e.g., pronouns like \"I\", \"we\", \"you\"), their preferred tone (e.g., formality, analytical, or narrative), and other stylistic traits (e.g., emotional tone, complexity, common phrases/fillers, punctuation).\n",
    "3. Only include phrases, fillers, emoticons, or emojis explicitly used by person X in the example sentences.\n",
    "\n",
    "Here are example sentences without style: {}\n",
    "Here are example sentences rewritten in the style of person X: {}\n",
    "\n",
    "Here is the target text without any style: {}\n",
    "\n",
    "Result format in json:\n",
    "\"rewritten_sentence\": \"\",\n",
    "\"explanation\": \"\"\n",
    "\"\"\"\n",
    "\n",
    "\n",
    "prompt2 = \"\"\"\n",
    "Task: You are an expert in text style transfer. You will be provided with example sentences showcasing the conversational style of person X, along with corresponding sentences written without any style.\n",
    "Your task is to learn the conversational style of person X and rewrite a target text written without style in person X’s conversational style.\n",
    "\n",
    "Constraints:\n",
    "\n",
    "1. The rewritten target text must not deviate more than ±25% in length from the original target text.\n",
    "2. To replicate person X’s style, consider how they use function words (e.g., pronouns like \"I\", \"we\", \"you\"), their preferred tone (e.g., formality, analytical, or narrative), and other stylistic traits (e.g., emotional tone, complexity, common phrases/fillers, punctuation).\n",
    "3. Only include phrases, fillers, emoticons, or emojis explicitly used by person X in the example sentences.\n",
    "4. Don't use any variation of 'haha' in inappropriate places.\n",
    "\n",
    "Here are example sentences without style: {}\n",
    "Here are example sentences rewritten in the style of person X: {}\n",
    "\n",
    "Here is the target text without any style: {}\n",
    "\n",
    "Result format in json:\n",
    "\"rewritten_sentence\": \"\",\n",
    "\"explanation\": \"\"\n",
    "\"\"\"\n",
    "\n"
   ],
   "metadata": {
    "collapsed": false,
    "ExecuteTime": {
     "end_time": "2024-09-27T10:07:31.507431Z",
     "start_time": "2024-09-27T10:07:31.372224Z"
    }
   },
   "id": "c15b7f4fef61bc9c",
   "execution_count": 80
  },
  {
   "cell_type": "code",
   "outputs": [],
   "source": [],
   "metadata": {
    "collapsed": false,
    "ExecuteTime": {
     "end_time": "2024-09-27T09:58:25.802174Z",
     "start_time": "2024-09-27T09:58:25.797593Z"
    }
   },
   "id": "64f8e0d65810602e",
   "execution_count": 72
  },
  {
   "cell_type": "markdown",
   "source": [
    "## TST Mistral"
   ],
   "metadata": {
    "collapsed": false
   },
   "id": "829e9f740c92ec69"
  },
  {
   "cell_type": "code",
   "outputs": [],
   "source": [
    "# 'open-mistral-nemo', 'mistral-large-latest','gpt-4o-mini','gpt-4o'\n",
    "model = 'mistral-large-latest'"
   ],
   "metadata": {
    "collapsed": false,
    "ExecuteTime": {
     "end_time": "2024-09-27T10:07:40.272440Z",
     "start_time": "2024-09-27T10:07:40.234566Z"
    }
   },
   "id": "89373edf9fb084ea",
   "execution_count": 81
  },
  {
   "cell_type": "code",
   "outputs": [
    {
     "name": "stderr",
     "output_type": "stream",
     "text": [
      "100%|██████████| 8/8 [00:00<00:00, 2152.17it/s]\n"
     ]
    }
   ],
   "source": [
    "# all shots\n",
    "examples = pd.read_csv('01_processed_input_data/all_shots_data_mistral.csv')\n",
    "input_data = s2.get_df_tst(examples)\n"
   ],
   "metadata": {
    "collapsed": false,
    "ExecuteTime": {
     "end_time": "2024-09-27T10:07:41.099120Z",
     "start_time": "2024-09-27T10:07:41.045498Z"
    }
   },
   "id": "b56f6e2a036a4120",
   "execution_count": 82
  },
  {
   "cell_type": "code",
   "outputs": [
    {
     "name": "stderr",
     "output_type": "stream",
     "text": [
      "Processing LLM TST evaluation...: 100%|██████████| 3/3 [04:23<00:00, 87.68s/it]\n"
     ]
    }
   ],
   "source": [
    "# prompt 1\n",
    "tst_mistral = s2.llm_tst_exploration(input_data.iloc[[2,3,4]], neutral_messages, model, prompt, 'all')\n",
    "tst_mistral.to_csv('02_tst_exploration/'+model+'/'+'parallel_all_shots_exploration.csv')"
   ],
   "metadata": {
    "collapsed": false,
    "ExecuteTime": {
     "end_time": "2024-09-27T10:12:43.667739Z",
     "start_time": "2024-09-27T10:08:20.441601Z"
    }
   },
   "id": "b8d3287643194df8",
   "execution_count": 84
  },
  {
   "cell_type": "code",
   "outputs": [
    {
     "name": "stderr",
     "output_type": "stream",
     "text": [
      "Processing LLM TST evaluation...: 100%|██████████| 3/3 [04:11<00:00, 83.84s/it]\n"
     ]
    }
   ],
   "source": [
    "# prompt 2\n",
    "tst_mistral = s2.llm_tst_exploration(input_data.iloc[[2,3,4]], neutral_messages, model, prompt2, 'all')\n",
    "tst_mistral.to_csv('02_tst_exploration/'+model+'/'+'parallel_all_shots_exploration_strict.csv')"
   ],
   "metadata": {
    "collapsed": false,
    "ExecuteTime": {
     "end_time": "2024-09-27T10:16:55.365847Z",
     "start_time": "2024-09-27T10:12:43.671919Z"
    }
   },
   "id": "6847f83e6c897b3c",
   "execution_count": 85
  },
  {
   "cell_type": "markdown",
   "source": [
    "### postprocess tst output\n"
   ],
   "metadata": {
    "collapsed": false
   },
   "id": "e4d8a7d7d0672dc1"
  },
  {
   "cell_type": "code",
   "outputs": [
    {
     "name": "stdout",
     "output_type": "stream",
     "text": [
      "wronglyParsed:  0\n"
     ]
    }
   ],
   "source": [
    "tst_mistral = pd.read_csv(\"02_tst_exploration/mistral-large-latest/parallel_all_shots_exploration.csv\")\n",
    "df = s2.parse_tst_data(tst_mistral)\n",
    "df_temp = df[['promptID', 'model','shots', 'username', 'tst_id', 'message_id', 'neutral_message', 'tst_message', 'tst_explanation' ]]\n",
    "df_temp.to_csv('02_tst_exploration/mistral-large-latest/parallel_all_shots_exploration_processed.csv')"
   ],
   "metadata": {
    "collapsed": false,
    "ExecuteTime": {
     "end_time": "2024-09-27T11:28:00.525434Z",
     "start_time": "2024-09-27T11:27:59.018992Z"
    }
   },
   "id": "d5e85fa59e640efa",
   "execution_count": 86
  },
  {
   "cell_type": "code",
   "outputs": [
    {
     "name": "stdout",
     "output_type": "stream",
     "text": [
      "wronglyParsed:  0\n"
     ]
    }
   ],
   "source": [
    "tst_mistral = pd.read_csv(\"02_tst_exploration/mistral-large-latest/parallel_all_shots_exploration_strict.csv\")\n",
    "df = s2.parse_tst_data(tst_mistral)\n",
    "df_temp = df[['promptID', 'model','shots', 'username', 'tst_id', 'message_id', 'neutral_message', 'tst_message', 'tst_explanation' ]]\n",
    "df_temp.to_csv('02_tst_exploration/mistral-large-latest/parallel_all_shots_exploration_strict_processed.csv')"
   ],
   "metadata": {
    "collapsed": false,
    "ExecuteTime": {
     "end_time": "2024-09-27T11:28:02.888698Z",
     "start_time": "2024-09-27T11:28:02.818499Z"
    }
   },
   "id": "7fc4d336b5b26cc2",
   "execution_count": 87
  },
  {
   "cell_type": "markdown",
   "source": [
    "## TST GPT"
   ],
   "metadata": {
    "collapsed": false
   },
   "id": "f749585ab76cab1c"
  },
  {
   "cell_type": "code",
   "outputs": [],
   "source": [
    "# 'open-mistral-nemo', 'mistral-large-latest','gpt-4o-mini','gpt-4o'\n",
    "model = 'gpt-4o'"
   ],
   "metadata": {
    "collapsed": false,
    "ExecuteTime": {
     "end_time": "2024-09-27T09:29:59.763079Z",
     "start_time": "2024-09-27T09:29:59.702107Z"
    }
   },
   "id": "f254d50379efbe87",
   "execution_count": 63
  },
  {
   "cell_type": "code",
   "outputs": [
    {
     "name": "stderr",
     "output_type": "stream",
     "text": [
      "100%|██████████| 8/8 [00:00<00:00, 3032.76it/s]\n"
     ]
    }
   ],
   "source": [
    "# all shots\n",
    "examples = pd.read_csv('01_processed_input_data/all_shots_data_gpt.csv')\n",
    "input_data = s2.get_df_tst(examples)\n"
   ],
   "metadata": {
    "collapsed": false,
    "ExecuteTime": {
     "end_time": "2024-09-27T09:21:21.109940Z",
     "start_time": "2024-09-27T09:21:21.054110Z"
    }
   },
   "id": "2e9ea1300f28d005",
   "execution_count": 59
  },
  {
   "cell_type": "code",
   "outputs": [
    {
     "name": "stderr",
     "output_type": "stream",
     "text": [
      "Processing LLM TST evaluation...: 100%|██████████| 2/2 [02:07<00:00, 63.83s/it]\n"
     ]
    }
   ],
   "source": [
    "# prompt 1\n",
    "tst_gpt = s2.llm_tst_exploration(input_data.iloc[[2,4]], neutral_messages, model, prompt, 'all')\n",
    "tst_gpt.to_csv('02_tst_exploration/'+model+'/'+'parallel_all_shots_exploration.csv')"
   ],
   "metadata": {
    "collapsed": false,
    "ExecuteTime": {
     "end_time": "2024-09-27T09:23:31.711961Z",
     "start_time": "2024-09-27T09:21:23.978760Z"
    }
   },
   "id": "7e409ddcbeb9a3d5",
   "execution_count": 60
  },
  {
   "cell_type": "code",
   "outputs": [
    {
     "name": "stderr",
     "output_type": "stream",
     "text": [
      "Generating LLM TST Messages per Participant...: 100%|██████████| 8/8 [03:34<00:00, 26.85s/it]\n"
     ]
    }
   ],
   "source": [
    "# prompt 2\n",
    "tst_gpt = s2.llm_tst_exploration(input_data.iloc[[2,4]], neutral_messages, model, prompt2, 'all')\n",
    "tst_gpt.to_csv('02_tst_exploration/'+model+'/'+'parallel_all_shots_exploration_strict.csv')"
   ],
   "metadata": {
    "collapsed": false,
    "ExecuteTime": {
     "end_time": "2024-09-12T12:08:33.144292Z",
     "start_time": "2024-09-12T12:04:58.253694Z"
    }
   },
   "id": "3af73182d6c08fe0",
   "execution_count": 32
  },
  {
   "cell_type": "markdown",
   "source": [
    "### postprocess tst output"
   ],
   "metadata": {
    "collapsed": false
   },
   "id": "d51b62b98ea86287"
  },
  {
   "cell_type": "code",
   "outputs": [
    {
     "name": "stdout",
     "output_type": "stream",
     "text": [
      "wronglyParsed:  0\n"
     ]
    }
   ],
   "source": [
    "tst_gpt = pd.read_csv(\"02_tst_exploration/gpt-4o/parallel_all_shots_exploration.csv\")\n",
    "df = s2.parse_tst_data(tst_gpt)\n",
    "df_temp = df[['promptID', 'model','shots', 'username', 'tst_id', 'message_id', 'neutral_message', 'tst_message', 'tst_explanation' ]]\n",
    "df_temp.to_csv('02_tst_exploration/gpt-4o/parallel_all_shots_exploration_processed.csv')"
   ],
   "metadata": {
    "collapsed": false,
    "ExecuteTime": {
     "end_time": "2024-09-27T09:30:04.566684Z",
     "start_time": "2024-09-27T09:30:04.501671Z"
    }
   },
   "id": "b39cadcf6b6de8f5",
   "execution_count": 64
  },
  {
   "cell_type": "code",
   "outputs": [
    {
     "name": "stdout",
     "output_type": "stream",
     "text": [
      "wronglyParsed:  0\n"
     ]
    }
   ],
   "source": [
    "tst_gpt = pd.read_csv(\"02_tst_exploration/gpt-4o/parallel_all_shots_exploration_strict.csv\")\n",
    "df = s2.parse_tst_data(tst_gpt)\n",
    "df_temp = df[['promptID', 'model','shots', 'username', 'tst_id', 'message_id', 'neutral_message', 'tst_message', 'tst_explanation' ]]\n",
    "df_temp.to_csv('02_tst_exploration/gpt-4o/parallel_all_shots_exploration_strict_processed.csv')"
   ],
   "metadata": {
    "collapsed": false,
    "ExecuteTime": {
     "end_time": "2024-09-27T09:30:07.050266Z",
     "start_time": "2024-09-27T09:30:06.988480Z"
    }
   },
   "id": "b3a9e4e1bf7b1bf",
   "execution_count": 65
  },
  {
   "cell_type": "code",
   "outputs": [],
   "source": [],
   "metadata": {
    "collapsed": false
   },
   "id": "76b04b72a5591f68"
  }
 ],
 "metadata": {
  "kernelspec": {
   "name": "python3",
   "language": "python",
   "display_name": "Python 3 (ipykernel)"
  },
  "language_info": {
   "codemirror_mode": {
    "name": "ipython",
    "version": 3
   },
   "file_extension": ".py",
   "mimetype": "text/x-python",
   "name": "python",
   "nbconvert_exporter": "python",
   "pygments_lexer": "ipython3",
   "version": "3.11.7"
  }
 },
 "nbformat": 4,
 "nbformat_minor": 5
}
