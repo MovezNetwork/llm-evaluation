{
 "cells": [
  {
   "cell_type": "code",
   "execution_count": 3,
   "id": "bcc635030aa20c5",
   "metadata": {
    "collapsed": false,
    "ExecuteTime": {
     "end_time": "2024-09-20T13:58:59.228388Z",
     "start_time": "2024-09-20T13:58:53.599425Z"
    }
   },
   "outputs": [],
   "source": [
    "import pandas as pd\n",
    "import configparser\n",
    "import sys\n",
    "import os\n",
    "import inspect\n",
    "import s3_tst_evaluation as s3\n",
    "import random\n",
    "\n",
    "# access parent directory from notebooks directory\n",
    "currentdir = os.path.dirname(os.path.abspath(inspect.getfile(inspect.currentframe())))\n",
    "parentdir = os.path.dirname(currentdir)\n",
    "sys.path.insert(0, parentdir)\n",
    "%load_ext autoreload\n",
    "%autoreload 2\n",
    "%reload_ext autoreload"
   ]
  },
  {
   "cell_type": "code",
   "execution_count": 4,
   "id": "847533057e759c23",
   "metadata": {
    "collapsed": false,
    "ExecuteTime": {
     "end_time": "2024-09-20T13:58:59.270983Z",
     "start_time": "2024-09-20T13:58:59.231222Z"
    }
   },
   "outputs": [],
   "source": [
    "config = configparser.ConfigParser()\n",
    "# Read the configuration file\n",
    "config.read('config.ini')\n",
    "api_key_openai = config.get('credentials', 'api_key_openai')\n",
    "api_key_mistral = config.get('credentials', 'api_key_mistral')\n",
    "surfdrive_url_transcript_sentences = config.get('credentials', 'surfdrive_url_transcript_sentences')\n",
    "\n",
    "output_evaluation_folder_path = '03_tst_evaluation/'"
   ]
  },
  {
   "cell_type": "markdown",
   "id": "2c3f17f76cbbd2ed",
   "metadata": {
    "collapsed": false
   },
   "source": [
    "### Input"
   ]
  },
  {
   "cell_type": "code",
   "outputs": [],
   "source": [
    "## TST accuracy\n",
    "\n",
    "prompt = \"\"\"\n",
    "You are a linguistics expert. Your goal is to assess which message most closely matches the conversational style of person X.\n",
    "\n",
    "Here is an example sentence from person X: {}\n",
    "\n",
    "Messages for comparison:\n",
    "Here is message A: {}\n",
    "Here is message B: {}\n",
    "\n",
    "Determine which message, A or B, is more likely to have been written by person X based on their conversational style. Consider the use of function words (e.g., pronouns like \"I\", \"we\", \"you\"), tone (e.g., formality, analytical vs. narrative style), and other stylistic features (e.g., emotional tone, complexity, frequently used phrases, fillers, punctuation).\n",
    "\n",
    "Return results format in a json object as: {\"answer\"= [A or B], \"explanation\"=\"\"}\n",
    "\"\"\"\n",
    "\n",
    "\n",
    "prompt_system = \"\"\"\n",
    "You are a linguistics expert. Your goal is to assess how similar the conversational style of example sentences from person X and the target message are. For conversational style, please consider 1. how person X uses function words (e.g., pronouns such as \"I\", \"we\", \"you\"), 2. which tone person X prefers (e.g., formal/informal vs. analytical vs. narrative), 3. often used stylistic words (e.g., phrases, fillers words), 4. emoji or emoticon-use in the provided example sentences and 5. other stylistic characteristics you find.\n",
    "Determine on a discrete scale from 1 to 5 the style similarity between the example sentences and the target message, where [1 = completely different styles, 2 = different styles, 3 = not identical nor different styles, 4 = identical styles, 5 = completely identical styles]?\n",
    "Return results in a json object as: {\"score\"=\"\", \"explanation\"=\"\"}\n",
    "\"\"\"\n",
    "prompt_user = \"\"\"\n",
    "Here are the example sentences from person X: {}\n",
    "\n",
    "Here is the target message: {}\n",
    "\"\"\"\n",
    "\n"
   ],
   "metadata": {
    "collapsed": false,
    "ExecuteTime": {
     "end_time": "2024-10-01T11:45:23.625138Z",
     "start_time": "2024-10-01T11:45:22.553725Z"
    }
   },
   "id": "6a66f83cd57e211e",
   "execution_count": 142
  },
  {
   "cell_type": "markdown",
   "source": [
    "#### Create random sets to compare messages "
   ],
   "metadata": {
    "collapsed": false
   },
   "id": "893867ae4424fbb6"
  },
  {
   "cell_type": "code",
   "outputs": [
    {
     "name": "stdout",
     "output_type": "stream",
     "text": [
      "   user_message_A user_message_B  message_id\n",
      "0            BU01           BU02           2\n",
      "1            BU01           BU06           3\n",
      "2            BU01           BU03           4\n",
      "3            BU01           BU05           5\n",
      "4            BU01           BU06           6\n",
      "..            ...            ...         ...\n",
      "75           BU08           BU07           7\n",
      "76           BU08           BU07           8\n",
      "77           BU08           BU01           9\n",
      "78           BU08           BU06          10\n",
      "79           BU08           BU07          11\n",
      "\n",
      "[80 rows x 3 columns]\n"
     ]
    }
   ],
   "source": [
    "random.seed(43)\n",
    "# List of sets\n",
    "sets = ['BU01', 'BU02', 'BU03', 'BU04', 'BU05', 'BU06', 'BU07', 'BU08']\n",
    "\n",
    "# Dictionary to hold matches for each set\n",
    "matches = {set_name: random.choices([s for s in sets if s != set_name], k=10) for set_name in sets}\n",
    "\n",
    "# Creating a list of match pairs\n",
    "match_pairs = []\n",
    "\n",
    "# Generate match pairs for each set\n",
    "for set_name in sets:\n",
    "    for match in matches[set_name]:\n",
    "        match_pairs.append([set_name, match])\n",
    "\n",
    "# Convert the list of match pairs to a DataFrame with two columns: Message A and Message B\n",
    "df_evaluation_accuracy = pd.DataFrame(match_pairs, columns=['user_message_A', 'user_message_B'])\n",
    "\n",
    "# Add 'Message ID' column that runs from 2 to 11 repeatedly\n",
    "df_evaluation_accuracy['message_id'] = [i % 10 + 2 for i in range(len(df_evaluation_accuracy))]\n",
    "\n",
    "# Display the DataFrame\n",
    "print(df_evaluation_accuracy)\n",
    "\n",
    "df_evaluation_accuracy.to_csv(\"03_tst_evaluation/random_user_matching.csv\", index=False)"
   ],
   "metadata": {
    "collapsed": false,
    "ExecuteTime": {
     "end_time": "2024-09-24T10:22:42.568422Z",
     "start_time": "2024-09-24T10:22:41.440157Z"
    }
   },
   "id": "858e6f26db591ed4",
   "execution_count": 72
  },
  {
   "cell_type": "markdown",
   "source": [
    "### Evaluation Accuracy - Message comparison head-to-head"
   ],
   "metadata": {
    "collapsed": false
   },
   "id": "60fe0eed6dc4f12d"
  },
  {
   "cell_type": "markdown",
   "source": [
    "### GPT all shots"
   ],
   "metadata": {
    "collapsed": false
   },
   "id": "100d6a21346d9080"
  },
  {
   "cell_type": "code",
   "outputs": [],
   "source": [
    "example_messages_file = pd.read_csv('01_processed_input_data/all_shots_data_gpt.csv')"
   ],
   "metadata": {
    "collapsed": false,
    "ExecuteTime": {
     "end_time": "2024-09-26T13:31:01.020824Z",
     "start_time": "2024-09-26T13:31:00.955935Z"
    }
   },
   "id": "d7d1f7f52907fa85",
   "execution_count": 140
  },
  {
   "cell_type": "code",
   "outputs": [
    {
     "name": "stderr",
     "output_type": "stream",
     "text": [
      "Processing LLM TST evaluation...: 100%|██████████| 80/80 [03:54<00:00,  2.93s/it]\n"
     ]
    }
   ],
   "source": [
    "# GPT all shots\n",
    "tst_output = pd.read_csv('02_tst_output/gpt-4o/parallel_all_shots_processed.csv')\n",
    "df = s3.get_df_eval_acc(df_evaluation_accuracy, tst_output, example_messages_file)\n",
    "gpt_all = s3.tst_eval(prompt, df, 'gpt-4o', 'all')\n"
   ],
   "metadata": {
    "collapsed": false,
    "ExecuteTime": {
     "end_time": "2024-09-24T12:30:12.737886Z",
     "start_time": "2024-09-24T12:26:17.724849Z"
    }
   },
   "id": "582954763e143677",
   "execution_count": 110
  },
  {
   "cell_type": "code",
   "outputs": [
    {
     "name": "stdout",
     "output_type": "stream",
     "text": [
      "wronglyParsed:  0\n"
     ]
    }
   ],
   "source": [
    "gpt_all_parsed = s3.parse_tst_data(gpt_all)\n",
    "df_temp = gpt_all_parsed[['model', 'shots', 'message_id', 'user_mA', 'user_mB', 'message_A', 'message_B', 'score', 'explanation' ]]\n",
    "df_temp.to_csv('03_tst_evaluation/tst_eval_gpt-4o_all_processed.csv')"
   ],
   "metadata": {
    "collapsed": false,
    "ExecuteTime": {
     "end_time": "2024-09-24T12:46:26.544609Z",
     "start_time": "2024-09-24T12:46:26.404594Z"
    }
   },
   "id": "a9212f4fed439cbc",
   "execution_count": 113
  },
  {
   "cell_type": "code",
   "outputs": [
    {
     "name": "stdout",
     "output_type": "stream",
     "text": [
      "  user_mA  score_num                 model shots\n",
      "0    BU01          3  mistral-large-latest   all\n",
      "1    BU02          6  mistral-large-latest   all\n",
      "2    BU03          0  mistral-large-latest   all\n",
      "3    BU04          2  mistral-large-latest   all\n",
      "4    BU05          2  mistral-large-latest   all\n",
      "5    BU06          5  mistral-large-latest   all\n",
      "6    BU07          4  mistral-large-latest   all\n",
      "7    BU08          3  mistral-large-latest   all\n",
      "3.125\n"
     ]
    },
    {
     "name": "stderr",
     "output_type": "stream",
     "text": [
      "/Users/davidblok/Work EUR/GitHub/llm-evaluation/s3_tst_evaluation.py:150: SettingWithCopyWarning: \n",
      "A value is trying to be set on a copy of a slice from a DataFrame.\n",
      "Try using .loc[row_indexer,col_indexer] = value instead\n",
      "\n",
      "See the caveats in the documentation: https://pandas.pydata.org/pandas-docs/stable/user_guide/indexing.html#returning-a-view-versus-a-copy\n",
      "  \n"
     ]
    }
   ],
   "source": [
    "summary = s3.eval_summary(df_temp)\n",
    "print(summary)\n",
    "print(summary['score_num'].mean())"
   ],
   "metadata": {
    "collapsed": false,
    "ExecuteTime": {
     "end_time": "2024-09-26T09:28:39.879226Z",
     "start_time": "2024-09-26T09:28:39.314766Z"
    }
   },
   "id": "7a2bda5ff998b200",
   "execution_count": 136
  },
  {
   "cell_type": "code",
   "outputs": [
    {
     "name": "stderr",
     "output_type": "stream",
     "text": [
      "Processing LLM TST evaluation...: 100%|██████████| 80/80 [03:47<00:00,  2.84s/it]\n"
     ]
    }
   ],
   "source": [
    "# GPT all shots\n",
    "tst_output = pd.read_csv('02_tst_output/gpt-4o/parallel_all_shots_processed.csv')\n",
    "df = s3.get_df_eval_acc(df_evaluation_accuracy, tst_output, example_messages_file)\n",
    "gpt_all = s3.tst_eval(prompt, df, 'gpt-4o', 'all')"
   ],
   "metadata": {
    "collapsed": false,
    "ExecuteTime": {
     "end_time": "2024-09-25T14:40:22.314672Z",
     "start_time": "2024-09-25T14:36:33.528181Z"
    }
   },
   "id": "16c5a7adb4bdb33a",
   "execution_count": 125
  },
  {
   "cell_type": "code",
   "outputs": [
    {
     "name": "stdout",
     "output_type": "stream",
     "text": [
      "wronglyParsed:  0\n",
      "  user_mA  correct_answer              model shots\n",
      "0    BU01               4  gpt-4o-2024-05-13   all\n",
      "1    BU02              10  gpt-4o-2024-05-13   all\n",
      "2    BU03               3  gpt-4o-2024-05-13   all\n",
      "3    BU04               2  gpt-4o-2024-05-13   all\n",
      "4    BU05               3  gpt-4o-2024-05-13   all\n",
      "5    BU06               5  gpt-4o-2024-05-13   all\n",
      "6    BU07               1  gpt-4o-2024-05-13   all\n",
      "7    BU08               4  gpt-4o-2024-05-13   all\n"
     ]
    },
    {
     "name": "stderr",
     "output_type": "stream",
     "text": [
      "/var/folders/z2/s9qy78ps1kl1_9g5fgzy5tgw0000gn/T/ipykernel_44921/1984960726.py:4: SettingWithCopyWarning: \n",
      "A value is trying to be set on a copy of a slice from a DataFrame.\n",
      "Try using .loc[row_indexer,col_indexer] = value instead\n",
      "\n",
      "See the caveats in the documentation: https://pandas.pydata.org/pandas-docs/stable/user_guide/indexing.html#returning-a-view-versus-a-copy\n",
      "  df_temp.loc[:, 'correct_answer'] = df_temp['score'].str.count('A')\n"
     ]
    },
    {
     "data": {
      "text/plain": "4.0"
     },
     "execution_count": 128,
     "metadata": {},
     "output_type": "execute_result"
    }
   ],
   "source": [
    "gpt_all_parsed = s3.parse_tst_data(gpt_all)\n",
    "df_temp = gpt_all_parsed[['model', 'shots', 'message_id', 'user_mA', 'user_mB', 'message_A', 'message_B', 'score', 'explanation' ]]\n",
    "df_temp.to_csv('03_tst_evaluation/tst_eval_gpt-4o_all_processed_02.csv')\n",
    "df_temp.loc[:, 'correct_answer'] = df_temp['score'].str.count('A')\n",
    "\n",
    "summary = df_temp.groupby('user_mA').agg({\n",
    "    'correct_answer': 'sum',        # Sum the counts of 'hello'\n",
    "    'model': 'first',   # Keep the first location (same value for all rows in each group)\n",
    "    'shots': 'first'      # Keep the first status (same value for all rows in each group)\n",
    "}).reset_index()\n",
    "print(summary)\n",
    "\n",
    "summary['correct_answer'].mean()"
   ],
   "metadata": {
    "collapsed": false,
    "ExecuteTime": {
     "end_time": "2024-09-25T14:42:14.021921Z",
     "start_time": "2024-09-25T14:42:13.948542Z"
    }
   },
   "id": "58bbef21d6bdb89c",
   "execution_count": 128
  },
  {
   "cell_type": "markdown",
   "source": [
    "### GPT 20 shots"
   ],
   "metadata": {
    "collapsed": false
   },
   "id": "d05756c9ed84d349"
  },
  {
   "cell_type": "code",
   "outputs": [
    {
     "name": "stderr",
     "output_type": "stream",
     "text": [
      "Processing LLM TST evaluation...: 100%|██████████| 80/80 [04:01<00:00,  3.02s/it]\n"
     ]
    },
    {
     "data": {
      "text/plain": "                model shots  message_id user_mA user_mB  \\\n0   gpt-4o-2024-05-13    20           2    BU01    BU02   \n1   gpt-4o-2024-05-13    20           3    BU01    BU06   \n2   gpt-4o-2024-05-13    20           4    BU01    BU03   \n3   gpt-4o-2024-05-13    20           5    BU01    BU05   \n4   gpt-4o-2024-05-13    20           6    BU01    BU06   \n..                ...   ...         ...     ...     ...   \n75  gpt-4o-2024-05-13    20           7    BU08    BU07   \n76  gpt-4o-2024-05-13    20           8    BU08    BU07   \n77  gpt-4o-2024-05-13    20           9    BU08    BU01   \n78  gpt-4o-2024-05-13    20          10    BU08    BU06   \n79  gpt-4o-2024-05-13    20          11    BU08    BU07   \n\n                                            message_A  \\\n0   Reducing how much meat we eat can help save a ...   \n1   If everyone ate less animal foods, the CO2 fro...   \n2   Animal farming is responsible for like 80% of ...   \n3   80% of young people think that living sustaina...   \n4   Cutting down on meat, dairy, and sugary foods ...   \n..                                                ...   \n75  Fruits and veggies are packed with important n...   \n76  Fiber is super important for keeping our stoma...   \n77  Veggies and fruits have these awesome plant su...   \n78  More than 70% of farm animals in the UK are ra...   \n79  Most pigs and chickens in the UK are kept indo...   \n\n                                            message_B  \\\n0   so reducing how much meat we eat can help save...   \n1   if everyone ate less animal foods, the CO2 fro...   \n2   Animal farming is responsible for 80% of the l...   \n3   80% of young people believe that living sustai...   \n4   so reducing how much meat, dairy, and sugary f...   \n..                                                ...   \n75  Fruits and veggies are packed with important n...   \n76  Fiber is super important for keeping our stoma...   \n77  Veggies and fruits have these awesome plant su...   \n78  so more than 70% of farm animals in the UK are...   \n79  Most pigs and chickens in the UK are kept indo...   \n\n                                             tst_eval  \\\n0   {\\n  \"answer\": \"B\",\\n  \"explanation\": \"Message...   \n1   {\\n  \"answer\": \"B\",\\n  \"explanation\": \"Message...   \n2   {\\n  \"answer\": \"A\",\\n  \"explanation\": \"Message...   \n3   {\\n  \"answer\": \"A\",\\n  \"explanation\": \"Message...   \n4   {\\n  \"answer\": \"B\",\\n  \"explanation\": \"Message...   \n..                                                ...   \n75  {\\n  \"answer\": \"B\",\\n  \"explanation\": \"Message...   \n76  {\\n  \"answer\": \"A\",\\n  \"explanation\": \"Message...   \n77  {\\n  \"answer\": \"B\",\\n  \"explanation\": \"Message...   \n78  {\\n  \"answer\": \"B\",\\n  \"explanation\": \"Message...   \n79  {\\n  \"answer\": \"B\",\\n  \"explanation\": \"Message...   \n\n                                                query  prompt_tokens  \\\n0   \\nTask: You are a linguistics expert. Your goa...           1003   \n1   \\nTask: You are a linguistics expert. Your goa...           1029   \n2   \\nTask: You are a linguistics expert. Your goa...           1006   \n3   \\nTask: You are a linguistics expert. Your goa...            960   \n4   \\nTask: You are a linguistics expert. Your goa...            977   \n..                                                ...            ...   \n75  \\nTask: You are a linguistics expert. Your goa...            978   \n76  \\nTask: You are a linguistics expert. Your goa...            989   \n77  \\nTask: You are a linguistics expert. Your goa...           1004   \n78  \\nTask: You are a linguistics expert. Your goa...           1007   \n79  \\nTask: You are a linguistics expert. Your goa...            985   \n\n    completion_tokens           object  \n0                 110  chat.completion  \n1                  85  chat.completion  \n2                 121  chat.completion  \n3                 146  chat.completion  \n4                 129  chat.completion  \n..                ...              ...  \n75                171  chat.completion  \n76                129  chat.completion  \n77                129  chat.completion  \n78                136  chat.completion  \n79                125  chat.completion  \n\n[80 rows x 12 columns]",
      "text/html": "<div>\n<style scoped>\n    .dataframe tbody tr th:only-of-type {\n        vertical-align: middle;\n    }\n\n    .dataframe tbody tr th {\n        vertical-align: top;\n    }\n\n    .dataframe thead th {\n        text-align: right;\n    }\n</style>\n<table border=\"1\" class=\"dataframe\">\n  <thead>\n    <tr style=\"text-align: right;\">\n      <th></th>\n      <th>model</th>\n      <th>shots</th>\n      <th>message_id</th>\n      <th>user_mA</th>\n      <th>user_mB</th>\n      <th>message_A</th>\n      <th>message_B</th>\n      <th>tst_eval</th>\n      <th>query</th>\n      <th>prompt_tokens</th>\n      <th>completion_tokens</th>\n      <th>object</th>\n    </tr>\n  </thead>\n  <tbody>\n    <tr>\n      <th>0</th>\n      <td>gpt-4o-2024-05-13</td>\n      <td>20</td>\n      <td>2</td>\n      <td>BU01</td>\n      <td>BU02</td>\n      <td>Reducing how much meat we eat can help save a ...</td>\n      <td>so reducing how much meat we eat can help save...</td>\n      <td>{\\n  \"answer\": \"B\",\\n  \"explanation\": \"Message...</td>\n      <td>\\nTask: You are a linguistics expert. Your goa...</td>\n      <td>1003</td>\n      <td>110</td>\n      <td>chat.completion</td>\n    </tr>\n    <tr>\n      <th>1</th>\n      <td>gpt-4o-2024-05-13</td>\n      <td>20</td>\n      <td>3</td>\n      <td>BU01</td>\n      <td>BU06</td>\n      <td>If everyone ate less animal foods, the CO2 fro...</td>\n      <td>if everyone ate less animal foods, the CO2 fro...</td>\n      <td>{\\n  \"answer\": \"B\",\\n  \"explanation\": \"Message...</td>\n      <td>\\nTask: You are a linguistics expert. Your goa...</td>\n      <td>1029</td>\n      <td>85</td>\n      <td>chat.completion</td>\n    </tr>\n    <tr>\n      <th>2</th>\n      <td>gpt-4o-2024-05-13</td>\n      <td>20</td>\n      <td>4</td>\n      <td>BU01</td>\n      <td>BU03</td>\n      <td>Animal farming is responsible for like 80% of ...</td>\n      <td>Animal farming is responsible for 80% of the l...</td>\n      <td>{\\n  \"answer\": \"A\",\\n  \"explanation\": \"Message...</td>\n      <td>\\nTask: You are a linguistics expert. Your goa...</td>\n      <td>1006</td>\n      <td>121</td>\n      <td>chat.completion</td>\n    </tr>\n    <tr>\n      <th>3</th>\n      <td>gpt-4o-2024-05-13</td>\n      <td>20</td>\n      <td>5</td>\n      <td>BU01</td>\n      <td>BU05</td>\n      <td>80% of young people think that living sustaina...</td>\n      <td>80% of young people believe that living sustai...</td>\n      <td>{\\n  \"answer\": \"A\",\\n  \"explanation\": \"Message...</td>\n      <td>\\nTask: You are a linguistics expert. Your goa...</td>\n      <td>960</td>\n      <td>146</td>\n      <td>chat.completion</td>\n    </tr>\n    <tr>\n      <th>4</th>\n      <td>gpt-4o-2024-05-13</td>\n      <td>20</td>\n      <td>6</td>\n      <td>BU01</td>\n      <td>BU06</td>\n      <td>Cutting down on meat, dairy, and sugary foods ...</td>\n      <td>so reducing how much meat, dairy, and sugary f...</td>\n      <td>{\\n  \"answer\": \"B\",\\n  \"explanation\": \"Message...</td>\n      <td>\\nTask: You are a linguistics expert. Your goa...</td>\n      <td>977</td>\n      <td>129</td>\n      <td>chat.completion</td>\n    </tr>\n    <tr>\n      <th>...</th>\n      <td>...</td>\n      <td>...</td>\n      <td>...</td>\n      <td>...</td>\n      <td>...</td>\n      <td>...</td>\n      <td>...</td>\n      <td>...</td>\n      <td>...</td>\n      <td>...</td>\n      <td>...</td>\n      <td>...</td>\n    </tr>\n    <tr>\n      <th>75</th>\n      <td>gpt-4o-2024-05-13</td>\n      <td>20</td>\n      <td>7</td>\n      <td>BU08</td>\n      <td>BU07</td>\n      <td>Fruits and veggies are packed with important n...</td>\n      <td>Fruits and veggies are packed with important n...</td>\n      <td>{\\n  \"answer\": \"B\",\\n  \"explanation\": \"Message...</td>\n      <td>\\nTask: You are a linguistics expert. Your goa...</td>\n      <td>978</td>\n      <td>171</td>\n      <td>chat.completion</td>\n    </tr>\n    <tr>\n      <th>76</th>\n      <td>gpt-4o-2024-05-13</td>\n      <td>20</td>\n      <td>8</td>\n      <td>BU08</td>\n      <td>BU07</td>\n      <td>Fiber is super important for keeping our stoma...</td>\n      <td>Fiber is super important for keeping our stoma...</td>\n      <td>{\\n  \"answer\": \"A\",\\n  \"explanation\": \"Message...</td>\n      <td>\\nTask: You are a linguistics expert. Your goa...</td>\n      <td>989</td>\n      <td>129</td>\n      <td>chat.completion</td>\n    </tr>\n    <tr>\n      <th>77</th>\n      <td>gpt-4o-2024-05-13</td>\n      <td>20</td>\n      <td>9</td>\n      <td>BU08</td>\n      <td>BU01</td>\n      <td>Veggies and fruits have these awesome plant su...</td>\n      <td>Veggies and fruits have these awesome plant su...</td>\n      <td>{\\n  \"answer\": \"B\",\\n  \"explanation\": \"Message...</td>\n      <td>\\nTask: You are a linguistics expert. Your goa...</td>\n      <td>1004</td>\n      <td>129</td>\n      <td>chat.completion</td>\n    </tr>\n    <tr>\n      <th>78</th>\n      <td>gpt-4o-2024-05-13</td>\n      <td>20</td>\n      <td>10</td>\n      <td>BU08</td>\n      <td>BU06</td>\n      <td>More than 70% of farm animals in the UK are ra...</td>\n      <td>so more than 70% of farm animals in the UK are...</td>\n      <td>{\\n  \"answer\": \"B\",\\n  \"explanation\": \"Message...</td>\n      <td>\\nTask: You are a linguistics expert. Your goa...</td>\n      <td>1007</td>\n      <td>136</td>\n      <td>chat.completion</td>\n    </tr>\n    <tr>\n      <th>79</th>\n      <td>gpt-4o-2024-05-13</td>\n      <td>20</td>\n      <td>11</td>\n      <td>BU08</td>\n      <td>BU07</td>\n      <td>Most pigs and chickens in the UK are kept indo...</td>\n      <td>Most pigs and chickens in the UK are kept indo...</td>\n      <td>{\\n  \"answer\": \"B\",\\n  \"explanation\": \"Message...</td>\n      <td>\\nTask: You are a linguistics expert. Your goa...</td>\n      <td>985</td>\n      <td>125</td>\n      <td>chat.completion</td>\n    </tr>\n  </tbody>\n</table>\n<p>80 rows × 12 columns</p>\n</div>"
     },
     "execution_count": 135,
     "metadata": {},
     "output_type": "execute_result"
    }
   ],
   "source": [
    "# GPT 20 shots\n",
    "tst_output = pd.read_csv('02_tst_output/gpt-4o/parallel_20_shots_processed.csv')\n",
    "df = s3.get_df_eval_acc(df_evaluation_accuracy, tst_output, example_messages_file)\n",
    "gpt_all = s3.tst_eval(prompt, df, 'gpt-4o', '20')\n"
   ],
   "metadata": {
    "collapsed": false,
    "ExecuteTime": {
     "end_time": "2024-09-25T15:20:48.788743Z",
     "start_time": "2024-09-25T15:16:46.425202Z"
    }
   },
   "id": "55b2c33cef6f7804",
   "execution_count": 135
  },
  {
   "cell_type": "code",
   "outputs": [],
   "source": [
    "gpt_all_parsed = s3.parse_tst_data(df)\n",
    "df_temp = gpt_all_parsed[['model', 'shots', 'message_id', 'user_mA', 'user_mB', 'message_A', 'message_B', 'score', 'explanation' ]]\n",
    "\n",
    "df_temp.to_csv('03_tst_evaluation/tst_eval_gpt-4o_20_processed.csv')\n",
    "df_temp.loc[:, 'correct_answer'] = df_temp['score'].str.count('A')\n",
    "\n",
    "summary = df_temp.groupby('user_mA').agg({\n",
    "    'correct_answer': 'sum',        # Sum the counts of 'hello'\n",
    "    'model': 'first',   # Keep the first location (same value for all rows in each group)\n",
    "    'shots': 'first'      # Keep the first status (same value for all rows in each group)\n",
    "}).reset_index()\n",
    "print(summary)\n",
    "\n",
    "summary['correct_answer'].mean()"
   ],
   "metadata": {
    "collapsed": false
   },
   "id": "560038da96f8b690"
  },
  {
   "cell_type": "markdown",
   "source": [
    "### Mistral all shots"
   ],
   "metadata": {
    "collapsed": false
   },
   "id": "f692b434672d14a2"
  },
  {
   "cell_type": "code",
   "outputs": [
    {
     "name": "stderr",
     "output_type": "stream",
     "text": [
      "Processing LLM TST evaluation...: 100%|██████████| 80/80 [04:18<00:00,  3.24s/it]\n"
     ]
    }
   ],
   "source": [
    "# Mistral all shots\n",
    "tst_output = pd.read_csv('02_tst_output/mistral-large-latest/parallel_all_shots_processed.csv')\n",
    "df = s3.get_df_eval_acc(df_evaluation_accuracy, tst_output, example_messages_file)\n",
    "mistral_all = s3.tst_eval(prompt, df, 'mistral-large-latest', 'all')"
   ],
   "metadata": {
    "collapsed": false,
    "ExecuteTime": {
     "end_time": "2024-09-25T15:03:05.614163Z",
     "start_time": "2024-09-25T14:58:45.714860Z"
    }
   },
   "id": "7cb25cd0e05497b1",
   "execution_count": 129
  },
  {
   "cell_type": "code",
   "outputs": [
    {
     "data": {
      "text/plain": "                   model shots  message_id user_mA user_mB  \\\n0   mistral-large-latest   all           2    BU01    BU02   \n1   mistral-large-latest   all           3    BU01    BU06   \n2   mistral-large-latest   all           4    BU01    BU03   \n3   mistral-large-latest   all           5    BU01    BU05   \n4   mistral-large-latest   all           6    BU01    BU06   \n..                   ...   ...         ...     ...     ...   \n75  mistral-large-latest   all           7    BU08    BU07   \n76  mistral-large-latest   all           8    BU08    BU07   \n77  mistral-large-latest   all           9    BU08    BU01   \n78  mistral-large-latest   all          10    BU08    BU06   \n79  mistral-large-latest   all          11    BU08    BU07   \n\n                                            message_A  \\\n0   So, reducing how much meat we eat can save a t...   \n1   If everyone ate less animal foods, the CO2 fro...   \n2   Animal farming is like responsible for 80% of ...   \n3   Like 80% of young people think living sustaina...   \n4   Reducing meat, dairy, and sugary foods can rea...   \n..                                                ...   \n75  So, fruits and veggies are packed with all the...   \n76  So fiber is really important for keeping our s...   \n77  So veggies and fruits have these super helpful...   \n78  More than 70% of farm animals in the UK are ra...   \n79  So, most pigs and chickens in the UK are kept ...   \n\n                                            message_B  \\\n0   like, reducing how much meat we eat can actual...   \n1   If everyone ate less animal foods, the CO2 fro...   \n2   I mean, animal farming is like responsible for...   \n3   80% of young people believe that living sustai...   \n4   Reducing how much meat, dairy, and sugary food...   \n..                                                ...   \n75  Fruits and veggies are packed with important n...   \n76  Fiber is so important for keeping our stomachs...   \n77  Veggies and fruits have some good stuff for ou...   \n78  More than 70% of farm animals in the UK are ra...   \n79  I mean, most pigs and chickens in the UK are k...   \n\n                                             tst_eval  \\\n0   {\\n  \"answer\": \"B\",\\n  \"explanation\": \"Message...   \n1   {\\n  \"answer\": \"B\",\\n  \"explanation\": \"Message...   \n2   {\\n  \"answer\": \"B\",\\n  \"explanation\": \"Message...   \n3   {\\n  \"answer\": \"B\",\\n  \"explanation\": \"Message...   \n4   {\\n  \"answer\": \"A\",\\n  \"explanation\": \"Message...   \n..                                                ...   \n75  {\\n  \"answer\": \"A\",\\n  \"explanation\": \"Message...   \n76  {\\n  \"answer\": \"A\",\\n  \"explanation\": \"Message...   \n77  {\\n  \"answer\": \"B\",\\n  \"explanation\": \"Message...   \n78  {\\n  \"answer\": \"B\",\\n  \"explanation\": \"Message...   \n79  {\\n  \"answer\": \"B\",\\n  \"explanation\": \"Message...   \n\n                                                query  prompt_tokens  \\\n0   \\nTask: You are a linguistics expert. Your goa...           1107   \n1   \\nTask: You are a linguistics expert. Your goa...           1149   \n2   \\nTask: You are a linguistics expert. Your goa...           1117   \n3   \\nTask: You are a linguistics expert. Your goa...           1059   \n4   \\nTask: You are a linguistics expert. Your goa...           1105   \n..                                                ...            ...   \n75  \\nTask: You are a linguistics expert. Your goa...           1083   \n76  \\nTask: You are a linguistics expert. Your goa...           1075   \n77  \\nTask: You are a linguistics expert. Your goa...           1079   \n78  \\nTask: You are a linguistics expert. Your goa...           1089   \n79  \\nTask: You are a linguistics expert. Your goa...           1093   \n\n    completion_tokens           object score  \\\n0                 101  chat.completion     B   \n1                  73  chat.completion     B   \n2                  85  chat.completion     B   \n3                  70  chat.completion     B   \n4                 116  chat.completion     A   \n..                ...              ...   ...   \n75                 98  chat.completion     A   \n76                111  chat.completion     A   \n77                 70  chat.completion     B   \n78                120  chat.completion     B   \n79                 91  chat.completion     B   \n\n                                          explanation  \n0   Message B is more likely to have been written ...  \n1   Message B contains the phrase 'hahaha', which ...  \n2   Message B more closely matches person X's conv...  \n3   Message B more closely matches the conversatio...  \n4   Message A more closely matches the conversatio...  \n..                                                ...  \n75  Message A more closely matches the conversatio...  \n76  Message A more closely matches the conversatio...  \n77  Message B more closely matches the conversatio...  \n78  Message B is more likely to have been written ...  \n79  Message B is more likely to have been written ...  \n\n[80 rows x 14 columns]",
      "text/html": "<div>\n<style scoped>\n    .dataframe tbody tr th:only-of-type {\n        vertical-align: middle;\n    }\n\n    .dataframe tbody tr th {\n        vertical-align: top;\n    }\n\n    .dataframe thead th {\n        text-align: right;\n    }\n</style>\n<table border=\"1\" class=\"dataframe\">\n  <thead>\n    <tr style=\"text-align: right;\">\n      <th></th>\n      <th>model</th>\n      <th>shots</th>\n      <th>message_id</th>\n      <th>user_mA</th>\n      <th>user_mB</th>\n      <th>message_A</th>\n      <th>message_B</th>\n      <th>tst_eval</th>\n      <th>query</th>\n      <th>prompt_tokens</th>\n      <th>completion_tokens</th>\n      <th>object</th>\n      <th>score</th>\n      <th>explanation</th>\n    </tr>\n  </thead>\n  <tbody>\n    <tr>\n      <th>0</th>\n      <td>mistral-large-latest</td>\n      <td>all</td>\n      <td>2</td>\n      <td>BU01</td>\n      <td>BU02</td>\n      <td>So, reducing how much meat we eat can save a t...</td>\n      <td>like, reducing how much meat we eat can actual...</td>\n      <td>{\\n  \"answer\": \"B\",\\n  \"explanation\": \"Message...</td>\n      <td>\\nTask: You are a linguistics expert. Your goa...</td>\n      <td>1107</td>\n      <td>101</td>\n      <td>chat.completion</td>\n      <td>B</td>\n      <td>Message B is more likely to have been written ...</td>\n    </tr>\n    <tr>\n      <th>1</th>\n      <td>mistral-large-latest</td>\n      <td>all</td>\n      <td>3</td>\n      <td>BU01</td>\n      <td>BU06</td>\n      <td>If everyone ate less animal foods, the CO2 fro...</td>\n      <td>If everyone ate less animal foods, the CO2 fro...</td>\n      <td>{\\n  \"answer\": \"B\",\\n  \"explanation\": \"Message...</td>\n      <td>\\nTask: You are a linguistics expert. Your goa...</td>\n      <td>1149</td>\n      <td>73</td>\n      <td>chat.completion</td>\n      <td>B</td>\n      <td>Message B contains the phrase 'hahaha', which ...</td>\n    </tr>\n    <tr>\n      <th>2</th>\n      <td>mistral-large-latest</td>\n      <td>all</td>\n      <td>4</td>\n      <td>BU01</td>\n      <td>BU03</td>\n      <td>Animal farming is like responsible for 80% of ...</td>\n      <td>I mean, animal farming is like responsible for...</td>\n      <td>{\\n  \"answer\": \"B\",\\n  \"explanation\": \"Message...</td>\n      <td>\\nTask: You are a linguistics expert. Your goa...</td>\n      <td>1117</td>\n      <td>85</td>\n      <td>chat.completion</td>\n      <td>B</td>\n      <td>Message B more closely matches person X's conv...</td>\n    </tr>\n    <tr>\n      <th>3</th>\n      <td>mistral-large-latest</td>\n      <td>all</td>\n      <td>5</td>\n      <td>BU01</td>\n      <td>BU05</td>\n      <td>Like 80% of young people think living sustaina...</td>\n      <td>80% of young people believe that living sustai...</td>\n      <td>{\\n  \"answer\": \"B\",\\n  \"explanation\": \"Message...</td>\n      <td>\\nTask: You are a linguistics expert. Your goa...</td>\n      <td>1059</td>\n      <td>70</td>\n      <td>chat.completion</td>\n      <td>B</td>\n      <td>Message B more closely matches the conversatio...</td>\n    </tr>\n    <tr>\n      <th>4</th>\n      <td>mistral-large-latest</td>\n      <td>all</td>\n      <td>6</td>\n      <td>BU01</td>\n      <td>BU06</td>\n      <td>Reducing meat, dairy, and sugary foods can rea...</td>\n      <td>Reducing how much meat, dairy, and sugary food...</td>\n      <td>{\\n  \"answer\": \"A\",\\n  \"explanation\": \"Message...</td>\n      <td>\\nTask: You are a linguistics expert. Your goa...</td>\n      <td>1105</td>\n      <td>116</td>\n      <td>chat.completion</td>\n      <td>A</td>\n      <td>Message A more closely matches the conversatio...</td>\n    </tr>\n    <tr>\n      <th>...</th>\n      <td>...</td>\n      <td>...</td>\n      <td>...</td>\n      <td>...</td>\n      <td>...</td>\n      <td>...</td>\n      <td>...</td>\n      <td>...</td>\n      <td>...</td>\n      <td>...</td>\n      <td>...</td>\n      <td>...</td>\n      <td>...</td>\n      <td>...</td>\n    </tr>\n    <tr>\n      <th>75</th>\n      <td>mistral-large-latest</td>\n      <td>all</td>\n      <td>7</td>\n      <td>BU08</td>\n      <td>BU07</td>\n      <td>So, fruits and veggies are packed with all the...</td>\n      <td>Fruits and veggies are packed with important n...</td>\n      <td>{\\n  \"answer\": \"A\",\\n  \"explanation\": \"Message...</td>\n      <td>\\nTask: You are a linguistics expert. Your goa...</td>\n      <td>1083</td>\n      <td>98</td>\n      <td>chat.completion</td>\n      <td>A</td>\n      <td>Message A more closely matches the conversatio...</td>\n    </tr>\n    <tr>\n      <th>76</th>\n      <td>mistral-large-latest</td>\n      <td>all</td>\n      <td>8</td>\n      <td>BU08</td>\n      <td>BU07</td>\n      <td>So fiber is really important for keeping our s...</td>\n      <td>Fiber is so important for keeping our stomachs...</td>\n      <td>{\\n  \"answer\": \"A\",\\n  \"explanation\": \"Message...</td>\n      <td>\\nTask: You are a linguistics expert. Your goa...</td>\n      <td>1075</td>\n      <td>111</td>\n      <td>chat.completion</td>\n      <td>A</td>\n      <td>Message A more closely matches the conversatio...</td>\n    </tr>\n    <tr>\n      <th>77</th>\n      <td>mistral-large-latest</td>\n      <td>all</td>\n      <td>9</td>\n      <td>BU08</td>\n      <td>BU01</td>\n      <td>So veggies and fruits have these super helpful...</td>\n      <td>Veggies and fruits have some good stuff for ou...</td>\n      <td>{\\n  \"answer\": \"B\",\\n  \"explanation\": \"Message...</td>\n      <td>\\nTask: You are a linguistics expert. Your goa...</td>\n      <td>1079</td>\n      <td>70</td>\n      <td>chat.completion</td>\n      <td>B</td>\n      <td>Message B more closely matches the conversatio...</td>\n    </tr>\n    <tr>\n      <th>78</th>\n      <td>mistral-large-latest</td>\n      <td>all</td>\n      <td>10</td>\n      <td>BU08</td>\n      <td>BU06</td>\n      <td>More than 70% of farm animals in the UK are ra...</td>\n      <td>More than 70% of farm animals in the UK are ra...</td>\n      <td>{\\n  \"answer\": \"B\",\\n  \"explanation\": \"Message...</td>\n      <td>\\nTask: You are a linguistics expert. Your goa...</td>\n      <td>1089</td>\n      <td>120</td>\n      <td>chat.completion</td>\n      <td>B</td>\n      <td>Message B is more likely to have been written ...</td>\n    </tr>\n    <tr>\n      <th>79</th>\n      <td>mistral-large-latest</td>\n      <td>all</td>\n      <td>11</td>\n      <td>BU08</td>\n      <td>BU07</td>\n      <td>So, most pigs and chickens in the UK are kept ...</td>\n      <td>I mean, most pigs and chickens in the UK are k...</td>\n      <td>{\\n  \"answer\": \"B\",\\n  \"explanation\": \"Message...</td>\n      <td>\\nTask: You are a linguistics expert. Your goa...</td>\n      <td>1093</td>\n      <td>91</td>\n      <td>chat.completion</td>\n      <td>B</td>\n      <td>Message B is more likely to have been written ...</td>\n    </tr>\n  </tbody>\n</table>\n<p>80 rows × 14 columns</p>\n</div>"
     },
     "execution_count": 131,
     "metadata": {},
     "output_type": "execute_result"
    }
   ],
   "source": [
    "mistral_all"
   ],
   "metadata": {
    "collapsed": false,
    "ExecuteTime": {
     "end_time": "2024-09-25T15:07:01.936051Z",
     "start_time": "2024-09-25T15:07:01.811977Z"
    }
   },
   "id": "291fd58580c64d2f",
   "execution_count": 131
  },
  {
   "cell_type": "code",
   "outputs": [],
   "source": [
    "mistral_all_parsed = s3.parse_tst_data(mistral_all)\n",
    "df_temp = mistral_all_parsed[['model', 'shots', 'message_id', 'user_mA', 'user_mB', 'message_A', 'message_B', 'score', 'explanation' ]]\n",
    "df_temp.to_csv('03_tst_evaluation/tst_eval_mistral-large-latest_all_processed.csv')\n"
   ],
   "metadata": {
    "collapsed": false
   },
   "id": "f8d2f8558f700a4c"
  },
  {
   "cell_type": "code",
   "outputs": [
    {
     "data": {
      "text/plain": "                   model shots  message_id user_mA user_mB  \\\n0   mistral-large-latest   all           2    BU01    BU02   \n1   mistral-large-latest   all           3    BU01    BU06   \n2   mistral-large-latest   all           4    BU01    BU03   \n3   mistral-large-latest   all           5    BU01    BU05   \n4   mistral-large-latest   all           6    BU01    BU06   \n..                   ...   ...         ...     ...     ...   \n75  mistral-large-latest   all           7    BU08    BU07   \n76  mistral-large-latest   all           8    BU08    BU07   \n77  mistral-large-latest   all           9    BU08    BU01   \n78  mistral-large-latest   all          10    BU08    BU06   \n79  mistral-large-latest   all          11    BU08    BU07   \n\n                                            message_A  \\\n0   So, reducing how much meat we eat can save a t...   \n1   If everyone ate less animal foods, the CO2 fro...   \n2   Animal farming is like responsible for 80% of ...   \n3   Like 80% of young people think living sustaina...   \n4   Reducing meat, dairy, and sugary foods can rea...   \n..                                                ...   \n75  So, fruits and veggies are packed with all the...   \n76  So fiber is really important for keeping our s...   \n77  So veggies and fruits have these super helpful...   \n78  More than 70% of farm animals in the UK are ra...   \n79  So, most pigs and chickens in the UK are kept ...   \n\n                                            message_B score  \\\n0   like, reducing how much meat we eat can actual...     B   \n1   If everyone ate less animal foods, the CO2 fro...     B   \n2   I mean, animal farming is like responsible for...     B   \n3   80% of young people believe that living sustai...     B   \n4   Reducing how much meat, dairy, and sugary food...     A   \n..                                                ...   ...   \n75  Fruits and veggies are packed with important n...     A   \n76  Fiber is so important for keeping our stomachs...     A   \n77  Veggies and fruits have some good stuff for ou...     B   \n78  More than 70% of farm animals in the UK are ra...     B   \n79  I mean, most pigs and chickens in the UK are k...     B   \n\n                                          explanation  correct_answer  \n0   Message B is more likely to have been written ...               0  \n1   Message B contains the phrase 'hahaha', which ...               0  \n2   Message B more closely matches person X's conv...               0  \n3   Message B more closely matches the conversatio...               0  \n4   Message A more closely matches the conversatio...               1  \n..                                                ...             ...  \n75  Message A more closely matches the conversatio...               1  \n76  Message A more closely matches the conversatio...               1  \n77  Message B more closely matches the conversatio...               0  \n78  Message B is more likely to have been written ...               0  \n79  Message B is more likely to have been written ...               0  \n\n[80 rows x 10 columns]",
      "text/html": "<div>\n<style scoped>\n    .dataframe tbody tr th:only-of-type {\n        vertical-align: middle;\n    }\n\n    .dataframe tbody tr th {\n        vertical-align: top;\n    }\n\n    .dataframe thead th {\n        text-align: right;\n    }\n</style>\n<table border=\"1\" class=\"dataframe\">\n  <thead>\n    <tr style=\"text-align: right;\">\n      <th></th>\n      <th>model</th>\n      <th>shots</th>\n      <th>message_id</th>\n      <th>user_mA</th>\n      <th>user_mB</th>\n      <th>message_A</th>\n      <th>message_B</th>\n      <th>score</th>\n      <th>explanation</th>\n      <th>correct_answer</th>\n    </tr>\n  </thead>\n  <tbody>\n    <tr>\n      <th>0</th>\n      <td>mistral-large-latest</td>\n      <td>all</td>\n      <td>2</td>\n      <td>BU01</td>\n      <td>BU02</td>\n      <td>So, reducing how much meat we eat can save a t...</td>\n      <td>like, reducing how much meat we eat can actual...</td>\n      <td>B</td>\n      <td>Message B is more likely to have been written ...</td>\n      <td>0</td>\n    </tr>\n    <tr>\n      <th>1</th>\n      <td>mistral-large-latest</td>\n      <td>all</td>\n      <td>3</td>\n      <td>BU01</td>\n      <td>BU06</td>\n      <td>If everyone ate less animal foods, the CO2 fro...</td>\n      <td>If everyone ate less animal foods, the CO2 fro...</td>\n      <td>B</td>\n      <td>Message B contains the phrase 'hahaha', which ...</td>\n      <td>0</td>\n    </tr>\n    <tr>\n      <th>2</th>\n      <td>mistral-large-latest</td>\n      <td>all</td>\n      <td>4</td>\n      <td>BU01</td>\n      <td>BU03</td>\n      <td>Animal farming is like responsible for 80% of ...</td>\n      <td>I mean, animal farming is like responsible for...</td>\n      <td>B</td>\n      <td>Message B more closely matches person X's conv...</td>\n      <td>0</td>\n    </tr>\n    <tr>\n      <th>3</th>\n      <td>mistral-large-latest</td>\n      <td>all</td>\n      <td>5</td>\n      <td>BU01</td>\n      <td>BU05</td>\n      <td>Like 80% of young people think living sustaina...</td>\n      <td>80% of young people believe that living sustai...</td>\n      <td>B</td>\n      <td>Message B more closely matches the conversatio...</td>\n      <td>0</td>\n    </tr>\n    <tr>\n      <th>4</th>\n      <td>mistral-large-latest</td>\n      <td>all</td>\n      <td>6</td>\n      <td>BU01</td>\n      <td>BU06</td>\n      <td>Reducing meat, dairy, and sugary foods can rea...</td>\n      <td>Reducing how much meat, dairy, and sugary food...</td>\n      <td>A</td>\n      <td>Message A more closely matches the conversatio...</td>\n      <td>1</td>\n    </tr>\n    <tr>\n      <th>...</th>\n      <td>...</td>\n      <td>...</td>\n      <td>...</td>\n      <td>...</td>\n      <td>...</td>\n      <td>...</td>\n      <td>...</td>\n      <td>...</td>\n      <td>...</td>\n      <td>...</td>\n    </tr>\n    <tr>\n      <th>75</th>\n      <td>mistral-large-latest</td>\n      <td>all</td>\n      <td>7</td>\n      <td>BU08</td>\n      <td>BU07</td>\n      <td>So, fruits and veggies are packed with all the...</td>\n      <td>Fruits and veggies are packed with important n...</td>\n      <td>A</td>\n      <td>Message A more closely matches the conversatio...</td>\n      <td>1</td>\n    </tr>\n    <tr>\n      <th>76</th>\n      <td>mistral-large-latest</td>\n      <td>all</td>\n      <td>8</td>\n      <td>BU08</td>\n      <td>BU07</td>\n      <td>So fiber is really important for keeping our s...</td>\n      <td>Fiber is so important for keeping our stomachs...</td>\n      <td>A</td>\n      <td>Message A more closely matches the conversatio...</td>\n      <td>1</td>\n    </tr>\n    <tr>\n      <th>77</th>\n      <td>mistral-large-latest</td>\n      <td>all</td>\n      <td>9</td>\n      <td>BU08</td>\n      <td>BU01</td>\n      <td>So veggies and fruits have these super helpful...</td>\n      <td>Veggies and fruits have some good stuff for ou...</td>\n      <td>B</td>\n      <td>Message B more closely matches the conversatio...</td>\n      <td>0</td>\n    </tr>\n    <tr>\n      <th>78</th>\n      <td>mistral-large-latest</td>\n      <td>all</td>\n      <td>10</td>\n      <td>BU08</td>\n      <td>BU06</td>\n      <td>More than 70% of farm animals in the UK are ra...</td>\n      <td>More than 70% of farm animals in the UK are ra...</td>\n      <td>B</td>\n      <td>Message B is more likely to have been written ...</td>\n      <td>0</td>\n    </tr>\n    <tr>\n      <th>79</th>\n      <td>mistral-large-latest</td>\n      <td>all</td>\n      <td>11</td>\n      <td>BU08</td>\n      <td>BU07</td>\n      <td>So, most pigs and chickens in the UK are kept ...</td>\n      <td>I mean, most pigs and chickens in the UK are k...</td>\n      <td>B</td>\n      <td>Message B is more likely to have been written ...</td>\n      <td>0</td>\n    </tr>\n  </tbody>\n</table>\n<p>80 rows × 10 columns</p>\n</div>"
     },
     "execution_count": 133,
     "metadata": {},
     "output_type": "execute_result"
    }
   ],
   "source": [
    "df_temp"
   ],
   "metadata": {
    "collapsed": false,
    "ExecuteTime": {
     "end_time": "2024-09-25T15:07:56.168838Z",
     "start_time": "2024-09-25T15:07:56.112345Z"
    }
   },
   "id": "5bd4e9b82a6e5e8f",
   "execution_count": 133
  },
  {
   "cell_type": "code",
   "outputs": [
    {
     "name": "stdout",
     "output_type": "stream",
     "text": [
      "  user_mA  correct_answer                 model shots\n",
      "0    BU01               3  mistral-large-latest   all\n",
      "1    BU02               6  mistral-large-latest   all\n",
      "2    BU03               0  mistral-large-latest   all\n",
      "3    BU04               2  mistral-large-latest   all\n",
      "4    BU05               2  mistral-large-latest   all\n",
      "5    BU06               5  mistral-large-latest   all\n",
      "6    BU07               4  mistral-large-latest   all\n",
      "7    BU08               3  mistral-large-latest   all\n"
     ]
    },
    {
     "data": {
      "text/plain": "3.125"
     },
     "execution_count": 134,
     "metadata": {},
     "output_type": "execute_result"
    }
   ],
   "source": [
    "df_temp.loc[:, 'correct_answer'] = df_temp['score'].str.count('A')\n",
    "\n",
    "summary = df_temp.groupby('user_mA').agg({\n",
    "    'correct_answer': 'sum',        # Sum the counts of 'hello'\n",
    "    'model': 'first',   # Keep the first location (same value for all rows in each group)\n",
    "    'shots': 'first'      # Keep the first status (same value for all rows in each group)\n",
    "}).reset_index()\n",
    "print(summary)\n",
    "\n",
    "summary['correct_answer'].mean()"
   ],
   "metadata": {
    "collapsed": false,
    "ExecuteTime": {
     "end_time": "2024-09-25T15:09:29.533475Z",
     "start_time": "2024-09-25T15:09:29.425622Z"
    }
   },
   "id": "def6e2b857b6dc3e",
   "execution_count": 134
  },
  {
   "cell_type": "code",
   "execution_count": null,
   "id": "e66a4b7687e8dfc7",
   "metadata": {
    "collapsed": false
   },
   "outputs": [],
   "source": []
  },
  {
   "cell_type": "markdown",
   "source": [
    "### TST Accuracy - Message vs shots\n"
   ],
   "metadata": {
    "collapsed": false
   },
   "id": "e49046abb5e6fff9"
  },
  {
   "cell_type": "code",
   "outputs": [],
   "source": [
    "prompt_system = \"\"\"\n",
    "You are a linguistics expert. Your goal is to assess how similar the conversational style of example sentences from person X and the target message are. For conversational style, please consider 1. how person X uses function words (e.g., pronouns such as \"I\", \"we\", \"you\"), 2. which tone person X prefers (e.g., formal/informal vs. analytical vs. narrative), 3. often used stylistic words (e.g., phrases, fillers words), 4. emoji or emoticon-use in the provided example sentences and 5. other stylistic characteristics you find.\n",
    "\\n#####\\n\n",
    "\"\"\"\n",
    "\n",
    "prompt_user = \"\"\"\n",
    "Determine on a discrete scale from 1 to 5 the style similarity between the example sentences and the target message, where [1 = completely different styles, 2 = different styles, 3 = not identical nor different styles, 4 = identical styles, 5 = completely identical styles].\n",
    "\\n#####\\n\n",
    "Here are the example sentences from person X: {}\n",
    "\\n#####\\n\n",
    "Here is the target message: {}\n",
    "\\n#####\\n\n",
    "Return results in a json object as \"score\"=\"\", \"explanation\"=\"\"\n",
    "\"\"\""
   ],
   "metadata": {
    "collapsed": false,
    "ExecuteTime": {
     "end_time": "2024-10-03T16:14:37.504976Z",
     "start_time": "2024-10-03T16:14:37.376407Z"
    }
   },
   "id": "4738689af89f30c0",
   "execution_count": 186
  },
  {
   "cell_type": "code",
   "outputs": [],
   "source": [
    "user_chats = pd.read_csv('01_processed_input_data/all_shots_data_gpt.csv')\n",
    "examples = user_chats.groupby('username')['original'].apply('\\n'.join).reset_index()"
   ],
   "metadata": {
    "collapsed": false,
    "ExecuteTime": {
     "end_time": "2024-10-03T16:14:37.994195Z",
     "start_time": "2024-10-03T16:14:37.937677Z"
    }
   },
   "id": "efdf51a592296f5a",
   "execution_count": 187
  },
  {
   "cell_type": "code",
   "outputs": [],
   "source": [
    "# GPT 0.2 all shots\n",
    "model_tst = 'gpt-4o'\n",
    "temp_tst = 0.2\n",
    "tst_output = pd.read_csv('02_tst_output/'+model_tst+'_'+str(temp_tst)+'_parallel_all_shots_processed.csv')\n",
    "input_data = pd.merge(tst_output, examples, on='username')"
   ],
   "metadata": {
    "collapsed": false,
    "ExecuteTime": {
     "end_time": "2024-10-03T16:14:38.562515Z",
     "start_time": "2024-10-03T16:14:38.495304Z"
    }
   },
   "id": "2ffbdfdf9c7deeb2",
   "execution_count": 188
  },
  {
   "cell_type": "code",
   "outputs": [
    {
     "name": "stderr",
     "output_type": "stream",
     "text": [
      "Processing LLM TST evaluation...: 100%|██████████| 96/96 [03:03<00:00,  1.91s/it]\n"
     ]
    }
   ],
   "source": [
    "model = 'gpt-4o'\n",
    "eval_df = s3.tst_eval_accuracy(prompt_system, prompt_user, input_data, model, 'all', 0.7, 43)\n",
    "eval_df.to_csv('03_tst_evaluation/'+model_tst+'_'+str(temp_tst)+'_all_shots_eval_'+model+'.csv')"
   ],
   "metadata": {
    "collapsed": false,
    "ExecuteTime": {
     "end_time": "2024-10-03T16:17:43.058560Z",
     "start_time": "2024-10-03T16:14:39.550875Z"
    }
   },
   "id": "e27eeb508f84793f",
   "execution_count": 189
  },
  {
   "cell_type": "code",
   "outputs": [
    {
     "name": "stderr",
     "output_type": "stream",
     "text": [
      "Processing LLM TST evaluation...: 100%|██████████| 96/96 [07:18<00:00,  4.57s/it]\n"
     ]
    }
   ],
   "source": [
    "model = 'mistral-large-latest'\n",
    "temp = 0.7\n",
    "eval_df = s3.tst_eval_accuracy(prompt_system, prompt_user, input_data, model, 'all', temp, 43)\n",
    "eval_df.to_csv('03_tst_evaluation/'+model+'_'+str(temp)+'_all_shots.csv')"
   ],
   "metadata": {
    "collapsed": false,
    "ExecuteTime": {
     "end_time": "2024-10-03T17:02:16.909066Z",
     "start_time": "2024-10-03T16:54:57.830572Z"
    }
   },
   "id": "b078a27a9fb4d9cf",
   "execution_count": 190
  },
  {
   "cell_type": "markdown",
   "source": [],
   "metadata": {
    "collapsed": false
   },
   "id": "717eab8391fa68c9"
  },
  {
   "cell_type": "markdown",
   "source": [],
   "metadata": {
    "collapsed": false
   },
   "id": "fc98141f01c607ca"
  },
  {
   "cell_type": "code",
   "outputs": [],
   "source": [
    "# GPT 0.7 all shots\n",
    "model_tst = 'gpt-4o'\n",
    "temp_tst = 0.7\n",
    "tst_output = pd.read_csv('02_tst_output/'+model_tst+'_'+str(temp_tst)+'_parallel_all_shots_processed.csv')\n",
    "input_data = pd.merge(tst_output, examples, on='username')"
   ],
   "metadata": {
    "collapsed": false,
    "ExecuteTime": {
     "end_time": "2024-10-03T17:22:17.104851Z",
     "start_time": "2024-10-03T17:22:16.963411Z"
    }
   },
   "id": "55de90810e68d956",
   "execution_count": 191
  },
  {
   "cell_type": "code",
   "outputs": [
    {
     "name": "stderr",
     "output_type": "stream",
     "text": [
      "Processing LLM TST evaluation...: 100%|██████████| 96/96 [03:15<00:00,  2.04s/it]\n"
     ]
    }
   ],
   "source": [
    "model = 'gpt-4o'\n",
    "eval_df = s3.tst_eval_accuracy(prompt_system, prompt_user, input_data, model, 'all', 0.7, 43)\n",
    "eval_df.to_csv('03_tst_evaluation/'+model_tst+'_'+str(temp_tst)+'_all_shots_eval_'+model+'.csv')"
   ],
   "metadata": {
    "collapsed": false,
    "ExecuteTime": {
     "end_time": "2024-10-03T17:25:33.548064Z",
     "start_time": "2024-10-03T17:22:18.065121Z"
    }
   },
   "id": "200803dd7e4cec69",
   "execution_count": 192
  },
  {
   "cell_type": "code",
   "outputs": [],
   "source": [
    "model = 'mistral-large-latest'\n",
    "eval_df = s3.tst_eval_accuracy(prompt_system, prompt_user, input_data, model, 'all', 0.7, 43)\n",
    "eval_df.to_csv('03_tst_evaluation/'+model_tst+'_'+str(temp_tst)+'_all_shots_eval_'+model+'.csv')"
   ],
   "metadata": {
    "collapsed": false
   },
   "id": "d2fb03bebeacd7ea"
  }
 ],
 "metadata": {
  "kernelspec": {
   "name": "python3",
   "language": "python",
   "display_name": "Python 3 (ipykernel)"
  },
  "language_info": {
   "codemirror_mode": {
    "name": "ipython",
    "version": 3
   },
   "file_extension": ".py",
   "mimetype": "text/x-python",
   "name": "python",
   "nbconvert_exporter": "python",
   "pygments_lexer": "ipython3",
   "version": "3.11.7"
  }
 },
 "nbformat": 4,
 "nbformat_minor": 5
}
