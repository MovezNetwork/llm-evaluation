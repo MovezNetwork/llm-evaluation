{
 "cells": [
  {
   "cell_type": "code",
   "execution_count": 7,
   "id": "9636ff43-b756-45cd-9c0e-884c5434a6ba",
   "metadata": {
    "ExecuteTime": {
     "end_time": "2024-09-09T14:10:29.452465Z",
     "start_time": "2024-09-09T14:10:29.268803Z"
    }
   },
   "outputs": [],
   "source": [
    "import pandas as pd\n",
    "import os\n",
    "import sys\n",
    "import inspect\n",
    "import s0_chat_analysis as ca\n",
    "# import production as p\n",
    "\n",
    "# access parent directory from notebooks directory\n",
    "currentdir = os.path.dirname(os.path.abspath(inspect.getfile(inspect.currentframe())))\n",
    "parentdir = os.path.dirname(currentdir)\n",
    "sys.path.insert(0, parentdir)\n",
    "%load_ext autoreload\n",
    "%autoreload 2\n",
    "%reload_ext autoreload"
   ]
  },
  {
   "cell_type": "markdown",
   "id": "502a1ae7-5c5d-461f-aa5e-a7eb38b56ea7",
   "metadata": {},
   "source": [
    "### Notebook for preprocessing of BetweenUs chat files"
   ]
  },
  {
   "cell_type": "code",
   "execution_count": 33,
   "id": "ba085a39-17ee-4327-9327-3d1148cc4c9a",
   "metadata": {
    "ExecuteTime": {
     "end_time": "2024-09-09T14:34:27.655304Z",
     "start_time": "2024-09-09T14:34:27.545677Z"
    }
   },
   "outputs": [
    {
     "name": "stderr",
     "output_type": "stream",
     "text": [
      "/Users/davidblok/Work EUR/GitHub/llm-evaluation/s0_chat_analysis.py:44: SettingWithCopyWarning: \n",
      "A value is trying to be set on a copy of a slice from a DataFrame.\n",
      "Try using .loc[row_indexer,col_indexer] = value instead\n",
      "\n",
      "See the caveats in the documentation: https://pandas.pydata.org/pandas-docs/stable/user_guide/indexing.html#returning-a-view-versus-a-copy\n",
      "  df_chats['content'] = df_chats['message'].apply(lambda x: json.loads(json.loads(x)['log'])['content'])\n",
      "/Users/davidblok/Work EUR/GitHub/llm-evaluation/s0_chat_analysis.py:45: SettingWithCopyWarning: \n",
      "A value is trying to be set on a copy of a slice from a DataFrame.\n",
      "Try using .loc[row_indexer,col_indexer] = value instead\n",
      "\n",
      "See the caveats in the documentation: https://pandas.pydata.org/pandas-docs/stable/user_guide/indexing.html#returning-a-view-versus-a-copy\n",
      "  df_chats['fromUserId'] = df_chats['message'].apply(lambda x: json.loads(json.loads(x)['log'])['userId'])\n",
      "/Users/davidblok/Work EUR/GitHub/llm-evaluation/s0_chat_analysis.py:46: SettingWithCopyWarning: \n",
      "A value is trying to be set on a copy of a slice from a DataFrame.\n",
      "Try using .loc[row_indexer,col_indexer] = value instead\n",
      "\n",
      "See the caveats in the documentation: https://pandas.pydata.org/pandas-docs/stable/user_guide/indexing.html#returning-a-view-versus-a-copy\n",
      "  df_chats['toUserId'] = df_chats['message'].apply(lambda x: json.loads(json.loads(x)['log'])['fromUserID'])\n",
      "/Users/davidblok/Work EUR/GitHub/llm-evaluation/s0_chat_analysis.py:47: SettingWithCopyWarning: \n",
      "A value is trying to be set on a copy of a slice from a DataFrame.\n",
      "Try using .loc[row_indexer,col_indexer] = value instead\n",
      "\n",
      "See the caveats in the documentation: https://pandas.pydata.org/pandas-docs/stable/user_guide/indexing.html#returning-a-view-versus-a-copy\n",
      "  df_chats['timestamp'] = df_chats['message'].apply(lambda x: json.loads(json.loads(x)['log'])['timestamp'])\n",
      "/Users/davidblok/Work EUR/GitHub/llm-evaluation/s0_chat_analysis.py:48: SettingWithCopyWarning: \n",
      "A value is trying to be set on a copy of a slice from a DataFrame.\n",
      "Try using .loc[row_indexer,col_indexer] = value instead\n",
      "\n",
      "See the caveats in the documentation: https://pandas.pydata.org/pandas-docs/stable/user_guide/indexing.html#returning-a-view-versus-a-copy\n",
      "  df_chats['sessionId'] = df_chats['message'].apply(lambda x: json.loads(json.loads(x)['log'])['sessionId'])\n",
      "/Users/davidblok/Work EUR/GitHub/llm-evaluation/s0_chat_analysis.py:49: SettingWithCopyWarning: \n",
      "A value is trying to be set on a copy of a slice from a DataFrame.\n",
      "Try using .loc[row_indexer,col_indexer] = value instead\n",
      "\n",
      "See the caveats in the documentation: https://pandas.pydata.org/pandas-docs/stable/user_guide/indexing.html#returning-a-view-versus-a-copy\n",
      "  df_chats['word_count'] = df_chats['content'].apply(lambda x: len(x.split()))\n",
      "/Users/davidblok/Work EUR/GitHub/llm-evaluation/s0_chat_analysis.py:51: SettingWithCopyWarning: \n",
      "A value is trying to be set on a copy of a slice from a DataFrame.\n",
      "Try using .loc[row_indexer,col_indexer] = value instead\n",
      "\n",
      "See the caveats in the documentation: https://pandas.pydata.org/pandas-docs/stable/user_guide/indexing.html#returning-a-view-versus-a-copy\n",
      "  df_chats['messageID'] = df_chats.groupby('sessionId').cumcount()\n"
     ]
    },
    {
     "data": {
      "text/plain": "                    timestamp log_level  \\\n76   2024-06-27T08:18:03.567Z    docker   \n77   2024-06-27T08:18:10.340Z    docker   \n78   2024-06-27T08:18:11.657Z    docker   \n79   2024-06-27T08:18:13.183Z    docker   \n80   2024-06-27T08:18:15.707Z    docker   \n..                        ...       ...   \n536  2024-06-27T08:51:42.675Z    docker   \n537  2024-06-27T08:51:42.675Z    docker   \n538  2024-06-27T08:51:53.352Z    docker   \n539  2024-06-27T08:51:53.353Z    docker   \n540  2024-06-27T08:51:53.353Z    docker   \n\n                                               message  \\\n76   {\"container_id\":\"04538756c9cc672ad707e82a4b1cf...   \n77   {\"container_id\":\"04538756c9cc672ad707e82a4b1cf...   \n78   {\"container_id\":\"04538756c9cc672ad707e82a4b1cf...   \n79   {\"container_id\":\"04538756c9cc672ad707e82a4b1cf...   \n80   {\"container_name\":\"/movez-chat-movez-chat-1\",\"...   \n..                                                 ...   \n536  {\"source\":\"stdout\",\"log\":\"{\\\"content\\\":\\\"Panda...   \n537  {\"container_id\":\"04538756c9cc672ad707e82a4b1cf...   \n538  {\"container_id\":\"04538756c9cc672ad707e82a4b1cf...   \n539  {\"container_id\":\"04538756c9cc672ad707e82a4b1cf...   \n540  {\"log\":\"{\\\"content\\\":\\\"don't have a bad bone i...   \n\n                                         content        fromUserId  \\\n76                                            Hi  7881bdd5596a3f86   \n77                                    Hi sloth!   0475b4a5102ad017   \n78                                           Hi!  f256ae32bf85de79   \n79                                        Hello!  bf079e28c74b6404   \n80                      What sports do you like?  7881bdd5596a3f86   \n..                                           ...               ...   \n536                            Pandas never lie   0475b4a5102ad017   \n537                            Pandas never lie   0475b4a5102ad017   \n538  don't have a bad bone in their fluffy body   0475b4a5102ad017   \n539  don't have a bad bone in their fluffy body   0475b4a5102ad017   \n540  don't have a bad bone in their fluffy body   0475b4a5102ad017   \n\n             toUserId sessionId  word_count  messageID  \n76   f256ae32bf85de79      BU04           1          0  \n77   bf079e28c74b6404      BU02           2          0  \n78   7881bdd5596a3f86      BU03           1          0  \n79   0475b4a5102ad017      BU01           1          0  \n80   f256ae32bf85de79      BU04           5          1  \n..                ...       ...         ...        ...  \n536  7881bdd5596a3f86      BU02           3        135  \n537  f256ae32bf85de79      BU02           3        136  \n538  bf079e28c74b6404      BU02           9        137  \n539  7881bdd5596a3f86      BU02           9        138  \n540  f256ae32bf85de79      BU02           9        139  \n\n[465 rows x 9 columns]",
      "text/html": "<div>\n<style scoped>\n    .dataframe tbody tr th:only-of-type {\n        vertical-align: middle;\n    }\n\n    .dataframe tbody tr th {\n        vertical-align: top;\n    }\n\n    .dataframe thead th {\n        text-align: right;\n    }\n</style>\n<table border=\"1\" class=\"dataframe\">\n  <thead>\n    <tr style=\"text-align: right;\">\n      <th></th>\n      <th>timestamp</th>\n      <th>log_level</th>\n      <th>message</th>\n      <th>content</th>\n      <th>fromUserId</th>\n      <th>toUserId</th>\n      <th>sessionId</th>\n      <th>word_count</th>\n      <th>messageID</th>\n    </tr>\n  </thead>\n  <tbody>\n    <tr>\n      <th>76</th>\n      <td>2024-06-27T08:18:03.567Z</td>\n      <td>docker</td>\n      <td>{\"container_id\":\"04538756c9cc672ad707e82a4b1cf...</td>\n      <td>Hi</td>\n      <td>7881bdd5596a3f86</td>\n      <td>f256ae32bf85de79</td>\n      <td>BU04</td>\n      <td>1</td>\n      <td>0</td>\n    </tr>\n    <tr>\n      <th>77</th>\n      <td>2024-06-27T08:18:10.340Z</td>\n      <td>docker</td>\n      <td>{\"container_id\":\"04538756c9cc672ad707e82a4b1cf...</td>\n      <td>Hi sloth!</td>\n      <td>0475b4a5102ad017</td>\n      <td>bf079e28c74b6404</td>\n      <td>BU02</td>\n      <td>2</td>\n      <td>0</td>\n    </tr>\n    <tr>\n      <th>78</th>\n      <td>2024-06-27T08:18:11.657Z</td>\n      <td>docker</td>\n      <td>{\"container_id\":\"04538756c9cc672ad707e82a4b1cf...</td>\n      <td>Hi!</td>\n      <td>f256ae32bf85de79</td>\n      <td>7881bdd5596a3f86</td>\n      <td>BU03</td>\n      <td>1</td>\n      <td>0</td>\n    </tr>\n    <tr>\n      <th>79</th>\n      <td>2024-06-27T08:18:13.183Z</td>\n      <td>docker</td>\n      <td>{\"container_id\":\"04538756c9cc672ad707e82a4b1cf...</td>\n      <td>Hello!</td>\n      <td>bf079e28c74b6404</td>\n      <td>0475b4a5102ad017</td>\n      <td>BU01</td>\n      <td>1</td>\n      <td>0</td>\n    </tr>\n    <tr>\n      <th>80</th>\n      <td>2024-06-27T08:18:15.707Z</td>\n      <td>docker</td>\n      <td>{\"container_name\":\"/movez-chat-movez-chat-1\",\"...</td>\n      <td>What sports do you like?</td>\n      <td>7881bdd5596a3f86</td>\n      <td>f256ae32bf85de79</td>\n      <td>BU04</td>\n      <td>5</td>\n      <td>1</td>\n    </tr>\n    <tr>\n      <th>...</th>\n      <td>...</td>\n      <td>...</td>\n      <td>...</td>\n      <td>...</td>\n      <td>...</td>\n      <td>...</td>\n      <td>...</td>\n      <td>...</td>\n      <td>...</td>\n    </tr>\n    <tr>\n      <th>536</th>\n      <td>2024-06-27T08:51:42.675Z</td>\n      <td>docker</td>\n      <td>{\"source\":\"stdout\",\"log\":\"{\\\"content\\\":\\\"Panda...</td>\n      <td>Pandas never lie</td>\n      <td>0475b4a5102ad017</td>\n      <td>7881bdd5596a3f86</td>\n      <td>BU02</td>\n      <td>3</td>\n      <td>135</td>\n    </tr>\n    <tr>\n      <th>537</th>\n      <td>2024-06-27T08:51:42.675Z</td>\n      <td>docker</td>\n      <td>{\"container_id\":\"04538756c9cc672ad707e82a4b1cf...</td>\n      <td>Pandas never lie</td>\n      <td>0475b4a5102ad017</td>\n      <td>f256ae32bf85de79</td>\n      <td>BU02</td>\n      <td>3</td>\n      <td>136</td>\n    </tr>\n    <tr>\n      <th>538</th>\n      <td>2024-06-27T08:51:53.352Z</td>\n      <td>docker</td>\n      <td>{\"container_id\":\"04538756c9cc672ad707e82a4b1cf...</td>\n      <td>don't have a bad bone in their fluffy body</td>\n      <td>0475b4a5102ad017</td>\n      <td>bf079e28c74b6404</td>\n      <td>BU02</td>\n      <td>9</td>\n      <td>137</td>\n    </tr>\n    <tr>\n      <th>539</th>\n      <td>2024-06-27T08:51:53.353Z</td>\n      <td>docker</td>\n      <td>{\"container_id\":\"04538756c9cc672ad707e82a4b1cf...</td>\n      <td>don't have a bad bone in their fluffy body</td>\n      <td>0475b4a5102ad017</td>\n      <td>7881bdd5596a3f86</td>\n      <td>BU02</td>\n      <td>9</td>\n      <td>138</td>\n    </tr>\n    <tr>\n      <th>540</th>\n      <td>2024-06-27T08:51:53.353Z</td>\n      <td>docker</td>\n      <td>{\"log\":\"{\\\"content\\\":\\\"don't have a bad bone i...</td>\n      <td>don't have a bad bone in their fluffy body</td>\n      <td>0475b4a5102ad017</td>\n      <td>f256ae32bf85de79</td>\n      <td>BU02</td>\n      <td>9</td>\n      <td>139</td>\n    </tr>\n  </tbody>\n</table>\n<p>465 rows × 9 columns</p>\n</div>"
     },
     "execution_count": 33,
     "metadata": {},
     "output_type": "execute_result"
    }
   ],
   "source": [
    "# Read data log files. \n",
    "log_file = 'buffer.b61bd3e5a78a96e1b37b166e12e8051e6.log'\n",
    "log_file2 = 'buffer.b61befba30d29e36cf64f593e798c97ce.log'\n",
    "log_file3 = 'data.20240807.log'\n",
    "log_file4 = 'docker.log.20240820_0.log'\n",
    "df_chats = ca.parse_log_chats(log_file)\n",
    "df_chats"
   ]
  },
  {
   "cell_type": "code",
   "execution_count": 34,
   "id": "3e93994f",
   "metadata": {
    "ExecuteTime": {
     "end_time": "2024-09-09T14:35:28.050820Z",
     "start_time": "2024-09-09T14:35:27.950923Z"
    }
   },
   "outputs": [
    {
     "name": "stderr",
     "output_type": "stream",
     "text": [
      "/Users/davidblok/Work EUR/GitHub/llm-evaluation/s0_chat_analysis.py:44: SettingWithCopyWarning: \n",
      "A value is trying to be set on a copy of a slice from a DataFrame.\n",
      "Try using .loc[row_indexer,col_indexer] = value instead\n",
      "\n",
      "See the caveats in the documentation: https://pandas.pydata.org/pandas-docs/stable/user_guide/indexing.html#returning-a-view-versus-a-copy\n",
      "  df_chats['content'] = df_chats['message'].apply(lambda x: json.loads(json.loads(x)['log'])['content'])\n",
      "/Users/davidblok/Work EUR/GitHub/llm-evaluation/s0_chat_analysis.py:45: SettingWithCopyWarning: \n",
      "A value is trying to be set on a copy of a slice from a DataFrame.\n",
      "Try using .loc[row_indexer,col_indexer] = value instead\n",
      "\n",
      "See the caveats in the documentation: https://pandas.pydata.org/pandas-docs/stable/user_guide/indexing.html#returning-a-view-versus-a-copy\n",
      "  df_chats['fromUserId'] = df_chats['message'].apply(lambda x: json.loads(json.loads(x)['log'])['userId'])\n",
      "/Users/davidblok/Work EUR/GitHub/llm-evaluation/s0_chat_analysis.py:46: SettingWithCopyWarning: \n",
      "A value is trying to be set on a copy of a slice from a DataFrame.\n",
      "Try using .loc[row_indexer,col_indexer] = value instead\n",
      "\n",
      "See the caveats in the documentation: https://pandas.pydata.org/pandas-docs/stable/user_guide/indexing.html#returning-a-view-versus-a-copy\n",
      "  df_chats['toUserId'] = df_chats['message'].apply(lambda x: json.loads(json.loads(x)['log'])['fromUserID'])\n",
      "/Users/davidblok/Work EUR/GitHub/llm-evaluation/s0_chat_analysis.py:47: SettingWithCopyWarning: \n",
      "A value is trying to be set on a copy of a slice from a DataFrame.\n",
      "Try using .loc[row_indexer,col_indexer] = value instead\n",
      "\n",
      "See the caveats in the documentation: https://pandas.pydata.org/pandas-docs/stable/user_guide/indexing.html#returning-a-view-versus-a-copy\n",
      "  df_chats['timestamp'] = df_chats['message'].apply(lambda x: json.loads(json.loads(x)['log'])['timestamp'])\n",
      "/Users/davidblok/Work EUR/GitHub/llm-evaluation/s0_chat_analysis.py:48: SettingWithCopyWarning: \n",
      "A value is trying to be set on a copy of a slice from a DataFrame.\n",
      "Try using .loc[row_indexer,col_indexer] = value instead\n",
      "\n",
      "See the caveats in the documentation: https://pandas.pydata.org/pandas-docs/stable/user_guide/indexing.html#returning-a-view-versus-a-copy\n",
      "  df_chats['sessionId'] = df_chats['message'].apply(lambda x: json.loads(json.loads(x)['log'])['sessionId'])\n",
      "/Users/davidblok/Work EUR/GitHub/llm-evaluation/s0_chat_analysis.py:49: SettingWithCopyWarning: \n",
      "A value is trying to be set on a copy of a slice from a DataFrame.\n",
      "Try using .loc[row_indexer,col_indexer] = value instead\n",
      "\n",
      "See the caveats in the documentation: https://pandas.pydata.org/pandas-docs/stable/user_guide/indexing.html#returning-a-view-versus-a-copy\n",
      "  df_chats['word_count'] = df_chats['content'].apply(lambda x: len(x.split()))\n",
      "/Users/davidblok/Work EUR/GitHub/llm-evaluation/s0_chat_analysis.py:51: SettingWithCopyWarning: \n",
      "A value is trying to be set on a copy of a slice from a DataFrame.\n",
      "Try using .loc[row_indexer,col_indexer] = value instead\n",
      "\n",
      "See the caveats in the documentation: https://pandas.pydata.org/pandas-docs/stable/user_guide/indexing.html#returning-a-view-versus-a-copy\n",
      "  df_chats['messageID'] = df_chats.groupby('sessionId').cumcount()\n"
     ]
    },
    {
     "data": {
      "text/plain": "                    timestamp log_level  \\\n0    2024-06-27T08:18:03.567Z    docker   \n1    2024-06-27T08:18:10.340Z    docker   \n2    2024-06-27T08:18:11.657Z    docker   \n3    2024-06-27T08:18:13.183Z    docker   \n4    2024-06-27T08:18:15.707Z    docker   \n..                        ...       ...   \n972  2024-06-28T09:55:20.069Z    docker   \n973  2024-06-28T09:55:20.069Z    docker   \n974  2024-06-28T09:55:26.917Z    docker   \n975  2024-06-28T09:55:26.917Z    docker   \n976  2024-06-28T09:55:26.918Z    docker   \n\n                                               message  \\\n0    {\"container_id\":\"04538756c9cc672ad707e82a4b1cf...   \n1    {\"container_id\":\"04538756c9cc672ad707e82a4b1cf...   \n2    {\"container_id\":\"04538756c9cc672ad707e82a4b1cf...   \n3    {\"container_id\":\"04538756c9cc672ad707e82a4b1cf...   \n4    {\"container_name\":\"/movez-chat-movez-chat-1\",\"...   \n..                                                 ...   \n972  {\"container_id\":\"8895013e2e9d3e00a535250c74749...   \n973  {\"container_id\":\"8895013e2e9d3e00a535250c74749...   \n974  {\"source\":\"stdout\",\"log\":\"{\\\"content\\\":\\\"that'...   \n975  {\"container_id\":\"8895013e2e9d3e00a535250c74749...   \n976  {\"log\":\"{\\\"content\\\":\\\"that's sweet\\\",\\\"fromUs...   \n\n                                          content        fromUserId  \\\n0                                              Hi  7881bdd5596a3f86   \n1                                      Hi sloth!   0475b4a5102ad017   \n2                                             Hi!  f256ae32bf85de79   \n3                                          Hello!  bf079e28c74b6404   \n4                        What sports do you like?  7881bdd5596a3f86   \n..                                            ...               ...   \n972  belief in yourself! your are not that bad!!!  0d526f8eb7177c76   \n973  belief in yourself! your are not that bad!!!  0d526f8eb7177c76   \n974                                  that's sweet  0a88167b60546b3a   \n975                                  that's sweet  0a88167b60546b3a   \n976                                  that's sweet  0a88167b60546b3a   \n\n             toUserId sessionId  word_count  messageID  \n0    f256ae32bf85de79      BU04           1          0  \n1    bf079e28c74b6404      BU02           2          0  \n2    7881bdd5596a3f86      BU03           1          0  \n3    0475b4a5102ad017      BU01           1          0  \n4    f256ae32bf85de79      BU04           5          1  \n..                ...       ...         ...        ...  \n972  4ed7d8e521bef3cd      BU08           8        114  \n973  0a88167b60546b3a      BU08           8        115  \n974  9b658ac45526e7be      BU06           2        199  \n975  0d526f8eb7177c76      BU06           2        200  \n976  4ed7d8e521bef3cd      BU06           2        201  \n\n[977 rows x 9 columns]",
      "text/html": "<div>\n<style scoped>\n    .dataframe tbody tr th:only-of-type {\n        vertical-align: middle;\n    }\n\n    .dataframe tbody tr th {\n        vertical-align: top;\n    }\n\n    .dataframe thead th {\n        text-align: right;\n    }\n</style>\n<table border=\"1\" class=\"dataframe\">\n  <thead>\n    <tr style=\"text-align: right;\">\n      <th></th>\n      <th>timestamp</th>\n      <th>log_level</th>\n      <th>message</th>\n      <th>content</th>\n      <th>fromUserId</th>\n      <th>toUserId</th>\n      <th>sessionId</th>\n      <th>word_count</th>\n      <th>messageID</th>\n    </tr>\n  </thead>\n  <tbody>\n    <tr>\n      <th>0</th>\n      <td>2024-06-27T08:18:03.567Z</td>\n      <td>docker</td>\n      <td>{\"container_id\":\"04538756c9cc672ad707e82a4b1cf...</td>\n      <td>Hi</td>\n      <td>7881bdd5596a3f86</td>\n      <td>f256ae32bf85de79</td>\n      <td>BU04</td>\n      <td>1</td>\n      <td>0</td>\n    </tr>\n    <tr>\n      <th>1</th>\n      <td>2024-06-27T08:18:10.340Z</td>\n      <td>docker</td>\n      <td>{\"container_id\":\"04538756c9cc672ad707e82a4b1cf...</td>\n      <td>Hi sloth!</td>\n      <td>0475b4a5102ad017</td>\n      <td>bf079e28c74b6404</td>\n      <td>BU02</td>\n      <td>2</td>\n      <td>0</td>\n    </tr>\n    <tr>\n      <th>2</th>\n      <td>2024-06-27T08:18:11.657Z</td>\n      <td>docker</td>\n      <td>{\"container_id\":\"04538756c9cc672ad707e82a4b1cf...</td>\n      <td>Hi!</td>\n      <td>f256ae32bf85de79</td>\n      <td>7881bdd5596a3f86</td>\n      <td>BU03</td>\n      <td>1</td>\n      <td>0</td>\n    </tr>\n    <tr>\n      <th>3</th>\n      <td>2024-06-27T08:18:13.183Z</td>\n      <td>docker</td>\n      <td>{\"container_id\":\"04538756c9cc672ad707e82a4b1cf...</td>\n      <td>Hello!</td>\n      <td>bf079e28c74b6404</td>\n      <td>0475b4a5102ad017</td>\n      <td>BU01</td>\n      <td>1</td>\n      <td>0</td>\n    </tr>\n    <tr>\n      <th>4</th>\n      <td>2024-06-27T08:18:15.707Z</td>\n      <td>docker</td>\n      <td>{\"container_name\":\"/movez-chat-movez-chat-1\",\"...</td>\n      <td>What sports do you like?</td>\n      <td>7881bdd5596a3f86</td>\n      <td>f256ae32bf85de79</td>\n      <td>BU04</td>\n      <td>5</td>\n      <td>1</td>\n    </tr>\n    <tr>\n      <th>...</th>\n      <td>...</td>\n      <td>...</td>\n      <td>...</td>\n      <td>...</td>\n      <td>...</td>\n      <td>...</td>\n      <td>...</td>\n      <td>...</td>\n      <td>...</td>\n    </tr>\n    <tr>\n      <th>972</th>\n      <td>2024-06-28T09:55:20.069Z</td>\n      <td>docker</td>\n      <td>{\"container_id\":\"8895013e2e9d3e00a535250c74749...</td>\n      <td>belief in yourself! your are not that bad!!!</td>\n      <td>0d526f8eb7177c76</td>\n      <td>4ed7d8e521bef3cd</td>\n      <td>BU08</td>\n      <td>8</td>\n      <td>114</td>\n    </tr>\n    <tr>\n      <th>973</th>\n      <td>2024-06-28T09:55:20.069Z</td>\n      <td>docker</td>\n      <td>{\"container_id\":\"8895013e2e9d3e00a535250c74749...</td>\n      <td>belief in yourself! your are not that bad!!!</td>\n      <td>0d526f8eb7177c76</td>\n      <td>0a88167b60546b3a</td>\n      <td>BU08</td>\n      <td>8</td>\n      <td>115</td>\n    </tr>\n    <tr>\n      <th>974</th>\n      <td>2024-06-28T09:55:26.917Z</td>\n      <td>docker</td>\n      <td>{\"source\":\"stdout\",\"log\":\"{\\\"content\\\":\\\"that'...</td>\n      <td>that's sweet</td>\n      <td>0a88167b60546b3a</td>\n      <td>9b658ac45526e7be</td>\n      <td>BU06</td>\n      <td>2</td>\n      <td>199</td>\n    </tr>\n    <tr>\n      <th>975</th>\n      <td>2024-06-28T09:55:26.917Z</td>\n      <td>docker</td>\n      <td>{\"container_id\":\"8895013e2e9d3e00a535250c74749...</td>\n      <td>that's sweet</td>\n      <td>0a88167b60546b3a</td>\n      <td>0d526f8eb7177c76</td>\n      <td>BU06</td>\n      <td>2</td>\n      <td>200</td>\n    </tr>\n    <tr>\n      <th>976</th>\n      <td>2024-06-28T09:55:26.918Z</td>\n      <td>docker</td>\n      <td>{\"log\":\"{\\\"content\\\":\\\"that's sweet\\\",\\\"fromUs...</td>\n      <td>that's sweet</td>\n      <td>0a88167b60546b3a</td>\n      <td>4ed7d8e521bef3cd</td>\n      <td>BU06</td>\n      <td>2</td>\n      <td>201</td>\n    </tr>\n  </tbody>\n</table>\n<p>977 rows × 9 columns</p>\n</div>"
     },
     "execution_count": 34,
     "metadata": {},
     "output_type": "execute_result"
    }
   ],
   "source": [
    "df_chats = pd.concat([df_chats, ca.parse_log_chats(log_file2)], ignore_index=True)\n",
    "df_chats\n"
   ]
  },
  {
   "cell_type": "code",
   "execution_count": 35,
   "id": "d3378305",
   "metadata": {
    "ExecuteTime": {
     "end_time": "2024-09-09T14:37:02.545200Z",
     "start_time": "2024-09-09T14:37:02.506457Z"
    }
   },
   "outputs": [
    {
     "data": {
      "text/plain": "sessionId\nBU06    202\nBU01    155\nBU02    140\nBU05    131\nBU08    116\nBU04    105\nBU03     65\nBU07     63\nName: count, dtype: int64"
     },
     "execution_count": 35,
     "metadata": {},
     "output_type": "execute_result"
    }
   ],
   "source": [
    "df_chats['sessionId'].value_counts()"
   ]
  },
  {
   "cell_type": "code",
   "execution_count": 36,
   "id": "7618bb9c",
   "metadata": {
    "ExecuteTime": {
     "end_time": "2024-09-09T14:37:53.989948Z",
     "start_time": "2024-09-09T14:37:53.935482Z"
    }
   },
   "outputs": [],
   "source": [
    "df_chats.to_csv('00_input_data/between_us_data.csv', index=False)"
   ]
  },
  {
   "cell_type": "markdown",
   "source": [
    "## Process chats (remove duplicates, only keep sentence length > median sentence length)"
   ],
   "metadata": {
    "collapsed": false
   },
   "id": "3171a92ef0d6f417"
  },
  {
   "cell_type": "code",
   "execution_count": 81,
   "id": "a6e50b89",
   "metadata": {
    "ExecuteTime": {
     "end_time": "2024-09-10T08:53:15.267805Z",
     "start_time": "2024-09-10T08:53:15.181920Z"
    }
   },
   "outputs": [
    {
     "data": {
      "text/plain": "(977, 9)"
     },
     "execution_count": 81,
     "metadata": {},
     "output_type": "execute_result"
    }
   ],
   "source": [
    "df_chats = pd.read_csv('00_input_data/between_us_data.csv')\n",
    "df_chats.shape"
   ]
  },
  {
   "cell_type": "code",
   "execution_count": 82,
   "id": "364b9e9b",
   "metadata": {
    "ExecuteTime": {
     "end_time": "2024-09-10T08:53:16.679825Z",
     "start_time": "2024-09-10T08:53:16.611440Z"
    }
   },
   "outputs": [
    {
     "name": "stdout",
     "output_type": "stream",
     "text": [
      "(639, 9)\n",
      "(639, 10)\n",
      "(352, 10)\n",
      "(352, 9)\n"
     ]
    },
    {
     "name": "stderr",
     "output_type": "stream",
     "text": [
      "/Users/davidblok/Work EUR/GitHub/llm-evaluation/s0_chat_analysis.py:60: SettingWithCopyWarning: \n",
      "A value is trying to be set on a copy of a slice from a DataFrame.\n",
      "Try using .loc[row_indexer,col_indexer] = value instead\n",
      "\n",
      "See the caveats in the documentation: https://pandas.pydata.org/pandas-docs/stable/user_guide/indexing.html#returning-a-view-versus-a-copy\n",
      "  df = remove_group_chat_duplicates(df)\n"
     ]
    }
   ],
   "source": [
    "df_chats = ca.postprocess_text(df_chats)"
   ]
  },
  {
   "cell_type": "code",
   "execution_count": 83,
   "id": "fa3c3cc6",
   "metadata": {
    "ExecuteTime": {
     "end_time": "2024-09-10T08:53:18.528414Z",
     "start_time": "2024-09-10T08:53:18.469266Z"
    }
   },
   "outputs": [
    {
     "data": {
      "text/plain": "sessionId\nBU06    71\nBU02    53\nBU01    51\nBU05    49\nBU08    42\nBU04    38\nBU03    24\nBU07    24\nName: count, dtype: int64"
     },
     "execution_count": 83,
     "metadata": {},
     "output_type": "execute_result"
    }
   ],
   "source": [
    "df_chats.value_counts('sessionId')"
   ]
  },
  {
   "cell_type": "code",
   "execution_count": 84,
   "id": "4a520434",
   "metadata": {
    "ExecuteTime": {
     "end_time": "2024-09-10T08:53:56.760474Z",
     "start_time": "2024-09-10T08:53:56.707225Z"
    }
   },
   "outputs": [],
   "source": [
    "df_chats.to_csv('00_input_data/between_us_data_postprocessed.csv', index=False)"
   ]
  },
  {
   "cell_type": "code",
   "execution_count": 85,
   "id": "a8d6c58d",
   "metadata": {
    "ExecuteTime": {
     "end_time": "2024-09-10T08:53:57.331346Z",
     "start_time": "2024-09-10T08:53:57.286167Z"
    }
   },
   "outputs": [
    {
     "data": {
      "text/plain": "                    timestamp log_level  \\\n5    2024-06-27T08:18:26.161Z    docker   \n6    2024-06-27T08:18:38.085Z    docker   \n9    2024-06-27T08:18:51.835Z    docker   \n10   2024-06-27T08:18:55.828Z    docker   \n13   2024-06-27T08:19:13.433Z    docker   \n..                        ...       ...   \n950  2024-06-28T09:54:01.405Z    docker   \n956  2024-06-28T09:54:27.010Z    docker   \n959  2024-06-28T09:54:35.065Z    docker   \n965  2024-06-28T09:54:58.740Z    docker   \n971  2024-06-28T09:55:20.068Z    docker   \n\n                                               message  \\\n5    {\"source\":\"stdout\",\"log\":\"{\\\"content\\\":\\\"What ...   \n6    {\"container_name\":\"/movez-chat-movez-chat-1\",\"...   \n9    {\"source\":\"stdout\",\"log\":\"{\\\"content\\\":\\\"I'm n...   \n10   {\"container_name\":\"/movez-chat-movez-chat-1\",\"...   \n13   {\"container_id\":\"04538756c9cc672ad707e82a4b1cf...   \n..                                                 ...   \n950  {\"container_id\":\"8895013e2e9d3e00a535250c74749...   \n956  {\"container_id\":\"8895013e2e9d3e00a535250c74749...   \n959  {\"source\":\"stdout\",\"log\":\"{\\\"content\\\":\\\"Exact...   \n965  {\"log\":\"{\\\"content\\\":\\\"I think it makes me fee...   \n971  {\"log\":\"{\\\"content\\\":\\\"belief in yourself! you...   \n\n                                               content        fromUserId  \\\n5                       What sports do you like to do?  bf079e28c74b6404   \n6        I like doing some gym, and taking long walks.  f256ae32bf85de79   \n9    I'm not so good at ball sports, but I still en...  0475b4a5102ad017   \n10      I like team sports like football or basketball  7881bdd5596a3f86   \n13                 I am horrible at ball sports hahaha  bf079e28c74b6404   \n..                                                 ...               ...   \n950                      i also think those are boring  0a88167b60546b3a   \n956                  just sweaty people running around  0a88167b60546b3a   \n959  Exactly wht sports make you feel strassed and ...  4ed7d8e521bef3cd   \n965  I think it makes me feel stressed because I'm ...  0a88167b60546b3a   \n971       belief in yourself! your are not that bad!!!  0d526f8eb7177c76   \n\n             toUserId sessionId  word_count  messageID  \n5    0475b4a5102ad017      BU01           7          1  \n6    7881bdd5596a3f86      BU03           9          1  \n9    bf079e28c74b6404      BU02          12          2  \n10   f256ae32bf85de79      BU04           8          2  \n13   0475b4a5102ad017      BU01           7          2  \n..                ...       ...         ...        ...  \n950  9b658ac45526e7be      BU06           6        187  \n956  9b658ac45526e7be      BU06           5        190  \n959  9b658ac45526e7be      BU07           9         60  \n965  9b658ac45526e7be      BU06          13        193  \n971  9b658ac45526e7be      BU08           8        113  \n\n[352 rows x 9 columns]",
      "text/html": "<div>\n<style scoped>\n    .dataframe tbody tr th:only-of-type {\n        vertical-align: middle;\n    }\n\n    .dataframe tbody tr th {\n        vertical-align: top;\n    }\n\n    .dataframe thead th {\n        text-align: right;\n    }\n</style>\n<table border=\"1\" class=\"dataframe\">\n  <thead>\n    <tr style=\"text-align: right;\">\n      <th></th>\n      <th>timestamp</th>\n      <th>log_level</th>\n      <th>message</th>\n      <th>content</th>\n      <th>fromUserId</th>\n      <th>toUserId</th>\n      <th>sessionId</th>\n      <th>word_count</th>\n      <th>messageID</th>\n    </tr>\n  </thead>\n  <tbody>\n    <tr>\n      <th>5</th>\n      <td>2024-06-27T08:18:26.161Z</td>\n      <td>docker</td>\n      <td>{\"source\":\"stdout\",\"log\":\"{\\\"content\\\":\\\"What ...</td>\n      <td>What sports do you like to do?</td>\n      <td>bf079e28c74b6404</td>\n      <td>0475b4a5102ad017</td>\n      <td>BU01</td>\n      <td>7</td>\n      <td>1</td>\n    </tr>\n    <tr>\n      <th>6</th>\n      <td>2024-06-27T08:18:38.085Z</td>\n      <td>docker</td>\n      <td>{\"container_name\":\"/movez-chat-movez-chat-1\",\"...</td>\n      <td>I like doing some gym, and taking long walks.</td>\n      <td>f256ae32bf85de79</td>\n      <td>7881bdd5596a3f86</td>\n      <td>BU03</td>\n      <td>9</td>\n      <td>1</td>\n    </tr>\n    <tr>\n      <th>9</th>\n      <td>2024-06-27T08:18:51.835Z</td>\n      <td>docker</td>\n      <td>{\"source\":\"stdout\",\"log\":\"{\\\"content\\\":\\\"I'm n...</td>\n      <td>I'm not so good at ball sports, but I still en...</td>\n      <td>0475b4a5102ad017</td>\n      <td>bf079e28c74b6404</td>\n      <td>BU02</td>\n      <td>12</td>\n      <td>2</td>\n    </tr>\n    <tr>\n      <th>10</th>\n      <td>2024-06-27T08:18:55.828Z</td>\n      <td>docker</td>\n      <td>{\"container_name\":\"/movez-chat-movez-chat-1\",\"...</td>\n      <td>I like team sports like football or basketball</td>\n      <td>7881bdd5596a3f86</td>\n      <td>f256ae32bf85de79</td>\n      <td>BU04</td>\n      <td>8</td>\n      <td>2</td>\n    </tr>\n    <tr>\n      <th>13</th>\n      <td>2024-06-27T08:19:13.433Z</td>\n      <td>docker</td>\n      <td>{\"container_id\":\"04538756c9cc672ad707e82a4b1cf...</td>\n      <td>I am horrible at ball sports hahaha</td>\n      <td>bf079e28c74b6404</td>\n      <td>0475b4a5102ad017</td>\n      <td>BU01</td>\n      <td>7</td>\n      <td>2</td>\n    </tr>\n    <tr>\n      <th>...</th>\n      <td>...</td>\n      <td>...</td>\n      <td>...</td>\n      <td>...</td>\n      <td>...</td>\n      <td>...</td>\n      <td>...</td>\n      <td>...</td>\n      <td>...</td>\n    </tr>\n    <tr>\n      <th>950</th>\n      <td>2024-06-28T09:54:01.405Z</td>\n      <td>docker</td>\n      <td>{\"container_id\":\"8895013e2e9d3e00a535250c74749...</td>\n      <td>i also think those are boring</td>\n      <td>0a88167b60546b3a</td>\n      <td>9b658ac45526e7be</td>\n      <td>BU06</td>\n      <td>6</td>\n      <td>187</td>\n    </tr>\n    <tr>\n      <th>956</th>\n      <td>2024-06-28T09:54:27.010Z</td>\n      <td>docker</td>\n      <td>{\"container_id\":\"8895013e2e9d3e00a535250c74749...</td>\n      <td>just sweaty people running around</td>\n      <td>0a88167b60546b3a</td>\n      <td>9b658ac45526e7be</td>\n      <td>BU06</td>\n      <td>5</td>\n      <td>190</td>\n    </tr>\n    <tr>\n      <th>959</th>\n      <td>2024-06-28T09:54:35.065Z</td>\n      <td>docker</td>\n      <td>{\"source\":\"stdout\",\"log\":\"{\\\"content\\\":\\\"Exact...</td>\n      <td>Exactly wht sports make you feel strassed and ...</td>\n      <td>4ed7d8e521bef3cd</td>\n      <td>9b658ac45526e7be</td>\n      <td>BU07</td>\n      <td>9</td>\n      <td>60</td>\n    </tr>\n    <tr>\n      <th>965</th>\n      <td>2024-06-28T09:54:58.740Z</td>\n      <td>docker</td>\n      <td>{\"log\":\"{\\\"content\\\":\\\"I think it makes me fee...</td>\n      <td>I think it makes me feel stressed because I'm ...</td>\n      <td>0a88167b60546b3a</td>\n      <td>9b658ac45526e7be</td>\n      <td>BU06</td>\n      <td>13</td>\n      <td>193</td>\n    </tr>\n    <tr>\n      <th>971</th>\n      <td>2024-06-28T09:55:20.068Z</td>\n      <td>docker</td>\n      <td>{\"log\":\"{\\\"content\\\":\\\"belief in yourself! you...</td>\n      <td>belief in yourself! your are not that bad!!!</td>\n      <td>0d526f8eb7177c76</td>\n      <td>9b658ac45526e7be</td>\n      <td>BU08</td>\n      <td>8</td>\n      <td>113</td>\n    </tr>\n  </tbody>\n</table>\n<p>352 rows × 9 columns</p>\n</div>"
     },
     "execution_count": 85,
     "metadata": {},
     "output_type": "execute_result"
    }
   ],
   "source": [
    "df_chats"
   ]
  },
  {
   "cell_type": "markdown",
   "source": [
    "### NEED TO CHECK BELOW"
   ],
   "metadata": {
    "collapsed": false
   },
   "id": "f8fc8babc50616f1"
  },
  {
   "cell_type": "code",
   "execution_count": 200,
   "id": "e9747354",
   "metadata": {},
   "outputs": [],
   "source": [
    "df_user_data,neutral_sentences,user_sentences = p.read_input_data()"
   ]
  },
  {
   "cell_type": "code",
   "execution_count": 203,
   "id": "78542417",
   "metadata": {},
   "outputs": [
    {
     "data": {
      "text/html": [
       "<div>\n",
       "<style scoped>\n",
       "    .dataframe tbody tr th:only-of-type {\n",
       "        vertical-align: middle;\n",
       "    }\n",
       "\n",
       "    .dataframe tbody tr th {\n",
       "        vertical-align: top;\n",
       "    }\n",
       "\n",
       "    .dataframe thead th {\n",
       "        text-align: right;\n",
       "    }\n",
       "</style>\n",
       "<table border=\"1\" class=\"dataframe\">\n",
       "  <thead>\n",
       "    <tr style=\"text-align: right;\">\n",
       "      <th></th>\n",
       "      <th>userid</th>\n",
       "      <th>sentenceid</th>\n",
       "      <th>rewritten</th>\n",
       "      <th>sentences</th>\n",
       "    </tr>\n",
       "  </thead>\n",
       "  <tbody>\n",
       "    <tr>\n",
       "      <th>0</th>\n",
       "      <td>BU01</td>\n",
       "      <td>0</td>\n",
       "      <td>Cutting down on meat consumption can also redu...</td>\n",
       "      <td>Reducing how much meat we eat can help save a ...</td>\n",
       "    </tr>\n",
       "    <tr>\n",
       "      <th>1</th>\n",
       "      <td>BU01</td>\n",
       "      <td>1</td>\n",
       "      <td>If everyone reduced their consumption of anima...</td>\n",
       "      <td>If everyone ate less animal foods, the CO2 fro...</td>\n",
       "    </tr>\n",
       "    <tr>\n",
       "      <th>2</th>\n",
       "      <td>BU01</td>\n",
       "      <td>2</td>\n",
       "      <td>Cattle farming is the cause of 80% of the loss...</td>\n",
       "      <td>Animal farming is responsible for 80% of the l...</td>\n",
       "    </tr>\n",
       "    <tr>\n",
       "      <th>3</th>\n",
       "      <td>BU01</td>\n",
       "      <td>3</td>\n",
       "      <td>80% of young people believe that living sustai...</td>\n",
       "      <td>80% of young people believe that living sustai...</td>\n",
       "    </tr>\n",
       "    <tr>\n",
       "      <th>4</th>\n",
       "      <td>BU01</td>\n",
       "      <td>4</td>\n",
       "      <td>Cutting down on meat, dairy and sugary foods c...</td>\n",
       "      <td>Reducing how much meat, dairy, and sugary food...</td>\n",
       "    </tr>\n",
       "    <tr>\n",
       "      <th>...</th>\n",
       "      <td>...</td>\n",
       "      <td>...</td>\n",
       "      <td>...</td>\n",
       "      <td>...</td>\n",
       "    </tr>\n",
       "    <tr>\n",
       "      <th>75</th>\n",
       "      <td>BU08</td>\n",
       "      <td>5</td>\n",
       "      <td>Fruits and veggies are just packed with vitami...</td>\n",
       "      <td>Fruits and vegetables are filled with importan...</td>\n",
       "    </tr>\n",
       "    <tr>\n",
       "      <th>76</th>\n",
       "      <td>BU08</td>\n",
       "      <td>6</td>\n",
       "      <td>Fibre is super important to keep our stomach a...</td>\n",
       "      <td>Fiber is really important for keeping our stom...</td>\n",
       "    </tr>\n",
       "    <tr>\n",
       "      <th>77</th>\n",
       "      <td>BU08</td>\n",
       "      <td>7</td>\n",
       "      <td>Veggies and fruits are full of these helpful c...</td>\n",
       "      <td>Vegetables and fruits have helpful plant subst...</td>\n",
       "    </tr>\n",
       "    <tr>\n",
       "      <th>78</th>\n",
       "      <td>BU08</td>\n",
       "      <td>8</td>\n",
       "      <td>The biggest part of farm animal in the UK (lik...</td>\n",
       "      <td>More than 70% of farm animals in the UK are ra...</td>\n",
       "    </tr>\n",
       "    <tr>\n",
       "      <th>79</th>\n",
       "      <td>BU08</td>\n",
       "      <td>9</td>\n",
       "      <td>Pigs and chicken in the UL are mostly kept ind...</td>\n",
       "      <td>Most pigs and chickens in the UK are kept indo...</td>\n",
       "    </tr>\n",
       "  </tbody>\n",
       "</table>\n",
       "<p>80 rows × 4 columns</p>\n",
       "</div>"
      ],
      "text/plain": [
       "   userid  sentenceid                                          rewritten  \\\n",
       "0    BU01           0  Cutting down on meat consumption can also redu...   \n",
       "1    BU01           1  If everyone reduced their consumption of anima...   \n",
       "2    BU01           2  Cattle farming is the cause of 80% of the loss...   \n",
       "3    BU01           3  80% of young people believe that living sustai...   \n",
       "4    BU01           4  Cutting down on meat, dairy and sugary foods c...   \n",
       "..    ...         ...                                                ...   \n",
       "75   BU08           5  Fruits and veggies are just packed with vitami...   \n",
       "76   BU08           6  Fibre is super important to keep our stomach a...   \n",
       "77   BU08           7  Veggies and fruits are full of these helpful c...   \n",
       "78   BU08           8  The biggest part of farm animal in the UK (lik...   \n",
       "79   BU08           9  Pigs and chicken in the UL are mostly kept ind...   \n",
       "\n",
       "                                            sentences  \n",
       "0   Reducing how much meat we eat can help save a ...  \n",
       "1   If everyone ate less animal foods, the CO2 fro...  \n",
       "2   Animal farming is responsible for 80% of the l...  \n",
       "3   80% of young people believe that living sustai...  \n",
       "4   Reducing how much meat, dairy, and sugary food...  \n",
       "..                                                ...  \n",
       "75  Fruits and vegetables are filled with importan...  \n",
       "76  Fiber is really important for keeping our stom...  \n",
       "77  Vegetables and fruits have helpful plant subst...  \n",
       "78  More than 70% of farm animals in the UK are ra...  \n",
       "79  Most pigs and chickens in the UK are kept indo...  \n",
       "\n",
       "[80 rows x 4 columns]"
      ]
     },
     "execution_count": 203,
     "metadata": {},
     "output_type": "execute_result"
    }
   ],
   "source": [
    "user_sentences"
   ]
  },
  {
   "cell_type": "code",
   "execution_count": 204,
   "id": "83e06fb9",
   "metadata": {},
   "outputs": [
    {
     "data": {
      "text/html": [
       "<div>\n",
       "<style scoped>\n",
       "    .dataframe tbody tr th:only-of-type {\n",
       "        vertical-align: middle;\n",
       "    }\n",
       "\n",
       "    .dataframe tbody tr th {\n",
       "        vertical-align: top;\n",
       "    }\n",
       "\n",
       "    .dataframe thead th {\n",
       "        text-align: right;\n",
       "    }\n",
       "</style>\n",
       "<table border=\"1\" class=\"dataframe\">\n",
       "  <thead>\n",
       "    <tr style=\"text-align: right;\">\n",
       "      <th></th>\n",
       "      <th>username</th>\n",
       "      <th>id_neutral_sentence</th>\n",
       "      <th>neutral_sentence</th>\n",
       "      <th>tst_id</th>\n",
       "      <th>tst_sentence</th>\n",
       "      <th>explanation</th>\n",
       "      <th>llm_tst</th>\n",
       "      <th>query</th>\n",
       "      <th>model</th>\n",
       "      <th>prompt_tokens</th>\n",
       "      <th>completion_tokens</th>\n",
       "      <th>object</th>\n",
       "      <th>promptID</th>\n",
       "      <th>timestamp</th>\n",
       "      <th>output_run</th>\n",
       "    </tr>\n",
       "  </thead>\n",
       "  <tbody>\n",
       "    <tr>\n",
       "      <th>0</th>\n",
       "      <td>BU01</td>\n",
       "      <td>0</td>\n",
       "      <td>Reducing how much meat we eat can help save a ...</td>\n",
       "      <td>BU0120240802122721</td>\n",
       "      <td>I'm, like, not saying we gotta go vegan or som...</td>\n",
       "      <td>Person X's conversational style includes the ...</td>\n",
       "      <td>tst\\_sentence: \"I'm, like, not saying we gotta...</td>\n",
       "      <td>\\n[INST]You are an expert in text style transf...</td>\n",
       "      <td>mistral-small</td>\n",
       "      <td>398</td>\n",
       "      <td>185</td>\n",
       "      <td>chat.completion</td>\n",
       "      <td>2</td>\n",
       "      <td>20240802122721</td>\n",
       "      <td>run_20240802122716</td>\n",
       "    </tr>\n",
       "    <tr>\n",
       "      <th>1</th>\n",
       "      <td>BU01</td>\n",
       "      <td>1</td>\n",
       "      <td>If everyone ate less animal foods, the CO2 fro...</td>\n",
       "      <td>BU0120240802122724</td>\n",
       "      <td>Y'know, if we all cut back on those animal-bas...</td>\n",
       "      <td>Person X's conversational style is quite casu...</td>\n",
       "      <td>tst\\_sentence: \"Y'know, if we all cut back on ...</td>\n",
       "      <td>\\n[INST]You are an expert in text style transf...</td>\n",
       "      <td>mistral-small</td>\n",
       "      <td>419</td>\n",
       "      <td>254</td>\n",
       "      <td>chat.completion</td>\n",
       "      <td>2</td>\n",
       "      <td>20240802122724</td>\n",
       "      <td>run_20240802122716</td>\n",
       "    </tr>\n",
       "    <tr>\n",
       "      <th>2</th>\n",
       "      <td>BU02</td>\n",
       "      <td>0</td>\n",
       "      <td>Reducing how much meat we eat can help save a ...</td>\n",
       "      <td>BU0220240802122726</td>\n",
       "      <td>And let me tell you, cutting back on that meat...</td>\n",
       "      <td>In this conversational style, person X uses h...</td>\n",
       "      <td>tst\\_sentence: \"And let me tell you, cutting b...</td>\n",
       "      <td>\\n[INST]You are an expert in text style transf...</td>\n",
       "      <td>mistral-small</td>\n",
       "      <td>398</td>\n",
       "      <td>227</td>\n",
       "      <td>chat.completion</td>\n",
       "      <td>2</td>\n",
       "      <td>20240802122726</td>\n",
       "      <td>run_20240802122716</td>\n",
       "    </tr>\n",
       "    <tr>\n",
       "      <th>3</th>\n",
       "      <td>BU02</td>\n",
       "      <td>1</td>\n",
       "      <td>If everyone ate less animal foods, the CO2 fro...</td>\n",
       "      <td>BU0220240802122729</td>\n",
       "      <td>And let's not forget, cutting back on those me...</td>\n",
       "      <td>Person X's conversational style includes the ...</td>\n",
       "      <td>tst\\_sentence: \"And let's not forget, cutting ...</td>\n",
       "      <td>\\n[INST]You are an expert in text style transf...</td>\n",
       "      <td>mistral-small</td>\n",
       "      <td>419</td>\n",
       "      <td>227</td>\n",
       "      <td>chat.completion</td>\n",
       "      <td>2</td>\n",
       "      <td>20240802122729</td>\n",
       "      <td>run_20240802122716</td>\n",
       "    </tr>\n",
       "    <tr>\n",
       "      <th>4</th>\n",
       "      <td>BU03</td>\n",
       "      <td>0</td>\n",
       "      <td>Reducing how much meat we eat can help save a ...</td>\n",
       "      <td>BU0320240802122731</td>\n",
       "      <td>Haha, not every meal, ya know? Cutting back a ...</td>\n",
       "      <td>Person X's conversational style often include...</td>\n",
       "      <td>tst\\_sentence: \"Haha, not every meal, ya know?...</td>\n",
       "      <td>\\n[INST]You are an expert in text style transf...</td>\n",
       "      <td>mistral-small</td>\n",
       "      <td>416</td>\n",
       "      <td>226</td>\n",
       "      <td>chat.completion</td>\n",
       "      <td>2</td>\n",
       "      <td>20240802122731</td>\n",
       "      <td>run_20240802122716</td>\n",
       "    </tr>\n",
       "    <tr>\n",
       "      <th>5</th>\n",
       "      <td>BU03</td>\n",
       "      <td>1</td>\n",
       "      <td>If everyone ate less animal foods, the CO2 fro...</td>\n",
       "      <td>BU0320240802122734</td>\n",
       "      <td>Y'know, cutting back on those meaty eats could...</td>\n",
       "      <td>Person X's conversational style includes the ...</td>\n",
       "      <td>tst\\_sentence: \"Y'know, cutting back on those ...</td>\n",
       "      <td>\\n[INST]You are an expert in text style transf...</td>\n",
       "      <td>mistral-small</td>\n",
       "      <td>437</td>\n",
       "      <td>218</td>\n",
       "      <td>chat.completion</td>\n",
       "      <td>2</td>\n",
       "      <td>20240802122734</td>\n",
       "      <td>run_20240802122716</td>\n",
       "    </tr>\n",
       "    <tr>\n",
       "      <th>6</th>\n",
       "      <td>BU04</td>\n",
       "      <td>0</td>\n",
       "      <td>Reducing how much meat we eat can help save a ...</td>\n",
       "      <td>BU0420240802122736</td>\n",
       "      <td>How about we cut down on meat, eh? It's a smal...</td>\n",
       "      <td>The conversational style of person X involves...</td>\n",
       "      <td>tst\\_sentence: \"How about we cut down on meat,...</td>\n",
       "      <td>\\n[INST]You are an expert in text style transf...</td>\n",
       "      <td>mistral-small</td>\n",
       "      <td>363</td>\n",
       "      <td>132</td>\n",
       "      <td>chat.completion</td>\n",
       "      <td>2</td>\n",
       "      <td>20240802122736</td>\n",
       "      <td>run_20240802122716</td>\n",
       "    </tr>\n",
       "    <tr>\n",
       "      <th>7</th>\n",
       "      <td>BU04</td>\n",
       "      <td>1</td>\n",
       "      <td>If everyone ate less animal foods, the CO2 fro...</td>\n",
       "      <td>BU0420240802122739</td>\n",
       "      <td>So, you're telling me that if we all cut down ...</td>\n",
       "      <td>Person X's conversational style often include...</td>\n",
       "      <td>tst\\_sentence: \"So, you're telling me that if ...</td>\n",
       "      <td>\\n[INST]You are an expert in text style transf...</td>\n",
       "      <td>mistral-small</td>\n",
       "      <td>384</td>\n",
       "      <td>270</td>\n",
       "      <td>chat.completion</td>\n",
       "      <td>2</td>\n",
       "      <td>20240802122739</td>\n",
       "      <td>run_20240802122716</td>\n",
       "    </tr>\n",
       "    <tr>\n",
       "      <th>8</th>\n",
       "      <td>BU05</td>\n",
       "      <td>0</td>\n",
       "      <td>Reducing how much meat we eat can help save a ...</td>\n",
       "      <td>BU0520240802122741</td>\n",
       "      <td>Hey, you know what's cool? If we cut down on m...</td>\n",
       "      <td>In this conversational style of person X, the...</td>\n",
       "      <td>tst\\_sentence: \"Hey, you know what's cool? If ...</td>\n",
       "      <td>\\n[INST]You are an expert in text style transf...</td>\n",
       "      <td>mistral-small</td>\n",
       "      <td>370</td>\n",
       "      <td>223</td>\n",
       "      <td>chat.completion</td>\n",
       "      <td>2</td>\n",
       "      <td>20240802122741</td>\n",
       "      <td>run_20240802122716</td>\n",
       "    </tr>\n",
       "    <tr>\n",
       "      <th>9</th>\n",
       "      <td>BU05</td>\n",
       "      <td>1</td>\n",
       "      <td>If everyone ate less animal foods, the CO2 fro...</td>\n",
       "      <td>BU0520240802122743</td>\n",
       "      <td>Y'all, have you ever thought about how cutting...</td>\n",
       "      <td>Person X's conversational style includes the ...</td>\n",
       "      <td>tst\\_sentence: \"Y'all, have you ever thought a...</td>\n",
       "      <td>\\n[INST]You are an expert in text style transf...</td>\n",
       "      <td>mistral-small</td>\n",
       "      <td>391</td>\n",
       "      <td>170</td>\n",
       "      <td>chat.completion</td>\n",
       "      <td>2</td>\n",
       "      <td>20240802122743</td>\n",
       "      <td>run_20240802122716</td>\n",
       "    </tr>\n",
       "    <tr>\n",
       "      <th>10</th>\n",
       "      <td>BU06</td>\n",
       "      <td>0</td>\n",
       "      <td>Reducing how much meat we eat can help save a ...</td>\n",
       "      <td>BU0620240802122745</td>\n",
       "      <td>Honestly, I don't think it's a big deal to cut...</td>\n",
       "      <td>In this conversational style of person X, the...</td>\n",
       "      <td>tst\\_sentence: \"Honestly, I don't think it's a...</td>\n",
       "      <td>\\n[INST]You are an expert in text style transf...</td>\n",
       "      <td>mistral-small</td>\n",
       "      <td>409</td>\n",
       "      <td>178</td>\n",
       "      <td>chat.completion</td>\n",
       "      <td>2</td>\n",
       "      <td>20240802122745</td>\n",
       "      <td>run_20240802122716</td>\n",
       "    </tr>\n",
       "    <tr>\n",
       "      <th>11</th>\n",
       "      <td>BU06</td>\n",
       "      <td>1</td>\n",
       "      <td>If everyone ate less animal foods, the CO2 fro...</td>\n",
       "      <td>BU0620240802122748</td>\n",
       "      <td>Honestly, I gotta say, cutting back on those a...</td>\n",
       "      <td>In the conversational style of person X, the ...</td>\n",
       "      <td>tst\\_sentence: \"Honestly, I gotta say, cutting...</td>\n",
       "      <td>\\n[INST]You are an expert in text style transf...</td>\n",
       "      <td>mistral-small</td>\n",
       "      <td>430</td>\n",
       "      <td>318</td>\n",
       "      <td>chat.completion</td>\n",
       "      <td>2</td>\n",
       "      <td>20240802122748</td>\n",
       "      <td>run_20240802122716</td>\n",
       "    </tr>\n",
       "    <tr>\n",
       "      <th>12</th>\n",
       "      <td>BU07</td>\n",
       "      <td>0</td>\n",
       "      <td>Reducing how much meat we eat can help save a ...</td>\n",
       "      <td>BU0720240802122751</td>\n",
       "      <td>You know, cutting back on meat can really make...</td>\n",
       "      <td>Person X's conversational style often include...</td>\n",
       "      <td>tst\\_sentence: \"You know, cutting back on meat...</td>\n",
       "      <td>\\n[INST]You are an expert in text style transf...</td>\n",
       "      <td>mistral-small</td>\n",
       "      <td>425</td>\n",
       "      <td>204</td>\n",
       "      <td>chat.completion</td>\n",
       "      <td>2</td>\n",
       "      <td>20240802122751</td>\n",
       "      <td>run_20240802122716</td>\n",
       "    </tr>\n",
       "    <tr>\n",
       "      <th>13</th>\n",
       "      <td>BU07</td>\n",
       "      <td>1</td>\n",
       "      <td>If everyone ate less animal foods, the CO2 fro...</td>\n",
       "      <td>BU0720240802122754</td>\n",
       "      <td>Y'all, have you heard? If we cut down on anima...</td>\n",
       "      <td>In this conversational style of person X, I m...</td>\n",
       "      <td>tst\\_sentence: \"Y'all, have you heard? If we c...</td>\n",
       "      <td>\\n[INST]You are an expert in text style transf...</td>\n",
       "      <td>mistral-small</td>\n",
       "      <td>446</td>\n",
       "      <td>311</td>\n",
       "      <td>chat.completion</td>\n",
       "      <td>2</td>\n",
       "      <td>20240802122754</td>\n",
       "      <td>run_20240802122716</td>\n",
       "    </tr>\n",
       "    <tr>\n",
       "      <th>14</th>\n",
       "      <td>BU08</td>\n",
       "      <td>0</td>\n",
       "      <td>Reducing how much meat we eat can help save a ...</td>\n",
       "      <td>BU0820240802122759</td>\n",
       "      <td>Y'know, cutting back on meat, it's not just a ...</td>\n",
       "      <td>In this conversational style for person X, I ...</td>\n",
       "      <td>tst\\_sentence: \"Y'know, cutting back on meat, ...</td>\n",
       "      <td>\\n[INST]You are an expert in text style transf...</td>\n",
       "      <td>mistral-small</td>\n",
       "      <td>412</td>\n",
       "      <td>207</td>\n",
       "      <td>chat.completion</td>\n",
       "      <td>2</td>\n",
       "      <td>20240802122759</td>\n",
       "      <td>run_20240802122716</td>\n",
       "    </tr>\n",
       "    <tr>\n",
       "      <th>15</th>\n",
       "      <td>BU08</td>\n",
       "      <td>1</td>\n",
       "      <td>If everyone ate less animal foods, the CO2 fro...</td>\n",
       "      <td>BU0820240802122802</td>\n",
       "      <td>Y'know, if we all cut back on animal-based foo...</td>\n",
       "      <td>In this conversational style, person X uses c...</td>\n",
       "      <td>tst\\_sentence: \"Y'know, if we all cut back on ...</td>\n",
       "      <td>\\n[INST]You are an expert in text style transf...</td>\n",
       "      <td>mistral-small</td>\n",
       "      <td>433</td>\n",
       "      <td>276</td>\n",
       "      <td>chat.completion</td>\n",
       "      <td>2</td>\n",
       "      <td>20240802122802</td>\n",
       "      <td>run_20240802122716</td>\n",
       "    </tr>\n",
       "  </tbody>\n",
       "</table>\n",
       "</div>"
      ],
      "text/plain": [
       "   username  id_neutral_sentence  \\\n",
       "0      BU01                    0   \n",
       "1      BU01                    1   \n",
       "2      BU02                    0   \n",
       "3      BU02                    1   \n",
       "4      BU03                    0   \n",
       "5      BU03                    1   \n",
       "6      BU04                    0   \n",
       "7      BU04                    1   \n",
       "8      BU05                    0   \n",
       "9      BU05                    1   \n",
       "10     BU06                    0   \n",
       "11     BU06                    1   \n",
       "12     BU07                    0   \n",
       "13     BU07                    1   \n",
       "14     BU08                    0   \n",
       "15     BU08                    1   \n",
       "\n",
       "                                     neutral_sentence              tst_id  \\\n",
       "0   Reducing how much meat we eat can help save a ...  BU0120240802122721   \n",
       "1   If everyone ate less animal foods, the CO2 fro...  BU0120240802122724   \n",
       "2   Reducing how much meat we eat can help save a ...  BU0220240802122726   \n",
       "3   If everyone ate less animal foods, the CO2 fro...  BU0220240802122729   \n",
       "4   Reducing how much meat we eat can help save a ...  BU0320240802122731   \n",
       "5   If everyone ate less animal foods, the CO2 fro...  BU0320240802122734   \n",
       "6   Reducing how much meat we eat can help save a ...  BU0420240802122736   \n",
       "7   If everyone ate less animal foods, the CO2 fro...  BU0420240802122739   \n",
       "8   Reducing how much meat we eat can help save a ...  BU0520240802122741   \n",
       "9   If everyone ate less animal foods, the CO2 fro...  BU0520240802122743   \n",
       "10  Reducing how much meat we eat can help save a ...  BU0620240802122745   \n",
       "11  If everyone ate less animal foods, the CO2 fro...  BU0620240802122748   \n",
       "12  Reducing how much meat we eat can help save a ...  BU0720240802122751   \n",
       "13  If everyone ate less animal foods, the CO2 fro...  BU0720240802122754   \n",
       "14  Reducing how much meat we eat can help save a ...  BU0820240802122759   \n",
       "15  If everyone ate less animal foods, the CO2 fro...  BU0820240802122802   \n",
       "\n",
       "                                         tst_sentence  \\\n",
       "0   I'm, like, not saying we gotta go vegan or som...   \n",
       "1   Y'know, if we all cut back on those animal-bas...   \n",
       "2   And let me tell you, cutting back on that meat...   \n",
       "3   And let's not forget, cutting back on those me...   \n",
       "4   Haha, not every meal, ya know? Cutting back a ...   \n",
       "5   Y'know, cutting back on those meaty eats could...   \n",
       "6   How about we cut down on meat, eh? It's a smal...   \n",
       "7   So, you're telling me that if we all cut down ...   \n",
       "8   Hey, you know what's cool? If we cut down on m...   \n",
       "9   Y'all, have you ever thought about how cutting...   \n",
       "10  Honestly, I don't think it's a big deal to cut...   \n",
       "11  Honestly, I gotta say, cutting back on those a...   \n",
       "12  You know, cutting back on meat can really make...   \n",
       "13  Y'all, have you heard? If we cut down on anima...   \n",
       "14  Y'know, cutting back on meat, it's not just a ...   \n",
       "15  Y'know, if we all cut back on animal-based foo...   \n",
       "\n",
       "                                          explanation  \\\n",
       "0    Person X's conversational style includes the ...   \n",
       "1    Person X's conversational style is quite casu...   \n",
       "2    In this conversational style, person X uses h...   \n",
       "3    Person X's conversational style includes the ...   \n",
       "4    Person X's conversational style often include...   \n",
       "5    Person X's conversational style includes the ...   \n",
       "6    The conversational style of person X involves...   \n",
       "7    Person X's conversational style often include...   \n",
       "8    In this conversational style of person X, the...   \n",
       "9    Person X's conversational style includes the ...   \n",
       "10   In this conversational style of person X, the...   \n",
       "11   In the conversational style of person X, the ...   \n",
       "12   Person X's conversational style often include...   \n",
       "13   In this conversational style of person X, I m...   \n",
       "14   In this conversational style for person X, I ...   \n",
       "15   In this conversational style, person X uses c...   \n",
       "\n",
       "                                              llm_tst  \\\n",
       "0   tst\\_sentence: \"I'm, like, not saying we gotta...   \n",
       "1   tst\\_sentence: \"Y'know, if we all cut back on ...   \n",
       "2   tst\\_sentence: \"And let me tell you, cutting b...   \n",
       "3   tst\\_sentence: \"And let's not forget, cutting ...   \n",
       "4   tst\\_sentence: \"Haha, not every meal, ya know?...   \n",
       "5   tst\\_sentence: \"Y'know, cutting back on those ...   \n",
       "6   tst\\_sentence: \"How about we cut down on meat,...   \n",
       "7   tst\\_sentence: \"So, you're telling me that if ...   \n",
       "8   tst\\_sentence: \"Hey, you know what's cool? If ...   \n",
       "9   tst\\_sentence: \"Y'all, have you ever thought a...   \n",
       "10  tst\\_sentence: \"Honestly, I don't think it's a...   \n",
       "11  tst\\_sentence: \"Honestly, I gotta say, cutting...   \n",
       "12  tst\\_sentence: \"You know, cutting back on meat...   \n",
       "13  tst\\_sentence: \"Y'all, have you heard? If we c...   \n",
       "14  tst\\_sentence: \"Y'know, cutting back on meat, ...   \n",
       "15  tst\\_sentence: \"Y'know, if we all cut back on ...   \n",
       "\n",
       "                                                query          model  \\\n",
       "0   \\n[INST]You are an expert in text style transf...  mistral-small   \n",
       "1   \\n[INST]You are an expert in text style transf...  mistral-small   \n",
       "2   \\n[INST]You are an expert in text style transf...  mistral-small   \n",
       "3   \\n[INST]You are an expert in text style transf...  mistral-small   \n",
       "4   \\n[INST]You are an expert in text style transf...  mistral-small   \n",
       "5   \\n[INST]You are an expert in text style transf...  mistral-small   \n",
       "6   \\n[INST]You are an expert in text style transf...  mistral-small   \n",
       "7   \\n[INST]You are an expert in text style transf...  mistral-small   \n",
       "8   \\n[INST]You are an expert in text style transf...  mistral-small   \n",
       "9   \\n[INST]You are an expert in text style transf...  mistral-small   \n",
       "10  \\n[INST]You are an expert in text style transf...  mistral-small   \n",
       "11  \\n[INST]You are an expert in text style transf...  mistral-small   \n",
       "12  \\n[INST]You are an expert in text style transf...  mistral-small   \n",
       "13  \\n[INST]You are an expert in text style transf...  mistral-small   \n",
       "14  \\n[INST]You are an expert in text style transf...  mistral-small   \n",
       "15  \\n[INST]You are an expert in text style transf...  mistral-small   \n",
       "\n",
       "    prompt_tokens  completion_tokens           object promptID  \\\n",
       "0             398                185  chat.completion        2   \n",
       "1             419                254  chat.completion        2   \n",
       "2             398                227  chat.completion        2   \n",
       "3             419                227  chat.completion        2   \n",
       "4             416                226  chat.completion        2   \n",
       "5             437                218  chat.completion        2   \n",
       "6             363                132  chat.completion        2   \n",
       "7             384                270  chat.completion        2   \n",
       "8             370                223  chat.completion        2   \n",
       "9             391                170  chat.completion        2   \n",
       "10            409                178  chat.completion        2   \n",
       "11            430                318  chat.completion        2   \n",
       "12            425                204  chat.completion        2   \n",
       "13            446                311  chat.completion        2   \n",
       "14            412                207  chat.completion        2   \n",
       "15            433                276  chat.completion        2   \n",
       "\n",
       "         timestamp          output_run  \n",
       "0   20240802122721  run_20240802122716  \n",
       "1   20240802122724  run_20240802122716  \n",
       "2   20240802122726  run_20240802122716  \n",
       "3   20240802122729  run_20240802122716  \n",
       "4   20240802122731  run_20240802122716  \n",
       "5   20240802122734  run_20240802122716  \n",
       "6   20240802122736  run_20240802122716  \n",
       "7   20240802122739  run_20240802122716  \n",
       "8   20240802122741  run_20240802122716  \n",
       "9   20240802122743  run_20240802122716  \n",
       "10  20240802122745  run_20240802122716  \n",
       "11  20240802122748  run_20240802122716  \n",
       "12  20240802122751  run_20240802122716  \n",
       "13  20240802122754  run_20240802122716  \n",
       "14  20240802122759  run_20240802122716  \n",
       "15  20240802122802  run_20240802122716  "
      ]
     },
     "execution_count": 204,
     "metadata": {},
     "output_type": "execute_result"
    }
   ],
   "source": [
    "df_llm_tst = p.llm_tst(df_user_data,neutral_sentences[0:2])\n",
    "df_llm_tst"
   ]
  },
  {
   "cell_type": "code",
   "execution_count": 207,
   "id": "5a26a899",
   "metadata": {},
   "outputs": [
    {
     "name": "stderr",
     "output_type": "stream",
     "text": [
      "Evaluating TST sentences:   0%|          | 0/16 [00:00<?, ?it/s]"
     ]
    },
    {
     "name": "stdout",
     "output_type": "stream",
     "text": [
      "BU01 BU01 0 0\n",
      "<class 'str'> <class 'str'> <class 'numpy.int64'> 0\n",
      "BU01 BU01 0 0\n",
      "<class 'str'> <class 'str'> <class 'numpy.int64'> 0\n",
      "BU01 BU01 0 0\n",
      "<class 'str'> <class 'str'> <class 'numpy.int64'> 0\n",
      "BU01 BU01 0 0\n",
      "<class 'str'> <class 'str'> <class 'numpy.int64'> 0\n",
      "BU01 BU01 0 0\n",
      "<class 'str'> <class 'str'> <class 'numpy.int64'> 0\n",
      "BU01 BU01 0 0\n",
      "<class 'str'> <class 'str'> <class 'numpy.int64'> 0\n",
      "BU01 BU01 0 0\n",
      "<class 'str'> <class 'str'> <class 'numpy.int64'> 0\n"
     ]
    },
    {
     "name": "stderr",
     "output_type": "stream",
     "text": [
      "Evaluating TST sentences:   6%|▋         | 1/16 [00:12<03:11, 12.77s/it]"
     ]
    },
    {
     "name": "stdout",
     "output_type": "stream",
     "text": [
      "BU01 BU01 0 1\n",
      "<class 'str'> <class 'str'> <class 'numpy.int64'> 1\n",
      "BU01 BU01 0 1\n",
      "<class 'str'> <class 'str'> <class 'numpy.int64'> 1\n",
      "BU01 BU01 0 1\n",
      "<class 'str'> <class 'str'> <class 'numpy.int64'> 1\n",
      "BU01 BU01 0 1\n",
      "<class 'str'> <class 'str'> <class 'numpy.int64'> 1\n",
      "BU01 BU01 0 1\n",
      "<class 'str'> <class 'str'> <class 'numpy.int64'> 1\n",
      "BU01 BU01 0 1\n",
      "<class 'str'> <class 'str'> <class 'numpy.int64'> 1\n",
      "BU01 BU01 0 1\n",
      "<class 'str'> <class 'str'> <class 'numpy.int64'> 1\n"
     ]
    },
    {
     "name": "stderr",
     "output_type": "stream",
     "text": [
      "Evaluating TST sentences:  12%|█▎        | 2/16 [00:22<02:32, 10.92s/it]"
     ]
    },
    {
     "name": "stdout",
     "output_type": "stream",
     "text": [
      "BU01 BU02 0 0\n",
      "<class 'str'> <class 'str'> <class 'numpy.int64'> 0\n",
      "BU01 BU02 0 0\n",
      "<class 'str'> <class 'str'> <class 'numpy.int64'> 0\n",
      "BU01 BU02 0 0\n",
      "<class 'str'> <class 'str'> <class 'numpy.int64'> 0\n",
      "BU01 BU02 0 0\n",
      "<class 'str'> <class 'str'> <class 'numpy.int64'> 0\n",
      "BU01 BU02 0 0\n",
      "<class 'str'> <class 'str'> <class 'numpy.int64'> 0\n",
      "BU01 BU02 0 0\n",
      "<class 'str'> <class 'str'> <class 'numpy.int64'> 0\n",
      "BU01 BU02 0 0\n",
      "<class 'str'> <class 'str'> <class 'numpy.int64'> 0\n"
     ]
    },
    {
     "name": "stderr",
     "output_type": "stream",
     "text": [
      "Evaluating TST sentences:  19%|█▉        | 3/16 [00:31<02:09,  9.97s/it]"
     ]
    },
    {
     "name": "stdout",
     "output_type": "stream",
     "text": [
      "BU01 BU02 0 1\n",
      "<class 'str'> <class 'str'> <class 'numpy.int64'> 1\n",
      "BU01 BU02 0 1\n",
      "<class 'str'> <class 'str'> <class 'numpy.int64'> 1\n",
      "BU01 BU02 0 1\n",
      "<class 'str'> <class 'str'> <class 'numpy.int64'> 1\n",
      "BU01 BU02 0 1\n",
      "<class 'str'> <class 'str'> <class 'numpy.int64'> 1\n",
      "BU01 BU02 0 1\n",
      "<class 'str'> <class 'str'> <class 'numpy.int64'> 1\n",
      "BU01 BU02 0 1\n",
      "<class 'str'> <class 'str'> <class 'numpy.int64'> 1\n",
      "BU01 BU02 0 1\n",
      "<class 'str'> <class 'str'> <class 'numpy.int64'> 1\n"
     ]
    },
    {
     "name": "stderr",
     "output_type": "stream",
     "text": [
      "Evaluating TST sentences:  25%|██▌       | 4/16 [00:41<01:58,  9.89s/it]"
     ]
    },
    {
     "name": "stdout",
     "output_type": "stream",
     "text": [
      "BU01 BU03 0 0\n",
      "<class 'str'> <class 'str'> <class 'numpy.int64'> 0\n",
      "BU01 BU03 0 0\n",
      "<class 'str'> <class 'str'> <class 'numpy.int64'> 0\n",
      "BU01 BU03 0 0\n",
      "<class 'str'> <class 'str'> <class 'numpy.int64'> 0\n",
      "BU01 BU03 0 0\n",
      "<class 'str'> <class 'str'> <class 'numpy.int64'> 0\n",
      "BU01 BU03 0 0\n",
      "<class 'str'> <class 'str'> <class 'numpy.int64'> 0\n",
      "BU01 BU03 0 0\n",
      "<class 'str'> <class 'str'> <class 'numpy.int64'> 0\n",
      "BU01 BU03 0 0\n",
      "<class 'str'> <class 'str'> <class 'numpy.int64'> 0\n"
     ]
    },
    {
     "name": "stderr",
     "output_type": "stream",
     "text": [
      "Evaluating TST sentences:  31%|███▏      | 5/16 [00:49<01:43,  9.40s/it]"
     ]
    },
    {
     "name": "stdout",
     "output_type": "stream",
     "text": [
      "BU01 BU03 0 1\n",
      "<class 'str'> <class 'str'> <class 'numpy.int64'> 1\n",
      "BU01 BU03 0 1\n",
      "<class 'str'> <class 'str'> <class 'numpy.int64'> 1\n",
      "BU01 BU03 0 1\n",
      "<class 'str'> <class 'str'> <class 'numpy.int64'> 1\n",
      "BU01 BU03 0 1\n",
      "<class 'str'> <class 'str'> <class 'numpy.int64'> 1\n",
      "BU01 BU03 0 1\n",
      "<class 'str'> <class 'str'> <class 'numpy.int64'> 1\n",
      "BU01 BU03 0 1\n",
      "<class 'str'> <class 'str'> <class 'numpy.int64'> 1\n",
      "BU01 BU03 0 1\n",
      "<class 'str'> <class 'str'> <class 'numpy.int64'> 1\n"
     ]
    },
    {
     "name": "stderr",
     "output_type": "stream",
     "text": [
      "Evaluating TST sentences:  38%|███▊      | 6/16 [00:58<01:31,  9.18s/it]"
     ]
    },
    {
     "name": "stdout",
     "output_type": "stream",
     "text": [
      "BU01 BU04 0 0\n",
      "<class 'str'> <class 'str'> <class 'numpy.int64'> 0\n",
      "BU01 BU04 0 0\n",
      "<class 'str'> <class 'str'> <class 'numpy.int64'> 0\n",
      "BU01 BU04 0 0\n",
      "<class 'str'> <class 'str'> <class 'numpy.int64'> 0\n",
      "BU01 BU04 0 0\n",
      "<class 'str'> <class 'str'> <class 'numpy.int64'> 0\n",
      "BU01 BU04 0 0\n",
      "<class 'str'> <class 'str'> <class 'numpy.int64'> 0\n",
      "BU01 BU04 0 0\n",
      "<class 'str'> <class 'str'> <class 'numpy.int64'> 0\n",
      "BU01 BU04 0 0\n",
      "<class 'str'> <class 'str'> <class 'numpy.int64'> 0\n"
     ]
    },
    {
     "name": "stderr",
     "output_type": "stream",
     "text": [
      "Evaluating TST sentences:  44%|████▍     | 7/16 [01:06<01:20,  8.97s/it]"
     ]
    },
    {
     "name": "stdout",
     "output_type": "stream",
     "text": [
      "BU01 BU04 0 1\n",
      "<class 'str'> <class 'str'> <class 'numpy.int64'> 1\n",
      "BU01 BU04 0 1\n",
      "<class 'str'> <class 'str'> <class 'numpy.int64'> 1\n",
      "BU01 BU04 0 1\n",
      "<class 'str'> <class 'str'> <class 'numpy.int64'> 1\n",
      "BU01 BU04 0 1\n",
      "<class 'str'> <class 'str'> <class 'numpy.int64'> 1\n",
      "BU01 BU04 0 1\n",
      "<class 'str'> <class 'str'> <class 'numpy.int64'> 1\n",
      "BU01 BU04 0 1\n",
      "<class 'str'> <class 'str'> <class 'numpy.int64'> 1\n",
      "BU01 BU04 0 1\n",
      "<class 'str'> <class 'str'> <class 'numpy.int64'> 1\n"
     ]
    },
    {
     "name": "stderr",
     "output_type": "stream",
     "text": [
      "Evaluating TST sentences:  50%|█████     | 8/16 [01:14<01:07,  8.50s/it]"
     ]
    },
    {
     "name": "stdout",
     "output_type": "stream",
     "text": [
      "BU01 BU05 0 0\n",
      "<class 'str'> <class 'str'> <class 'numpy.int64'> 0\n",
      "BU01 BU05 0 0\n",
      "<class 'str'> <class 'str'> <class 'numpy.int64'> 0\n",
      "BU01 BU05 0 0\n",
      "<class 'str'> <class 'str'> <class 'numpy.int64'> 0\n",
      "BU01 BU05 0 0\n",
      "<class 'str'> <class 'str'> <class 'numpy.int64'> 0\n",
      "BU01 BU05 0 0\n",
      "<class 'str'> <class 'str'> <class 'numpy.int64'> 0\n",
      "BU01 BU05 0 0\n",
      "<class 'str'> <class 'str'> <class 'numpy.int64'> 0\n",
      "BU01 BU05 0 0\n",
      "<class 'str'> <class 'str'> <class 'numpy.int64'> 0\n"
     ]
    },
    {
     "name": "stderr",
     "output_type": "stream",
     "text": [
      "Evaluating TST sentences:  56%|█████▋    | 9/16 [01:21<00:57,  8.23s/it]"
     ]
    },
    {
     "name": "stdout",
     "output_type": "stream",
     "text": [
      "BU01 BU05 0 1\n",
      "<class 'str'> <class 'str'> <class 'numpy.int64'> 1\n",
      "BU01 BU05 0 1\n",
      "<class 'str'> <class 'str'> <class 'numpy.int64'> 1\n",
      "BU01 BU05 0 1\n",
      "<class 'str'> <class 'str'> <class 'numpy.int64'> 1\n",
      "BU01 BU05 0 1\n",
      "<class 'str'> <class 'str'> <class 'numpy.int64'> 1\n",
      "BU01 BU05 0 1\n",
      "<class 'str'> <class 'str'> <class 'numpy.int64'> 1\n",
      "BU01 BU05 0 1\n",
      "<class 'str'> <class 'str'> <class 'numpy.int64'> 1\n",
      "BU01 BU05 0 1\n",
      "<class 'str'> <class 'str'> <class 'numpy.int64'> 1\n"
     ]
    },
    {
     "name": "stderr",
     "output_type": "stream",
     "text": [
      "Evaluating TST sentences:  62%|██████▎   | 10/16 [01:30<00:49,  8.32s/it]"
     ]
    },
    {
     "name": "stdout",
     "output_type": "stream",
     "text": [
      "BU01 BU06 0 0\n",
      "<class 'str'> <class 'str'> <class 'numpy.int64'> 0\n",
      "BU01 BU06 0 0\n",
      "<class 'str'> <class 'str'> <class 'numpy.int64'> 0\n",
      "BU01 BU06 0 0\n",
      "<class 'str'> <class 'str'> <class 'numpy.int64'> 0\n",
      "BU01 BU06 0 0\n",
      "<class 'str'> <class 'str'> <class 'numpy.int64'> 0\n",
      "BU01 BU06 0 0\n",
      "<class 'str'> <class 'str'> <class 'numpy.int64'> 0\n",
      "BU01 BU06 0 0\n",
      "<class 'str'> <class 'str'> <class 'numpy.int64'> 0\n",
      "BU01 BU06 0 0\n",
      "<class 'str'> <class 'str'> <class 'numpy.int64'> 0\n"
     ]
    },
    {
     "name": "stderr",
     "output_type": "stream",
     "text": [
      "Evaluating TST sentences:  69%|██████▉   | 11/16 [01:38<00:40,  8.13s/it]"
     ]
    },
    {
     "name": "stdout",
     "output_type": "stream",
     "text": [
      "BU01 BU06 0 1\n",
      "<class 'str'> <class 'str'> <class 'numpy.int64'> 1\n",
      "BU01 BU06 0 1\n",
      "<class 'str'> <class 'str'> <class 'numpy.int64'> 1\n",
      "BU01 BU06 0 1\n",
      "<class 'str'> <class 'str'> <class 'numpy.int64'> 1\n",
      "BU01 BU06 0 1\n",
      "<class 'str'> <class 'str'> <class 'numpy.int64'> 1\n",
      "BU01 BU06 0 1\n",
      "<class 'str'> <class 'str'> <class 'numpy.int64'> 1\n",
      "BU01 BU06 0 1\n",
      "<class 'str'> <class 'str'> <class 'numpy.int64'> 1\n",
      "BU01 BU06 0 1\n",
      "<class 'str'> <class 'str'> <class 'numpy.int64'> 1\n"
     ]
    },
    {
     "name": "stderr",
     "output_type": "stream",
     "text": [
      "Evaluating TST sentences:  75%|███████▌  | 12/16 [01:47<00:33,  8.49s/it]"
     ]
    },
    {
     "name": "stdout",
     "output_type": "stream",
     "text": [
      "BU01 BU07 0 0\n",
      "<class 'str'> <class 'str'> <class 'numpy.int64'> 0\n",
      "BU01 BU07 0 0\n",
      "<class 'str'> <class 'str'> <class 'numpy.int64'> 0\n",
      "BU01 BU07 0 0\n",
      "<class 'str'> <class 'str'> <class 'numpy.int64'> 0\n",
      "BU01 BU07 0 0\n",
      "<class 'str'> <class 'str'> <class 'numpy.int64'> 0\n",
      "BU01 BU07 0 0\n",
      "<class 'str'> <class 'str'> <class 'numpy.int64'> 0\n",
      "BU01 BU07 0 0\n",
      "<class 'str'> <class 'str'> <class 'numpy.int64'> 0\n",
      "BU01 BU07 0 0\n",
      "<class 'str'> <class 'str'> <class 'numpy.int64'> 0\n"
     ]
    },
    {
     "name": "stderr",
     "output_type": "stream",
     "text": [
      "Evaluating TST sentences:  81%|████████▏ | 13/16 [01:55<00:24,  8.21s/it]"
     ]
    },
    {
     "name": "stdout",
     "output_type": "stream",
     "text": [
      "BU01 BU07 0 1\n",
      "<class 'str'> <class 'str'> <class 'numpy.int64'> 1\n",
      "BU01 BU07 0 1\n",
      "<class 'str'> <class 'str'> <class 'numpy.int64'> 1\n",
      "BU01 BU07 0 1\n",
      "<class 'str'> <class 'str'> <class 'numpy.int64'> 1\n",
      "BU01 BU07 0 1\n",
      "<class 'str'> <class 'str'> <class 'numpy.int64'> 1\n",
      "BU01 BU07 0 1\n",
      "<class 'str'> <class 'str'> <class 'numpy.int64'> 1\n",
      "BU01 BU07 0 1\n",
      "<class 'str'> <class 'str'> <class 'numpy.int64'> 1\n",
      "BU01 BU07 0 1\n",
      "<class 'str'> <class 'str'> <class 'numpy.int64'> 1\n"
     ]
    },
    {
     "name": "stderr",
     "output_type": "stream",
     "text": [
      "Evaluating TST sentences:  88%|████████▊ | 14/16 [02:04<00:17,  8.66s/it]"
     ]
    },
    {
     "name": "stdout",
     "output_type": "stream",
     "text": [
      "BU01 BU08 0 0\n",
      "<class 'str'> <class 'str'> <class 'numpy.int64'> 0\n",
      "BU01 BU08 0 0\n",
      "<class 'str'> <class 'str'> <class 'numpy.int64'> 0\n",
      "BU01 BU08 0 0\n",
      "<class 'str'> <class 'str'> <class 'numpy.int64'> 0\n",
      "BU01 BU08 0 0\n",
      "<class 'str'> <class 'str'> <class 'numpy.int64'> 0\n",
      "BU01 BU08 0 0\n",
      "<class 'str'> <class 'str'> <class 'numpy.int64'> 0\n",
      "BU01 BU08 0 0\n",
      "<class 'str'> <class 'str'> <class 'numpy.int64'> 0\n",
      "BU01 BU08 0 0\n",
      "<class 'str'> <class 'str'> <class 'numpy.int64'> 0\n"
     ]
    },
    {
     "name": "stderr",
     "output_type": "stream",
     "text": [
      "Evaluating TST sentences:  94%|█████████▍| 15/16 [02:13<00:08,  8.74s/it]"
     ]
    },
    {
     "name": "stdout",
     "output_type": "stream",
     "text": [
      "BU01 BU08 0 1\n",
      "<class 'str'> <class 'str'> <class 'numpy.int64'> 1\n",
      "BU01 BU08 0 1\n",
      "<class 'str'> <class 'str'> <class 'numpy.int64'> 1\n",
      "BU01 BU08 0 1\n",
      "<class 'str'> <class 'str'> <class 'numpy.int64'> 1\n",
      "BU01 BU08 0 1\n",
      "<class 'str'> <class 'str'> <class 'numpy.int64'> 1\n",
      "BU01 BU08 0 1\n",
      "<class 'str'> <class 'str'> <class 'numpy.int64'> 1\n",
      "BU01 BU08 0 1\n",
      "<class 'str'> <class 'str'> <class 'numpy.int64'> 1\n",
      "BU01 BU08 0 1\n",
      "<class 'str'> <class 'str'> <class 'numpy.int64'> 1\n"
     ]
    },
    {
     "name": "stderr",
     "output_type": "stream",
     "text": [
      "Evaluating TST sentences: 100%|██████████| 16/16 [02:22<00:00,  8.92s/it]"
     ]
    },
    {
     "name": "stdout",
     "output_type": "stream",
     "text": [
      "Exception at index: 4  \n",
      " with value: score\\_english=2,\n",
      "\n",
      "The text is written in English.\n",
      "\n",
      "score\\_comprehensibility=3,\n",
      "\n",
      "The text is comprehensible and easily understandable. It conveys the message that reducing meat consumption can have a positive impact on the environment. The simile \"driving from London to China and back in CO2 savings\" is a colorful and effective way to communicate the potential impact of such a change. The text suggests a small, manageable way to start making a change, which is practical and achievable. Overall, the text is fluent and effective in conveying its message.\n",
      "Exception at index: 8  \n",
      " with value: Score: 2_somewhat descriptive\n",
      "\n",
      "Explanation: This text is somewhat descriptive because it provides detailed information about the impact of reducing animal-based food consumption on CO2 emissions and the potential benefits for young people. It also creates a vivid image by using phrases such as \"super easy changes\" and \"a piece of cake\" to describe the process of swapping meals for plant-based options. However, the text is also concise and eliminates unnecessary details, focusing on conveying the message using minimal words. The text could be more descriptive by providing more specific examples of plant-based meals or snacks and the environmental impact of reducing animal-based food consumption. Additionally, the reference to a farm animal that rhymes with \"wow\" is a playful and descriptive touch, but it is not fully developed and could be expanded upon to add more detail and vividness to the text.\n",
      "Exception at index: 15  \n",
      " with value: Score: 2 (somewhat) concise/descriptive\n",
      "\n",
      "Explanation: This text is somewhat descriptive because it provides vivid and detailed information about the impact of reducing meat consumption on CO2 emissions, comparing it to driving a car from London to China and back. The text also describes the action of having meat only once a day instead of every meal as a small but fun step towards environmental protection and slowing down climate change. However, the text is also concise in a way that it aims to convey a message in a simple and clear manner, eliminating unnecessary details.\n",
      "Exception at index: 22  \n",
      " with value: Score: 2_somewhat concise/descriptive\n",
      "\n",
      "Explanation: This text is somewhat concise/descriptive because it conveys a message about the impact of food choices on climate change, but it does not provide a lot of vivid or detailed information. The text briefly mentions \"meaty meals,\" \"plant-based noms or snacks,\" and \"climate killers,\" but it does not offer specifics about what these things are or how they affect the environment. The text also has a conversational tone and uses some figurative language, which adds a bit of descriptiveness. Overall, the text focuses on conveying its message clearly and concisely, but it does include some descriptive elements.\n",
      "Exception at index: 36  \n",
      " with value: Score: 2_somewhat descriptive\n",
      "\n",
      "Explanation: The text does contain some descriptive elements, such as \"meaty eats\" and \"climate killers,\" which provide a more vivid image and evoke emotion around the subject of food choices and their impact on the climate. However, the text is also somewhat concise in its overall message, urging readers to make simple changes towards plant-based meals and snacks to reduce their carbon footprint. Therefore, the text falls in the middle of the scale, leaning slightly more towards descriptive than concise.\n",
      "Exception at index: 47  \n",
      " with value: Score for topic similarity: 3\n",
      "\n",
      "Explanation: The two texts have the same topic, which is reducing meat consumption to help the environment and slow down climate change. Both texts convey the idea that making a small change like eating meat less frequently can have a significant impact on reducing CO2 emissions. Text 2 even provides a specific example of skipping meat at one meal a day, which is similar to the example given in Text 1 of eating meat every other day instead of every day. Therefore, the topic similarity between the two texts is the same.\n",
      "Exception at index: 57  \n",
      " with value: Score: 2_somewhat descriptive\n",
      "\n",
      "Explanation: This text is somewhat descriptive because it provides some vivid information about the impact of reducing meat consumption on climate change, such as comparing it to driving a car from London to China and back. However, it is not predominantly descriptive because it does not provide many specific details about the meat reduction plan, such as the exact amount of CO2 that can be saved or how it was calculated. The text is also concise in some parts, such as the suggestion to cut down to only having meat once a day instead of three times.\n",
      "Exception at index: 64  \n",
      " with value: Score: 2_somewhat concise/descriptive\n",
      "\n",
      "Explanation: This text is somewhat concise because it gets straight to the point and conveys its message using relatively few words. However, it is also somewhat descriptive because it uses vivid language to create a picture of the impact of reducing animal food consumption, such as \"slash CO2 from food production by a whopping 68%\" and \"real culprits for climate chaos\". The text also uses exclamation marks and poses a question to engage the reader, which adds to its descriptive quality. Overall, the text strikes a balance between being concise and descriptive.\n",
      "Exception at index: 78  \n",
      " with value: Score: 2_somewhat concise/descriptive\n",
      "Explanation: The text provides some vivid language and imagery, such as \"slashing\" CO2 and \"blocking\" climate change, which adds a descriptive element. However, the text is also relatively concise and focuses on conveying a clear message about the impact of reducing animal food consumption on CO2 emissions. The text could be more descriptive by providing more specific details about the types of plant-based foods or snacks that can be swapped in, or by describing the potential benefits of these changes in more detail.\n",
      "Exception at index: 92  \n",
      " with value: Score: 2_somewhat concise/descriptive\n",
      "\n",
      "Explanation: This text provides some descriptive details about the impact of reducing animal-based foods on CO2 emissions and the effects of climate change, as well as suggesting a simple action to take (adding more plant-based meals). However, it is also concise in its language and does not provide overly detailed or vivid descriptions. The text also uses colloquial language and emojis, which can make it less formal and descriptive.\n",
      "Exception at index: 99  \n",
      " with value: Score: 2_somewhat descriptive\n",
      "\n",
      "Explanation: This text is somewhat descriptive because it provides some details about the benefits of reducing meat consumption, such as its impact on CO2 levels and the comparison to driving from London to China and back. However, it lacks vivid and detailed descriptions that could create a more robust image or evoke stronger emotions around the topic. The text also has concise elements, such as the suggestion to have meat only at dinner, which makes it less purely descriptive. Overall, the text effectively conveys the message of reducing meat consumption's positive impact, but it could be more descriptive with additional details and vivid language.\n",
      "Exception at index: 106  \n",
      " with value: Score: 2_somewhat descriptive\n",
      "\n",
      "Explanation: The text provides some descriptive elements, such as the use of figurative language (\"drop of, like, 68%\", \"brunt of climate change\") and suggestions for actions (\"enjoying more plant-based meals or snacks\"). However, the text is also somewhat concise, focusing on conveying the message rather than providing elaborate descriptions. The hint towards a farm animal that rhymes with \"wow\" adds a touch of descriptiveness, but this is not pursued further in the text.\n",
      "Exception at index: 109  \n",
      " with value: score\\_english=2,\n",
      "\n",
      "The text is written in English and uses appropriate grammar and vocabulary, with the exception of some informal language like \"Y'know\" and \"That's huge!\", but these do not significantly affect the fluency of the text.\n",
      "\n",
      "score\\_comprehensibility=3,\n",
      "\n",
      "The text is clear, easy to understand, and makes sense, with a coherent message and logical flow. The use of informal language and rhetorical questions adds to the comprehensibility of the text by making it more engaging and accessible to the reader. The reference to a \"farm animal that's just awful for the climate, and it kinda rhymes with 'wow'\" may be slightly confusing to some readers, but the overall meaning of the text is still comprehensible.\n",
      "Number of exceptions: 13\n"
     ]
    },
    {
     "name": "stderr",
     "output_type": "stream",
     "text": [
      "\n"
     ]
    }
   ],
   "source": [
    "df_eval = p.llm_evl(df_llm_tst,user_sentences)\n"
   ]
  },
  {
   "cell_type": "code",
   "execution_count": null,
   "id": "2bafb009",
   "metadata": {},
   "outputs": [],
   "source": []
  }
 ],
 "metadata": {
  "kernelspec": {
   "display_name": "llm-evaluate",
   "language": "python",
   "name": "python3"
  },
  "language_info": {
   "codemirror_mode": {
    "name": "ipython",
    "version": 3
   },
   "file_extension": ".py",
   "mimetype": "text/x-python",
   "name": "python",
   "nbconvert_exporter": "python",
   "pygments_lexer": "ipython3",
   "version": "3.11.7"
  }
 },
 "nbformat": 4,
 "nbformat_minor": 5
}
