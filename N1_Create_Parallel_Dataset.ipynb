{
 "cells": [
  {
   "cell_type": "code",
   "outputs": [],
   "source": [
    "import pandas as pd\n",
    "import os\n",
    "import sys\n",
    "import inspect\n",
    "import s1_parallel_dataset as ca\n",
    "\n",
    "# access parent directory from notebooks directory\n",
    "currentdir = os.path.dirname(os.path.abspath(inspect.getfile(inspect.currentframe())))\n",
    "parentdir = os.path.dirname(currentdir)\n",
    "sys.path.insert(0, parentdir)\n",
    "%load_ext autoreload\n",
    "%autoreload 2\n",
    "%reload_ext autoreload"
   ],
   "metadata": {
    "collapsed": false,
    "ExecuteTime": {
     "end_time": "2024-09-10T12:04:46.287485Z",
     "start_time": "2024-09-10T12:04:44.007266Z"
    }
   },
   "id": "23b2dec6ffcaf097",
   "execution_count": 1
  },
  {
   "cell_type": "markdown",
   "source": [
    "### Create Parallel Data Corpus\n"
   ],
   "metadata": {
    "collapsed": false
   },
   "id": "82c9f191a4805433"
  },
  {
   "cell_type": "code",
   "outputs": [
    {
     "data": {
      "text/plain": "(352, 9)"
     },
     "execution_count": 2,
     "metadata": {},
     "output_type": "execute_result"
    }
   ],
   "source": [
    "# options: 'open-mistral-nemo', 'mistral-large-latest','gpt-4o-mini','gpt-4o'\n",
    "\n",
    "df_chats = pd.read_csv('00_input_data/between_us_data_postprocessed.csv')\n",
    "df_chats.shape"
   ],
   "metadata": {
    "collapsed": false,
    "ExecuteTime": {
     "end_time": "2024-09-10T12:04:46.338176Z",
     "start_time": "2024-09-10T12:04:46.289653Z"
    }
   },
   "id": "732d54476796c83e",
   "execution_count": 2
  },
  {
   "cell_type": "markdown",
   "source": [
    "#### GPT-4o"
   ],
   "metadata": {
    "collapsed": false
   },
   "id": "de59ef6fd4e79bda"
  },
  {
   "cell_type": "code",
   "outputs": [
    {
     "name": "stderr",
     "output_type": "stream",
     "text": [
      "Creating Parallel Corpus...: 100%|██████████| 352/352 [04:17<00:00,  1.36it/s]\n"
     ]
    },
    {
     "data": {
      "text/plain": "   messageID                 timestamp  \\\n0          0  2024-06-27T08:18:26.161Z   \n1          1  2024-06-27T08:18:38.085Z   \n2          2  2024-06-27T08:18:51.835Z   \n3          3  2024-06-27T08:18:55.828Z   \n4          4  2024-06-27T08:19:13.433Z   \n\n                                            original  \\\n0                     What sports do you like to do?   \n1      I like doing some gym, and taking long walks.   \n2  I'm not so good at ball sports, but I still en...   \n3     I like team sports like football or basketball   \n4                I am horrible at ball sports hahaha   \n\n                                              output              model  \\\n0  {\\n  \"rewrittenSentence\": \"Which sports do you...  gpt-4o-2024-05-13   \n1  {\\n    \"rewrittenSentence\": \"I enjoy exercisin...  gpt-4o-2024-05-13   \n2  {\\n    \"rewrittenSentence\": \"I am not good at ...  gpt-4o-2024-05-13   \n3  {\\n    \"rewrittenSentence\": \"I like team sport...  gpt-4o-2024-05-13   \n4  {\\n    \"rewrittenSentence\": \"I am not good at ...  gpt-4o-2024-05-13   \n\n   prompt_tokens  completion_tokens           object promptID  \n0            108                 17  chat.completion      111  \n1            111                 17  chat.completion      111  \n2            114                 23  chat.completion      111  \n3            108                 19  chat.completion      111  \n4            107                 17  chat.completion      111  ",
      "text/html": "<div>\n<style scoped>\n    .dataframe tbody tr th:only-of-type {\n        vertical-align: middle;\n    }\n\n    .dataframe tbody tr th {\n        vertical-align: top;\n    }\n\n    .dataframe thead th {\n        text-align: right;\n    }\n</style>\n<table border=\"1\" class=\"dataframe\">\n  <thead>\n    <tr style=\"text-align: right;\">\n      <th></th>\n      <th>messageID</th>\n      <th>timestamp</th>\n      <th>original</th>\n      <th>output</th>\n      <th>model</th>\n      <th>prompt_tokens</th>\n      <th>completion_tokens</th>\n      <th>object</th>\n      <th>promptID</th>\n    </tr>\n  </thead>\n  <tbody>\n    <tr>\n      <th>0</th>\n      <td>0</td>\n      <td>2024-06-27T08:18:26.161Z</td>\n      <td>What sports do you like to do?</td>\n      <td>{\\n  \"rewrittenSentence\": \"Which sports do you...</td>\n      <td>gpt-4o-2024-05-13</td>\n      <td>108</td>\n      <td>17</td>\n      <td>chat.completion</td>\n      <td>111</td>\n    </tr>\n    <tr>\n      <th>1</th>\n      <td>1</td>\n      <td>2024-06-27T08:18:38.085Z</td>\n      <td>I like doing some gym, and taking long walks.</td>\n      <td>{\\n    \"rewrittenSentence\": \"I enjoy exercisin...</td>\n      <td>gpt-4o-2024-05-13</td>\n      <td>111</td>\n      <td>17</td>\n      <td>chat.completion</td>\n      <td>111</td>\n    </tr>\n    <tr>\n      <th>2</th>\n      <td>2</td>\n      <td>2024-06-27T08:18:51.835Z</td>\n      <td>I'm not so good at ball sports, but I still en...</td>\n      <td>{\\n    \"rewrittenSentence\": \"I am not good at ...</td>\n      <td>gpt-4o-2024-05-13</td>\n      <td>114</td>\n      <td>23</td>\n      <td>chat.completion</td>\n      <td>111</td>\n    </tr>\n    <tr>\n      <th>3</th>\n      <td>3</td>\n      <td>2024-06-27T08:18:55.828Z</td>\n      <td>I like team sports like football or basketball</td>\n      <td>{\\n    \"rewrittenSentence\": \"I like team sport...</td>\n      <td>gpt-4o-2024-05-13</td>\n      <td>108</td>\n      <td>19</td>\n      <td>chat.completion</td>\n      <td>111</td>\n    </tr>\n    <tr>\n      <th>4</th>\n      <td>4</td>\n      <td>2024-06-27T08:19:13.433Z</td>\n      <td>I am horrible at ball sports hahaha</td>\n      <td>{\\n    \"rewrittenSentence\": \"I am not good at ...</td>\n      <td>gpt-4o-2024-05-13</td>\n      <td>107</td>\n      <td>17</td>\n      <td>chat.completion</td>\n      <td>111</td>\n    </tr>\n  </tbody>\n</table>\n</div>"
     },
     "execution_count": 3,
     "metadata": {},
     "output_type": "execute_result"
    }
   ],
   "source": [
    "# this call creates a new dataframe with the parallel corpus, also saved as a csv file\n",
    "\n",
    "# gpt-4o\n",
    "df_gpt_pchats = ca.create_parallel_corpus(df_chats, 'gpt-4o')\n",
    "df_gpt_pchats.head()"
   ],
   "metadata": {
    "collapsed": false,
    "ExecuteTime": {
     "end_time": "2024-09-10T12:18:48.039721Z",
     "start_time": "2024-09-10T12:14:29.851198Z"
    }
   },
   "id": "6d62fce04fe0e608",
   "execution_count": 3
  },
  {
   "cell_type": "code",
   "outputs": [
    {
     "name": "stdout",
     "output_type": "stream",
     "text": [
      "wronglyParsed:  0\n"
     ]
    },
    {
     "data": {
      "text/plain": "   messageID                 timestamp  \\\n0          0  2024-06-27T08:18:26.161Z   \n1          1  2024-06-27T08:18:38.085Z   \n2          2  2024-06-27T08:18:51.835Z   \n3          3  2024-06-27T08:18:55.828Z   \n4          4  2024-06-27T08:19:13.433Z   \n\n                                            original  \\\n0                     What sports do you like to do?   \n1      I like doing some gym, and taking long walks.   \n2  I'm not so good at ball sports, but I still en...   \n3     I like team sports like football or basketball   \n4                I am horrible at ball sports hahaha   \n\n                                              output              model  \\\n0  {\\n  \"rewrittenSentence\": \"Which sports do you...  gpt-4o-2024-05-13   \n1  {\\n    \"rewrittenSentence\": \"I enjoy exercisin...  gpt-4o-2024-05-13   \n2  {\\n    \"rewrittenSentence\": \"I am not good at ...  gpt-4o-2024-05-13   \n3  {\\n    \"rewrittenSentence\": \"I like team sport...  gpt-4o-2024-05-13   \n4  {\\n    \"rewrittenSentence\": \"I am not good at ...  gpt-4o-2024-05-13   \n\n   prompt_tokens  completion_tokens           object promptID  \\\n0            108                 17  chat.completion      111   \n1            111                 17  chat.completion      111   \n2            114                 23  chat.completion      111   \n3            108                 19  chat.completion      111   \n4            107                 17  chat.completion      111   \n\n                                           rewritten  \n0        Which sports do you enjoy participating in?  \n1          I enjoy exercising and taking long walks.  \n2  I am not good at ball sports, but I still enjo...  \n3  I like team sports such as football or basketb...  \n4                      I am not good at ball sports.  ",
      "text/html": "<div>\n<style scoped>\n    .dataframe tbody tr th:only-of-type {\n        vertical-align: middle;\n    }\n\n    .dataframe tbody tr th {\n        vertical-align: top;\n    }\n\n    .dataframe thead th {\n        text-align: right;\n    }\n</style>\n<table border=\"1\" class=\"dataframe\">\n  <thead>\n    <tr style=\"text-align: right;\">\n      <th></th>\n      <th>messageID</th>\n      <th>timestamp</th>\n      <th>original</th>\n      <th>output</th>\n      <th>model</th>\n      <th>prompt_tokens</th>\n      <th>completion_tokens</th>\n      <th>object</th>\n      <th>promptID</th>\n      <th>rewritten</th>\n    </tr>\n  </thead>\n  <tbody>\n    <tr>\n      <th>0</th>\n      <td>0</td>\n      <td>2024-06-27T08:18:26.161Z</td>\n      <td>What sports do you like to do?</td>\n      <td>{\\n  \"rewrittenSentence\": \"Which sports do you...</td>\n      <td>gpt-4o-2024-05-13</td>\n      <td>108</td>\n      <td>17</td>\n      <td>chat.completion</td>\n      <td>111</td>\n      <td>Which sports do you enjoy participating in?</td>\n    </tr>\n    <tr>\n      <th>1</th>\n      <td>1</td>\n      <td>2024-06-27T08:18:38.085Z</td>\n      <td>I like doing some gym, and taking long walks.</td>\n      <td>{\\n    \"rewrittenSentence\": \"I enjoy exercisin...</td>\n      <td>gpt-4o-2024-05-13</td>\n      <td>111</td>\n      <td>17</td>\n      <td>chat.completion</td>\n      <td>111</td>\n      <td>I enjoy exercising and taking long walks.</td>\n    </tr>\n    <tr>\n      <th>2</th>\n      <td>2</td>\n      <td>2024-06-27T08:18:51.835Z</td>\n      <td>I'm not so good at ball sports, but I still en...</td>\n      <td>{\\n    \"rewrittenSentence\": \"I am not good at ...</td>\n      <td>gpt-4o-2024-05-13</td>\n      <td>114</td>\n      <td>23</td>\n      <td>chat.completion</td>\n      <td>111</td>\n      <td>I am not good at ball sports, but I still enjo...</td>\n    </tr>\n    <tr>\n      <th>3</th>\n      <td>3</td>\n      <td>2024-06-27T08:18:55.828Z</td>\n      <td>I like team sports like football or basketball</td>\n      <td>{\\n    \"rewrittenSentence\": \"I like team sport...</td>\n      <td>gpt-4o-2024-05-13</td>\n      <td>108</td>\n      <td>19</td>\n      <td>chat.completion</td>\n      <td>111</td>\n      <td>I like team sports such as football or basketb...</td>\n    </tr>\n    <tr>\n      <th>4</th>\n      <td>4</td>\n      <td>2024-06-27T08:19:13.433Z</td>\n      <td>I am horrible at ball sports hahaha</td>\n      <td>{\\n    \"rewrittenSentence\": \"I am not good at ...</td>\n      <td>gpt-4o-2024-05-13</td>\n      <td>107</td>\n      <td>17</td>\n      <td>chat.completion</td>\n      <td>111</td>\n      <td>I am not good at ball sports.</td>\n    </tr>\n  </tbody>\n</table>\n</div>"
     },
     "execution_count": 4,
     "metadata": {},
     "output_type": "execute_result"
    }
   ],
   "source": [
    "df_pchats = ca.parse_parallel_data(df_gpt_pchats)\n",
    "df_pchats.head()"
   ],
   "metadata": {
    "collapsed": false,
    "ExecuteTime": {
     "end_time": "2024-09-10T12:22:47.230877Z",
     "start_time": "2024-09-10T12:22:47.114827Z"
    }
   },
   "id": "5a2e3afe90fd36e",
   "execution_count": 4
  },
  {
   "cell_type": "code",
   "outputs": [
    {
     "data": {
      "text/plain": "                  timestamp  \\\n0  2024-06-27T08:18:26.161Z   \n1  2024-06-27T08:18:38.085Z   \n2  2024-06-27T08:18:51.835Z   \n3  2024-06-27T08:18:55.828Z   \n4  2024-06-27T08:19:13.433Z   \n\n                                           rewritten log_level  \\\n0        Which sports do you enjoy participating in?    docker   \n1          I enjoy exercising and taking long walks.    docker   \n2  I am not good at ball sports, but I still enjo...    docker   \n3  I like team sports such as football or basketb...    docker   \n4                      I am not good at ball sports.    docker   \n\n                                             message  \\\n0  {\"source\":\"stdout\",\"log\":\"{\\\"content\\\":\\\"What ...   \n1  {\"container_name\":\"/movez-chat-movez-chat-1\",\"...   \n2  {\"source\":\"stdout\",\"log\":\"{\\\"content\\\":\\\"I'm n...   \n3  {\"container_name\":\"/movez-chat-movez-chat-1\",\"...   \n4  {\"container_id\":\"04538756c9cc672ad707e82a4b1cf...   \n\n                                             content        fromUserId  \\\n0                     What sports do you like to do?  bf079e28c74b6404   \n1      I like doing some gym, and taking long walks.  f256ae32bf85de79   \n2  I'm not so good at ball sports, but I still en...  0475b4a5102ad017   \n3     I like team sports like football or basketball  7881bdd5596a3f86   \n4                I am horrible at ball sports hahaha  bf079e28c74b6404   \n\n           toUserId sessionId  word_count  messageID parallelSentence  \n0  0475b4a5102ad017      BU01           7          1             None  \n1  7881bdd5596a3f86      BU03           9          1             None  \n2  bf079e28c74b6404      BU02          12          2             None  \n3  f256ae32bf85de79      BU04           8          2             None  \n4  0475b4a5102ad017      BU01           7          2             None  ",
      "text/html": "<div>\n<style scoped>\n    .dataframe tbody tr th:only-of-type {\n        vertical-align: middle;\n    }\n\n    .dataframe tbody tr th {\n        vertical-align: top;\n    }\n\n    .dataframe thead th {\n        text-align: right;\n    }\n</style>\n<table border=\"1\" class=\"dataframe\">\n  <thead>\n    <tr style=\"text-align: right;\">\n      <th></th>\n      <th>timestamp</th>\n      <th>rewritten</th>\n      <th>log_level</th>\n      <th>message</th>\n      <th>content</th>\n      <th>fromUserId</th>\n      <th>toUserId</th>\n      <th>sessionId</th>\n      <th>word_count</th>\n      <th>messageID</th>\n      <th>parallelSentence</th>\n    </tr>\n  </thead>\n  <tbody>\n    <tr>\n      <th>0</th>\n      <td>2024-06-27T08:18:26.161Z</td>\n      <td>Which sports do you enjoy participating in?</td>\n      <td>docker</td>\n      <td>{\"source\":\"stdout\",\"log\":\"{\\\"content\\\":\\\"What ...</td>\n      <td>What sports do you like to do?</td>\n      <td>bf079e28c74b6404</td>\n      <td>0475b4a5102ad017</td>\n      <td>BU01</td>\n      <td>7</td>\n      <td>1</td>\n      <td>None</td>\n    </tr>\n    <tr>\n      <th>1</th>\n      <td>2024-06-27T08:18:38.085Z</td>\n      <td>I enjoy exercising and taking long walks.</td>\n      <td>docker</td>\n      <td>{\"container_name\":\"/movez-chat-movez-chat-1\",\"...</td>\n      <td>I like doing some gym, and taking long walks.</td>\n      <td>f256ae32bf85de79</td>\n      <td>7881bdd5596a3f86</td>\n      <td>BU03</td>\n      <td>9</td>\n      <td>1</td>\n      <td>None</td>\n    </tr>\n    <tr>\n      <th>2</th>\n      <td>2024-06-27T08:18:51.835Z</td>\n      <td>I am not good at ball sports, but I still enjo...</td>\n      <td>docker</td>\n      <td>{\"source\":\"stdout\",\"log\":\"{\\\"content\\\":\\\"I'm n...</td>\n      <td>I'm not so good at ball sports, but I still en...</td>\n      <td>0475b4a5102ad017</td>\n      <td>bf079e28c74b6404</td>\n      <td>BU02</td>\n      <td>12</td>\n      <td>2</td>\n      <td>None</td>\n    </tr>\n    <tr>\n      <th>3</th>\n      <td>2024-06-27T08:18:55.828Z</td>\n      <td>I like team sports such as football or basketb...</td>\n      <td>docker</td>\n      <td>{\"container_name\":\"/movez-chat-movez-chat-1\",\"...</td>\n      <td>I like team sports like football or basketball</td>\n      <td>7881bdd5596a3f86</td>\n      <td>f256ae32bf85de79</td>\n      <td>BU04</td>\n      <td>8</td>\n      <td>2</td>\n      <td>None</td>\n    </tr>\n    <tr>\n      <th>4</th>\n      <td>2024-06-27T08:19:13.433Z</td>\n      <td>I am not good at ball sports.</td>\n      <td>docker</td>\n      <td>{\"container_id\":\"04538756c9cc672ad707e82a4b1cf...</td>\n      <td>I am horrible at ball sports hahaha</td>\n      <td>bf079e28c74b6404</td>\n      <td>0475b4a5102ad017</td>\n      <td>BU01</td>\n      <td>7</td>\n      <td>2</td>\n      <td>None</td>\n    </tr>\n  </tbody>\n</table>\n</div>"
     },
     "execution_count": 5,
     "metadata": {},
     "output_type": "execute_result"
    }
   ],
   "source": [
    "df_gpt_chats = ca.merge_parallel_data(df_chats,df_pchats)\n",
    "df_gpt_chats.head()"
   ],
   "metadata": {
    "collapsed": false,
    "ExecuteTime": {
     "end_time": "2024-09-10T12:22:49.304650Z",
     "start_time": "2024-09-10T12:22:49.250785Z"
    }
   },
   "id": "c82e04a47c14db0f",
   "execution_count": 5
  },
  {
   "cell_type": "code",
   "outputs": [],
   "source": [
    "df_gpt_chats.to_csv('01_processed_input_data/between_us_data_parallel_gpt.csv', index=False)\n"
   ],
   "metadata": {
    "collapsed": false,
    "ExecuteTime": {
     "end_time": "2024-09-10T12:23:02.965402Z",
     "start_time": "2024-09-10T12:23:02.917465Z"
    }
   },
   "id": "60807979a2d713e2",
   "execution_count": 6
  },
  {
   "cell_type": "markdown",
   "source": [
    "#### Mistral-large-latest"
   ],
   "metadata": {
    "collapsed": false
   },
   "id": "88952edc91c0b790"
  },
  {
   "cell_type": "code",
   "outputs": [
    {
     "name": "stderr",
     "output_type": "stream",
     "text": [
      "Creating Parallel Corpus...: 100%|██████████| 352/352 [06:49<00:00,  1.16s/it]\n"
     ]
    },
    {
     "data": {
      "text/plain": "   messageID                 timestamp  \\\n0          0  2024-06-27T08:18:26.161Z   \n1          1  2024-06-27T08:18:38.085Z   \n2          2  2024-06-27T08:18:51.835Z   \n3          3  2024-06-27T08:18:55.828Z   \n4          4  2024-06-27T08:19:13.433Z   \n\n                                            original  \\\n0                     What sports do you like to do?   \n1      I like doing some gym, and taking long walks.   \n2  I'm not so good at ball sports, but I still en...   \n3     I like team sports like football or basketball   \n4                I am horrible at ball sports hahaha   \n\n                                              output                 model  \\\n0  {\"rewrittenSentence\": \"Which sports do you enj...  mistral-large-latest   \n1  {\"rewrittenSentence\": \"I enjoy exercising at t...  mistral-large-latest   \n2  {\\n        \"rewrittenSentence\": \"I am not skil...  mistral-large-latest   \n3  {\"rewrittenSentence\": \"I enjoy team sports suc...  mistral-large-latest   \n4  {\"rewrittenSentence\": \"I am bad at ball sports.\"}  mistral-large-latest   \n\n   prompt_tokens  completion_tokens           object promptID  \n0            107                 17  chat.completion      111  \n1            110                 21  chat.completion      111  \n2            115                 28  chat.completion      111  \n3            107                 19  chat.completion      111  \n4            108                 16  chat.completion      111  ",
      "text/html": "<div>\n<style scoped>\n    .dataframe tbody tr th:only-of-type {\n        vertical-align: middle;\n    }\n\n    .dataframe tbody tr th {\n        vertical-align: top;\n    }\n\n    .dataframe thead th {\n        text-align: right;\n    }\n</style>\n<table border=\"1\" class=\"dataframe\">\n  <thead>\n    <tr style=\"text-align: right;\">\n      <th></th>\n      <th>messageID</th>\n      <th>timestamp</th>\n      <th>original</th>\n      <th>output</th>\n      <th>model</th>\n      <th>prompt_tokens</th>\n      <th>completion_tokens</th>\n      <th>object</th>\n      <th>promptID</th>\n    </tr>\n  </thead>\n  <tbody>\n    <tr>\n      <th>0</th>\n      <td>0</td>\n      <td>2024-06-27T08:18:26.161Z</td>\n      <td>What sports do you like to do?</td>\n      <td>{\"rewrittenSentence\": \"Which sports do you enj...</td>\n      <td>mistral-large-latest</td>\n      <td>107</td>\n      <td>17</td>\n      <td>chat.completion</td>\n      <td>111</td>\n    </tr>\n    <tr>\n      <th>1</th>\n      <td>1</td>\n      <td>2024-06-27T08:18:38.085Z</td>\n      <td>I like doing some gym, and taking long walks.</td>\n      <td>{\"rewrittenSentence\": \"I enjoy exercising at t...</td>\n      <td>mistral-large-latest</td>\n      <td>110</td>\n      <td>21</td>\n      <td>chat.completion</td>\n      <td>111</td>\n    </tr>\n    <tr>\n      <th>2</th>\n      <td>2</td>\n      <td>2024-06-27T08:18:51.835Z</td>\n      <td>I'm not so good at ball sports, but I still en...</td>\n      <td>{\\n        \"rewrittenSentence\": \"I am not skil...</td>\n      <td>mistral-large-latest</td>\n      <td>115</td>\n      <td>28</td>\n      <td>chat.completion</td>\n      <td>111</td>\n    </tr>\n    <tr>\n      <th>3</th>\n      <td>3</td>\n      <td>2024-06-27T08:18:55.828Z</td>\n      <td>I like team sports like football or basketball</td>\n      <td>{\"rewrittenSentence\": \"I enjoy team sports suc...</td>\n      <td>mistral-large-latest</td>\n      <td>107</td>\n      <td>19</td>\n      <td>chat.completion</td>\n      <td>111</td>\n    </tr>\n    <tr>\n      <th>4</th>\n      <td>4</td>\n      <td>2024-06-27T08:19:13.433Z</td>\n      <td>I am horrible at ball sports hahaha</td>\n      <td>{\"rewrittenSentence\": \"I am bad at ball sports.\"}</td>\n      <td>mistral-large-latest</td>\n      <td>108</td>\n      <td>16</td>\n      <td>chat.completion</td>\n      <td>111</td>\n    </tr>\n  </tbody>\n</table>\n</div>"
     },
     "execution_count": 7,
     "metadata": {},
     "output_type": "execute_result"
    }
   ],
   "source": [
    "# mistral-large-latest\n",
    "df_mistral_pchats = ca.create_parallel_corpus(df_chats, 'mistral-large-latest')\n",
    "df_mistral_pchats.head()"
   ],
   "metadata": {
    "collapsed": false,
    "ExecuteTime": {
     "end_time": "2024-09-10T12:30:33.511525Z",
     "start_time": "2024-09-10T12:23:44.351330Z"
    }
   },
   "id": "c88dacca1dd8402b",
   "execution_count": 7
  },
  {
   "cell_type": "code",
   "outputs": [
    {
     "name": "stdout",
     "output_type": "stream",
     "text": [
      "wronglyParsed:  0\n"
     ]
    },
    {
     "data": {
      "text/plain": "     messageID                 timestamp  \\\n0            0  2024-06-27T08:18:26.161Z   \n1            1  2024-06-27T08:18:38.085Z   \n2            2  2024-06-27T08:18:51.835Z   \n3            3  2024-06-27T08:18:55.828Z   \n4            4  2024-06-27T08:19:13.433Z   \n..         ...                       ...   \n347        347  2024-06-28T09:54:01.405Z   \n348        348  2024-06-28T09:54:27.010Z   \n349        349  2024-06-28T09:54:35.065Z   \n350        350  2024-06-28T09:54:58.740Z   \n351        351  2024-06-28T09:55:20.068Z   \n\n                                              original  \\\n0                       What sports do you like to do?   \n1        I like doing some gym, and taking long walks.   \n2    I'm not so good at ball sports, but I still en...   \n3       I like team sports like football or basketball   \n4                  I am horrible at ball sports hahaha   \n..                                                 ...   \n347                      i also think those are boring   \n348                  just sweaty people running around   \n349  Exactly wht sports make you feel strassed and ...   \n350  I think it makes me feel stressed because I'm ...   \n351       belief in yourself! your are not that bad!!!   \n\n                                                output                 model  \\\n0    {\"rewrittenSentence\": \"Which sports do you enj...  mistral-large-latest   \n1    {\"rewrittenSentence\": \"I enjoy exercising at t...  mistral-large-latest   \n2    {\\n        \"rewrittenSentence\": \"I am not skil...  mistral-large-latest   \n3    {\"rewrittenSentence\": \"I enjoy team sports suc...  mistral-large-latest   \n4    {\"rewrittenSentence\": \"I am bad at ball sports.\"}  mistral-large-latest   \n..                                                 ...                   ...   \n347  {\"rewrittenSentence\": \"Those are also consider...  mistral-large-latest   \n348  {\\n      \"rewrittenSentence\": \"People running ...  mistral-large-latest   \n349  {\"rewrittenSentence\": \"Which sports make you f...  mistral-large-latest   \n350  {\"rewrittenSentence\": \"It makes me feel stress...  mistral-large-latest   \n351  {\\n        \"rewrittenSentence\": \"Believe in yo...  mistral-large-latest   \n\n     prompt_tokens  completion_tokens           object promptID  \\\n0              107                 17  chat.completion      111   \n1              110                 21  chat.completion      111   \n2              115                 28  chat.completion      111   \n3              107                 19  chat.completion      111   \n4              108                 16  chat.completion      111   \n..             ...                ...              ...      ...   \n347            105                 16  chat.completion      111   \n348            105                 21  chat.completion      111   \n349            113                 18  chat.completion      111   \n350            114                 21  chat.completion      111   \n351            110                 25  chat.completion      111   \n\n                                             rewritten  \n0          Which sports do you enjoy participating in?  \n1    I enjoy exercising at the gym and taking long ...  \n2    I am not skilled at ball sports, but I still e...  \n3    I enjoy team sports such as football or basket...  \n4                             I am bad at ball sports.  \n..                                                 ...  \n347                  Those are also considered boring.  \n348                People running around and sweating.  \n349     Which sports make you feel stressed and tired?  \n350  It makes me feel stressed because I am bad at it.  \n351         Believe in yourself. You are not that bad.  \n\n[352 rows x 10 columns]",
      "text/html": "<div>\n<style scoped>\n    .dataframe tbody tr th:only-of-type {\n        vertical-align: middle;\n    }\n\n    .dataframe tbody tr th {\n        vertical-align: top;\n    }\n\n    .dataframe thead th {\n        text-align: right;\n    }\n</style>\n<table border=\"1\" class=\"dataframe\">\n  <thead>\n    <tr style=\"text-align: right;\">\n      <th></th>\n      <th>messageID</th>\n      <th>timestamp</th>\n      <th>original</th>\n      <th>output</th>\n      <th>model</th>\n      <th>prompt_tokens</th>\n      <th>completion_tokens</th>\n      <th>object</th>\n      <th>promptID</th>\n      <th>rewritten</th>\n    </tr>\n  </thead>\n  <tbody>\n    <tr>\n      <th>0</th>\n      <td>0</td>\n      <td>2024-06-27T08:18:26.161Z</td>\n      <td>What sports do you like to do?</td>\n      <td>{\"rewrittenSentence\": \"Which sports do you enj...</td>\n      <td>mistral-large-latest</td>\n      <td>107</td>\n      <td>17</td>\n      <td>chat.completion</td>\n      <td>111</td>\n      <td>Which sports do you enjoy participating in?</td>\n    </tr>\n    <tr>\n      <th>1</th>\n      <td>1</td>\n      <td>2024-06-27T08:18:38.085Z</td>\n      <td>I like doing some gym, and taking long walks.</td>\n      <td>{\"rewrittenSentence\": \"I enjoy exercising at t...</td>\n      <td>mistral-large-latest</td>\n      <td>110</td>\n      <td>21</td>\n      <td>chat.completion</td>\n      <td>111</td>\n      <td>I enjoy exercising at the gym and taking long ...</td>\n    </tr>\n    <tr>\n      <th>2</th>\n      <td>2</td>\n      <td>2024-06-27T08:18:51.835Z</td>\n      <td>I'm not so good at ball sports, but I still en...</td>\n      <td>{\\n        \"rewrittenSentence\": \"I am not skil...</td>\n      <td>mistral-large-latest</td>\n      <td>115</td>\n      <td>28</td>\n      <td>chat.completion</td>\n      <td>111</td>\n      <td>I am not skilled at ball sports, but I still e...</td>\n    </tr>\n    <tr>\n      <th>3</th>\n      <td>3</td>\n      <td>2024-06-27T08:18:55.828Z</td>\n      <td>I like team sports like football or basketball</td>\n      <td>{\"rewrittenSentence\": \"I enjoy team sports suc...</td>\n      <td>mistral-large-latest</td>\n      <td>107</td>\n      <td>19</td>\n      <td>chat.completion</td>\n      <td>111</td>\n      <td>I enjoy team sports such as football or basket...</td>\n    </tr>\n    <tr>\n      <th>4</th>\n      <td>4</td>\n      <td>2024-06-27T08:19:13.433Z</td>\n      <td>I am horrible at ball sports hahaha</td>\n      <td>{\"rewrittenSentence\": \"I am bad at ball sports.\"}</td>\n      <td>mistral-large-latest</td>\n      <td>108</td>\n      <td>16</td>\n      <td>chat.completion</td>\n      <td>111</td>\n      <td>I am bad at ball sports.</td>\n    </tr>\n    <tr>\n      <th>...</th>\n      <td>...</td>\n      <td>...</td>\n      <td>...</td>\n      <td>...</td>\n      <td>...</td>\n      <td>...</td>\n      <td>...</td>\n      <td>...</td>\n      <td>...</td>\n      <td>...</td>\n    </tr>\n    <tr>\n      <th>347</th>\n      <td>347</td>\n      <td>2024-06-28T09:54:01.405Z</td>\n      <td>i also think those are boring</td>\n      <td>{\"rewrittenSentence\": \"Those are also consider...</td>\n      <td>mistral-large-latest</td>\n      <td>105</td>\n      <td>16</td>\n      <td>chat.completion</td>\n      <td>111</td>\n      <td>Those are also considered boring.</td>\n    </tr>\n    <tr>\n      <th>348</th>\n      <td>348</td>\n      <td>2024-06-28T09:54:27.010Z</td>\n      <td>just sweaty people running around</td>\n      <td>{\\n      \"rewrittenSentence\": \"People running ...</td>\n      <td>mistral-large-latest</td>\n      <td>105</td>\n      <td>21</td>\n      <td>chat.completion</td>\n      <td>111</td>\n      <td>People running around and sweating.</td>\n    </tr>\n    <tr>\n      <th>349</th>\n      <td>349</td>\n      <td>2024-06-28T09:54:35.065Z</td>\n      <td>Exactly wht sports make you feel strassed and ...</td>\n      <td>{\"rewrittenSentence\": \"Which sports make you f...</td>\n      <td>mistral-large-latest</td>\n      <td>113</td>\n      <td>18</td>\n      <td>chat.completion</td>\n      <td>111</td>\n      <td>Which sports make you feel stressed and tired?</td>\n    </tr>\n    <tr>\n      <th>350</th>\n      <td>350</td>\n      <td>2024-06-28T09:54:58.740Z</td>\n      <td>I think it makes me feel stressed because I'm ...</td>\n      <td>{\"rewrittenSentence\": \"It makes me feel stress...</td>\n      <td>mistral-large-latest</td>\n      <td>114</td>\n      <td>21</td>\n      <td>chat.completion</td>\n      <td>111</td>\n      <td>It makes me feel stressed because I am bad at it.</td>\n    </tr>\n    <tr>\n      <th>351</th>\n      <td>351</td>\n      <td>2024-06-28T09:55:20.068Z</td>\n      <td>belief in yourself! your are not that bad!!!</td>\n      <td>{\\n        \"rewrittenSentence\": \"Believe in yo...</td>\n      <td>mistral-large-latest</td>\n      <td>110</td>\n      <td>25</td>\n      <td>chat.completion</td>\n      <td>111</td>\n      <td>Believe in yourself. You are not that bad.</td>\n    </tr>\n  </tbody>\n</table>\n<p>352 rows × 10 columns</p>\n</div>"
     },
     "execution_count": 8,
     "metadata": {},
     "output_type": "execute_result"
    }
   ],
   "source": [
    "df_pchats = ca.parse_parallel_data(df_mistral_pchats)\n",
    "df_pchats"
   ],
   "metadata": {
    "collapsed": false,
    "ExecuteTime": {
     "end_time": "2024-09-10T12:30:36.554117Z",
     "start_time": "2024-09-10T12:30:36.373193Z"
    }
   },
   "id": "99ed598f57bbf60a",
   "execution_count": 8
  },
  {
   "cell_type": "code",
   "outputs": [
    {
     "data": {
      "text/plain": "                    timestamp  \\\n0    2024-06-27T08:18:26.161Z   \n1    2024-06-27T08:18:38.085Z   \n2    2024-06-27T08:18:51.835Z   \n3    2024-06-27T08:18:55.828Z   \n4    2024-06-27T08:19:13.433Z   \n..                        ...   \n347  2024-06-28T09:54:01.405Z   \n348  2024-06-28T09:54:27.010Z   \n349  2024-06-28T09:54:35.065Z   \n350  2024-06-28T09:54:58.740Z   \n351  2024-06-28T09:55:20.068Z   \n\n                                             rewritten log_level  \\\n0          Which sports do you enjoy participating in?    docker   \n1    I enjoy exercising at the gym and taking long ...    docker   \n2    I am not skilled at ball sports, but I still e...    docker   \n3    I enjoy team sports such as football or basket...    docker   \n4                             I am bad at ball sports.    docker   \n..                                                 ...       ...   \n347                  Those are also considered boring.    docker   \n348                People running around and sweating.    docker   \n349     Which sports make you feel stressed and tired?    docker   \n350  It makes me feel stressed because I am bad at it.    docker   \n351         Believe in yourself. You are not that bad.    docker   \n\n                                               message  \\\n0    {\"source\":\"stdout\",\"log\":\"{\\\"content\\\":\\\"What ...   \n1    {\"container_name\":\"/movez-chat-movez-chat-1\",\"...   \n2    {\"source\":\"stdout\",\"log\":\"{\\\"content\\\":\\\"I'm n...   \n3    {\"container_name\":\"/movez-chat-movez-chat-1\",\"...   \n4    {\"container_id\":\"04538756c9cc672ad707e82a4b1cf...   \n..                                                 ...   \n347  {\"container_id\":\"8895013e2e9d3e00a535250c74749...   \n348  {\"container_id\":\"8895013e2e9d3e00a535250c74749...   \n349  {\"source\":\"stdout\",\"log\":\"{\\\"content\\\":\\\"Exact...   \n350  {\"log\":\"{\\\"content\\\":\\\"I think it makes me fee...   \n351  {\"log\":\"{\\\"content\\\":\\\"belief in yourself! you...   \n\n                                               content        fromUserId  \\\n0                       What sports do you like to do?  bf079e28c74b6404   \n1        I like doing some gym, and taking long walks.  f256ae32bf85de79   \n2    I'm not so good at ball sports, but I still en...  0475b4a5102ad017   \n3       I like team sports like football or basketball  7881bdd5596a3f86   \n4                  I am horrible at ball sports hahaha  bf079e28c74b6404   \n..                                                 ...               ...   \n347                      i also think those are boring  0a88167b60546b3a   \n348                  just sweaty people running around  0a88167b60546b3a   \n349  Exactly wht sports make you feel strassed and ...  4ed7d8e521bef3cd   \n350  I think it makes me feel stressed because I'm ...  0a88167b60546b3a   \n351       belief in yourself! your are not that bad!!!  0d526f8eb7177c76   \n\n             toUserId sessionId  word_count  messageID parallelSentence  \n0    0475b4a5102ad017      BU01           7          1             None  \n1    7881bdd5596a3f86      BU03           9          1             None  \n2    bf079e28c74b6404      BU02          12          2             None  \n3    f256ae32bf85de79      BU04           8          2             None  \n4    0475b4a5102ad017      BU01           7          2             None  \n..                ...       ...         ...        ...              ...  \n347  9b658ac45526e7be      BU06           6        187             None  \n348  9b658ac45526e7be      BU06           5        190             None  \n349  9b658ac45526e7be      BU07           9         60             None  \n350  9b658ac45526e7be      BU06          13        193             None  \n351  9b658ac45526e7be      BU08           8        113             None  \n\n[352 rows x 11 columns]",
      "text/html": "<div>\n<style scoped>\n    .dataframe tbody tr th:only-of-type {\n        vertical-align: middle;\n    }\n\n    .dataframe tbody tr th {\n        vertical-align: top;\n    }\n\n    .dataframe thead th {\n        text-align: right;\n    }\n</style>\n<table border=\"1\" class=\"dataframe\">\n  <thead>\n    <tr style=\"text-align: right;\">\n      <th></th>\n      <th>timestamp</th>\n      <th>rewritten</th>\n      <th>log_level</th>\n      <th>message</th>\n      <th>content</th>\n      <th>fromUserId</th>\n      <th>toUserId</th>\n      <th>sessionId</th>\n      <th>word_count</th>\n      <th>messageID</th>\n      <th>parallelSentence</th>\n    </tr>\n  </thead>\n  <tbody>\n    <tr>\n      <th>0</th>\n      <td>2024-06-27T08:18:26.161Z</td>\n      <td>Which sports do you enjoy participating in?</td>\n      <td>docker</td>\n      <td>{\"source\":\"stdout\",\"log\":\"{\\\"content\\\":\\\"What ...</td>\n      <td>What sports do you like to do?</td>\n      <td>bf079e28c74b6404</td>\n      <td>0475b4a5102ad017</td>\n      <td>BU01</td>\n      <td>7</td>\n      <td>1</td>\n      <td>None</td>\n    </tr>\n    <tr>\n      <th>1</th>\n      <td>2024-06-27T08:18:38.085Z</td>\n      <td>I enjoy exercising at the gym and taking long ...</td>\n      <td>docker</td>\n      <td>{\"container_name\":\"/movez-chat-movez-chat-1\",\"...</td>\n      <td>I like doing some gym, and taking long walks.</td>\n      <td>f256ae32bf85de79</td>\n      <td>7881bdd5596a3f86</td>\n      <td>BU03</td>\n      <td>9</td>\n      <td>1</td>\n      <td>None</td>\n    </tr>\n    <tr>\n      <th>2</th>\n      <td>2024-06-27T08:18:51.835Z</td>\n      <td>I am not skilled at ball sports, but I still e...</td>\n      <td>docker</td>\n      <td>{\"source\":\"stdout\",\"log\":\"{\\\"content\\\":\\\"I'm n...</td>\n      <td>I'm not so good at ball sports, but I still en...</td>\n      <td>0475b4a5102ad017</td>\n      <td>bf079e28c74b6404</td>\n      <td>BU02</td>\n      <td>12</td>\n      <td>2</td>\n      <td>None</td>\n    </tr>\n    <tr>\n      <th>3</th>\n      <td>2024-06-27T08:18:55.828Z</td>\n      <td>I enjoy team sports such as football or basket...</td>\n      <td>docker</td>\n      <td>{\"container_name\":\"/movez-chat-movez-chat-1\",\"...</td>\n      <td>I like team sports like football or basketball</td>\n      <td>7881bdd5596a3f86</td>\n      <td>f256ae32bf85de79</td>\n      <td>BU04</td>\n      <td>8</td>\n      <td>2</td>\n      <td>None</td>\n    </tr>\n    <tr>\n      <th>4</th>\n      <td>2024-06-27T08:19:13.433Z</td>\n      <td>I am bad at ball sports.</td>\n      <td>docker</td>\n      <td>{\"container_id\":\"04538756c9cc672ad707e82a4b1cf...</td>\n      <td>I am horrible at ball sports hahaha</td>\n      <td>bf079e28c74b6404</td>\n      <td>0475b4a5102ad017</td>\n      <td>BU01</td>\n      <td>7</td>\n      <td>2</td>\n      <td>None</td>\n    </tr>\n    <tr>\n      <th>...</th>\n      <td>...</td>\n      <td>...</td>\n      <td>...</td>\n      <td>...</td>\n      <td>...</td>\n      <td>...</td>\n      <td>...</td>\n      <td>...</td>\n      <td>...</td>\n      <td>...</td>\n      <td>...</td>\n    </tr>\n    <tr>\n      <th>347</th>\n      <td>2024-06-28T09:54:01.405Z</td>\n      <td>Those are also considered boring.</td>\n      <td>docker</td>\n      <td>{\"container_id\":\"8895013e2e9d3e00a535250c74749...</td>\n      <td>i also think those are boring</td>\n      <td>0a88167b60546b3a</td>\n      <td>9b658ac45526e7be</td>\n      <td>BU06</td>\n      <td>6</td>\n      <td>187</td>\n      <td>None</td>\n    </tr>\n    <tr>\n      <th>348</th>\n      <td>2024-06-28T09:54:27.010Z</td>\n      <td>People running around and sweating.</td>\n      <td>docker</td>\n      <td>{\"container_id\":\"8895013e2e9d3e00a535250c74749...</td>\n      <td>just sweaty people running around</td>\n      <td>0a88167b60546b3a</td>\n      <td>9b658ac45526e7be</td>\n      <td>BU06</td>\n      <td>5</td>\n      <td>190</td>\n      <td>None</td>\n    </tr>\n    <tr>\n      <th>349</th>\n      <td>2024-06-28T09:54:35.065Z</td>\n      <td>Which sports make you feel stressed and tired?</td>\n      <td>docker</td>\n      <td>{\"source\":\"stdout\",\"log\":\"{\\\"content\\\":\\\"Exact...</td>\n      <td>Exactly wht sports make you feel strassed and ...</td>\n      <td>4ed7d8e521bef3cd</td>\n      <td>9b658ac45526e7be</td>\n      <td>BU07</td>\n      <td>9</td>\n      <td>60</td>\n      <td>None</td>\n    </tr>\n    <tr>\n      <th>350</th>\n      <td>2024-06-28T09:54:58.740Z</td>\n      <td>It makes me feel stressed because I am bad at it.</td>\n      <td>docker</td>\n      <td>{\"log\":\"{\\\"content\\\":\\\"I think it makes me fee...</td>\n      <td>I think it makes me feel stressed because I'm ...</td>\n      <td>0a88167b60546b3a</td>\n      <td>9b658ac45526e7be</td>\n      <td>BU06</td>\n      <td>13</td>\n      <td>193</td>\n      <td>None</td>\n    </tr>\n    <tr>\n      <th>351</th>\n      <td>2024-06-28T09:55:20.068Z</td>\n      <td>Believe in yourself. You are not that bad.</td>\n      <td>docker</td>\n      <td>{\"log\":\"{\\\"content\\\":\\\"belief in yourself! you...</td>\n      <td>belief in yourself! your are not that bad!!!</td>\n      <td>0d526f8eb7177c76</td>\n      <td>9b658ac45526e7be</td>\n      <td>BU08</td>\n      <td>8</td>\n      <td>113</td>\n      <td>None</td>\n    </tr>\n  </tbody>\n</table>\n<p>352 rows × 11 columns</p>\n</div>"
     },
     "execution_count": 9,
     "metadata": {},
     "output_type": "execute_result"
    }
   ],
   "source": [
    "df_mistral_chats = ca.merge_parallel_data(df_chats,df_pchats)\n",
    "df_mistral_chats"
   ],
   "metadata": {
    "collapsed": false,
    "ExecuteTime": {
     "end_time": "2024-09-10T12:30:37.932276Z",
     "start_time": "2024-09-10T12:30:37.866925Z"
    }
   },
   "id": "3348844b9476cdfa",
   "execution_count": 9
  },
  {
   "cell_type": "code",
   "outputs": [],
   "source": [
    "df_mistral_chats.to_csv('01_processed_input_data/between_us_data_parallel_mistral.csv', index=False)\n"
   ],
   "metadata": {
    "collapsed": false,
    "ExecuteTime": {
     "end_time": "2024-09-10T12:30:41.877665Z",
     "start_time": "2024-09-10T12:30:41.831733Z"
    }
   },
   "id": "4452ed814eef8bc4",
   "execution_count": 10
  },
  {
   "cell_type": "markdown",
   "source": [
    "### Create k-shot data per participant"
   ],
   "metadata": {
    "collapsed": false
   },
   "id": "2693e69a80f8df35"
  },
  {
   "cell_type": "code",
   "outputs": [],
   "source": [
    "df_gpt_chats = pd.read_csv('01_processed_input_data/between_us_data_parallel_gpt.csv')\n",
    "\n",
    "df_five_shots = ca.get_k_shots(df_gpt_chats,5,'gpt')\n",
    "df_ten_shots = ca.get_k_shots(df_gpt_chats,10,'gpt')\n",
    "df_twenty_shots = ca.get_k_shots(df_gpt_chats,20,'gpt')\n",
    "df_all_shots = ca.get_all_shots(df_gpt_chats,'gpt')\n"
   ],
   "metadata": {
    "collapsed": false,
    "ExecuteTime": {
     "end_time": "2024-09-10T12:51:40.518310Z",
     "start_time": "2024-09-10T12:51:40.426056Z"
    }
   },
   "id": "b81943803d41cc4d",
   "execution_count": 19
  },
  {
   "cell_type": "code",
   "outputs": [],
   "source": [
    "df_mistral_chats = pd.read_csv('01_processed_input_data/between_us_data_parallel_mistral.csv')\n",
    "\n",
    "df_five_shots = ca.get_k_shots(df_mistral_chats,5,'mistral')\n",
    "df_ten_shots = ca.get_k_shots(df_mistral_chats,10,'mistral')\n",
    "df_twenty_shots = ca.get_k_shots(df_mistral_chats,20,'mistral')\n",
    "df_all_shots = ca.get_all_shots(df_mistral_chats,'mistral')\n"
   ],
   "metadata": {
    "collapsed": false,
    "ExecuteTime": {
     "end_time": "2024-09-10T12:51:41.179773Z",
     "start_time": "2024-09-10T12:51:41.108819Z"
    }
   },
   "id": "dcc9dd4fbdef267a",
   "execution_count": 20
  },
  {
   "cell_type": "code",
   "outputs": [],
   "source": [],
   "metadata": {
    "collapsed": false
   },
   "id": "e5f598462e0a0ec6"
  }
 ],
 "metadata": {
  "kernelspec": {
   "name": "python3",
   "language": "python",
   "display_name": "Python 3 (ipykernel)"
  },
  "language_info": {
   "codemirror_mode": {
    "name": "ipython",
    "version": 3
   },
   "file_extension": ".py",
   "mimetype": "text/x-python",
   "name": "python",
   "nbconvert_exporter": "python",
   "pygments_lexer": "ipython3",
   "version": "3.11.7"
  }
 },
 "nbformat": 4,
 "nbformat_minor": 5
}
